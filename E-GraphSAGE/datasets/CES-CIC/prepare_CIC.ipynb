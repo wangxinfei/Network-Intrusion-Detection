{
 "cells": [
  {
   "cell_type": "code",
   "execution_count": 27,
   "metadata": {},
   "outputs": [],
   "source": [
    "import numpy as np\n",
    "import pandas as pd"
   ]
  },
  {
   "cell_type": "code",
   "execution_count": 28,
   "metadata": {},
   "outputs": [],
   "source": [
    "cic = pd.read_csv(\"02-14-2018.csv\")"
   ]
  },
  {
   "cell_type": "code",
   "execution_count": 29,
   "metadata": {},
   "outputs": [],
   "source": [
    "cols = cic.columns\n",
    "intcol = cic.select_dtypes(include='int64').columns\n",
    "floatcol = cic.select_dtypes(include='float').columns\n",
    "obcol = cic.select_dtypes(include='object').columns\n",
    "dtype_dict = {}\n",
    "for col in cols:\n",
    "    if col in intcol:\n",
    "        dtype_dict[col] = np.int32\n",
    "    elif col in floatcol:\n",
    "        dtype_dict[col] = np.float64\n",
    "    else:\n",
    "        dtype_dict[col] = np.object"
   ]
  },
  {
   "cell_type": "code",
   "execution_count": 30,
   "metadata": {},
   "outputs": [
    {
     "data": {
      "text/plain": [
       "{'Dst Port': numpy.int32,\n",
       " 'Protocol': numpy.int32,\n",
       " 'Timestamp': object,\n",
       " 'Flow Duration': numpy.int32,\n",
       " 'Tot Fwd Pkts': numpy.int32,\n",
       " 'Tot Bwd Pkts': numpy.int32,\n",
       " 'TotLen Fwd Pkts': numpy.int32,\n",
       " 'TotLen Bwd Pkts': numpy.int32,\n",
       " 'Fwd Pkt Len Max': numpy.int32,\n",
       " 'Fwd Pkt Len Min': numpy.int32,\n",
       " 'Fwd Pkt Len Mean': numpy.float64,\n",
       " 'Fwd Pkt Len Std': numpy.float64,\n",
       " 'Bwd Pkt Len Max': numpy.int32,\n",
       " 'Bwd Pkt Len Min': numpy.int32,\n",
       " 'Bwd Pkt Len Mean': numpy.float64,\n",
       " 'Bwd Pkt Len Std': numpy.float64,\n",
       " 'Flow Byts/s': numpy.float64,\n",
       " 'Flow Pkts/s': numpy.float64,\n",
       " 'Flow IAT Mean': numpy.float64,\n",
       " 'Flow IAT Std': numpy.float64,\n",
       " 'Flow IAT Max': numpy.int32,\n",
       " 'Flow IAT Min': numpy.int32,\n",
       " 'Fwd IAT Tot': numpy.int32,\n",
       " 'Fwd IAT Mean': numpy.float64,\n",
       " 'Fwd IAT Std': numpy.float64,\n",
       " 'Fwd IAT Max': numpy.int32,\n",
       " 'Fwd IAT Min': numpy.int32,\n",
       " 'Bwd IAT Tot': numpy.int32,\n",
       " 'Bwd IAT Mean': numpy.float64,\n",
       " 'Bwd IAT Std': numpy.float64,\n",
       " 'Bwd IAT Max': numpy.int32,\n",
       " 'Bwd IAT Min': numpy.int32,\n",
       " 'Fwd PSH Flags': numpy.int32,\n",
       " 'Bwd PSH Flags': numpy.int32,\n",
       " 'Fwd URG Flags': numpy.int32,\n",
       " 'Bwd URG Flags': numpy.int32,\n",
       " 'Fwd Header Len': numpy.int32,\n",
       " 'Bwd Header Len': numpy.int32,\n",
       " 'Fwd Pkts/s': numpy.float64,\n",
       " 'Bwd Pkts/s': numpy.float64,\n",
       " 'Pkt Len Min': numpy.int32,\n",
       " 'Pkt Len Max': numpy.int32,\n",
       " 'Pkt Len Mean': numpy.float64,\n",
       " 'Pkt Len Std': numpy.float64,\n",
       " 'Pkt Len Var': numpy.float64,\n",
       " 'FIN Flag Cnt': numpy.int32,\n",
       " 'SYN Flag Cnt': numpy.int32,\n",
       " 'RST Flag Cnt': numpy.int32,\n",
       " 'PSH Flag Cnt': numpy.int32,\n",
       " 'ACK Flag Cnt': numpy.int32,\n",
       " 'URG Flag Cnt': numpy.int32,\n",
       " 'CWE Flag Count': numpy.int32,\n",
       " 'ECE Flag Cnt': numpy.int32,\n",
       " 'Down/Up Ratio': numpy.int32,\n",
       " 'Pkt Size Avg': numpy.float64,\n",
       " 'Fwd Seg Size Avg': numpy.float64,\n",
       " 'Bwd Seg Size Avg': numpy.float64,\n",
       " 'Fwd Byts/b Avg': numpy.int32,\n",
       " 'Fwd Pkts/b Avg': numpy.int32,\n",
       " 'Fwd Blk Rate Avg': numpy.int32,\n",
       " 'Bwd Byts/b Avg': numpy.int32,\n",
       " 'Bwd Pkts/b Avg': numpy.int32,\n",
       " 'Bwd Blk Rate Avg': numpy.int32,\n",
       " 'Subflow Fwd Pkts': numpy.int32,\n",
       " 'Subflow Fwd Byts': numpy.int32,\n",
       " 'Subflow Bwd Pkts': numpy.int32,\n",
       " 'Subflow Bwd Byts': numpy.int32,\n",
       " 'Init Fwd Win Byts': numpy.int32,\n",
       " 'Init Bwd Win Byts': numpy.int32,\n",
       " 'Fwd Act Data Pkts': numpy.int32,\n",
       " 'Fwd Seg Size Min': numpy.int32,\n",
       " 'Active Mean': numpy.float64,\n",
       " 'Active Std': numpy.float64,\n",
       " 'Active Max': numpy.int32,\n",
       " 'Active Min': numpy.int32,\n",
       " 'Idle Mean': numpy.float64,\n",
       " 'Idle Std': numpy.float64,\n",
       " 'Idle Max': numpy.int32,\n",
       " 'Idle Min': numpy.int32,\n",
       " 'Label': object}"
      ]
     },
     "execution_count": 30,
     "metadata": {},
     "output_type": "execute_result"
    }
   ],
   "source": [
    "dtype_dict"
   ]
  },
  {
   "cell_type": "code",
   "execution_count": 31,
   "metadata": {},
   "outputs": [
    {
     "data": {
      "text/html": [
       "<div>\n",
       "<style scoped>\n",
       "    .dataframe tbody tr th:only-of-type {\n",
       "        vertical-align: middle;\n",
       "    }\n",
       "\n",
       "    .dataframe tbody tr th {\n",
       "        vertical-align: top;\n",
       "    }\n",
       "\n",
       "    .dataframe thead th {\n",
       "        text-align: right;\n",
       "    }\n",
       "</style>\n",
       "<table border=\"1\" class=\"dataframe\">\n",
       "  <thead>\n",
       "    <tr style=\"text-align: right;\">\n",
       "      <th></th>\n",
       "      <th>Dst Port</th>\n",
       "      <th>Protocol</th>\n",
       "      <th>Timestamp</th>\n",
       "      <th>Flow Duration</th>\n",
       "      <th>Tot Fwd Pkts</th>\n",
       "      <th>Tot Bwd Pkts</th>\n",
       "      <th>TotLen Fwd Pkts</th>\n",
       "      <th>TotLen Bwd Pkts</th>\n",
       "      <th>Fwd Pkt Len Max</th>\n",
       "      <th>Fwd Pkt Len Min</th>\n",
       "      <th>...</th>\n",
       "      <th>Fwd Seg Size Min</th>\n",
       "      <th>Active Mean</th>\n",
       "      <th>Active Std</th>\n",
       "      <th>Active Max</th>\n",
       "      <th>Active Min</th>\n",
       "      <th>Idle Mean</th>\n",
       "      <th>Idle Std</th>\n",
       "      <th>Idle Max</th>\n",
       "      <th>Idle Min</th>\n",
       "      <th>Label</th>\n",
       "    </tr>\n",
       "  </thead>\n",
       "  <tbody>\n",
       "    <tr>\n",
       "      <th>0</th>\n",
       "      <td>0</td>\n",
       "      <td>0</td>\n",
       "      <td>14/02/2018 08:31:01</td>\n",
       "      <td>112641719</td>\n",
       "      <td>3</td>\n",
       "      <td>0</td>\n",
       "      <td>0</td>\n",
       "      <td>0</td>\n",
       "      <td>0</td>\n",
       "      <td>0</td>\n",
       "      <td>...</td>\n",
       "      <td>0</td>\n",
       "      <td>0.0</td>\n",
       "      <td>0.0</td>\n",
       "      <td>0</td>\n",
       "      <td>0</td>\n",
       "      <td>56320859.5</td>\n",
       "      <td>139.300036</td>\n",
       "      <td>56320958</td>\n",
       "      <td>56320761</td>\n",
       "      <td>Benign</td>\n",
       "    </tr>\n",
       "    <tr>\n",
       "      <th>1</th>\n",
       "      <td>0</td>\n",
       "      <td>0</td>\n",
       "      <td>14/02/2018 08:33:50</td>\n",
       "      <td>112641466</td>\n",
       "      <td>3</td>\n",
       "      <td>0</td>\n",
       "      <td>0</td>\n",
       "      <td>0</td>\n",
       "      <td>0</td>\n",
       "      <td>0</td>\n",
       "      <td>...</td>\n",
       "      <td>0</td>\n",
       "      <td>0.0</td>\n",
       "      <td>0.0</td>\n",
       "      <td>0</td>\n",
       "      <td>0</td>\n",
       "      <td>56320733.0</td>\n",
       "      <td>114.551299</td>\n",
       "      <td>56320814</td>\n",
       "      <td>56320652</td>\n",
       "      <td>Benign</td>\n",
       "    </tr>\n",
       "    <tr>\n",
       "      <th>2</th>\n",
       "      <td>0</td>\n",
       "      <td>0</td>\n",
       "      <td>14/02/2018 08:36:39</td>\n",
       "      <td>112638623</td>\n",
       "      <td>3</td>\n",
       "      <td>0</td>\n",
       "      <td>0</td>\n",
       "      <td>0</td>\n",
       "      <td>0</td>\n",
       "      <td>0</td>\n",
       "      <td>...</td>\n",
       "      <td>0</td>\n",
       "      <td>0.0</td>\n",
       "      <td>0.0</td>\n",
       "      <td>0</td>\n",
       "      <td>0</td>\n",
       "      <td>56319311.5</td>\n",
       "      <td>301.934596</td>\n",
       "      <td>56319525</td>\n",
       "      <td>56319098</td>\n",
       "      <td>Benign</td>\n",
       "    </tr>\n",
       "    <tr>\n",
       "      <th>3</th>\n",
       "      <td>22</td>\n",
       "      <td>6</td>\n",
       "      <td>14/02/2018 08:40:13</td>\n",
       "      <td>6453966</td>\n",
       "      <td>15</td>\n",
       "      <td>10</td>\n",
       "      <td>1239</td>\n",
       "      <td>2273</td>\n",
       "      <td>744</td>\n",
       "      <td>0</td>\n",
       "      <td>...</td>\n",
       "      <td>32</td>\n",
       "      <td>0.0</td>\n",
       "      <td>0.0</td>\n",
       "      <td>0</td>\n",
       "      <td>0</td>\n",
       "      <td>0.0</td>\n",
       "      <td>0.000000</td>\n",
       "      <td>0</td>\n",
       "      <td>0</td>\n",
       "      <td>Benign</td>\n",
       "    </tr>\n",
       "    <tr>\n",
       "      <th>4</th>\n",
       "      <td>22</td>\n",
       "      <td>6</td>\n",
       "      <td>14/02/2018 08:40:23</td>\n",
       "      <td>8804066</td>\n",
       "      <td>14</td>\n",
       "      <td>11</td>\n",
       "      <td>1143</td>\n",
       "      <td>2209</td>\n",
       "      <td>744</td>\n",
       "      <td>0</td>\n",
       "      <td>...</td>\n",
       "      <td>32</td>\n",
       "      <td>0.0</td>\n",
       "      <td>0.0</td>\n",
       "      <td>0</td>\n",
       "      <td>0</td>\n",
       "      <td>0.0</td>\n",
       "      <td>0.000000</td>\n",
       "      <td>0</td>\n",
       "      <td>0</td>\n",
       "      <td>Benign</td>\n",
       "    </tr>\n",
       "  </tbody>\n",
       "</table>\n",
       "<p>5 rows × 80 columns</p>\n",
       "</div>"
      ],
      "text/plain": [
       "   Dst Port  Protocol            Timestamp  Flow Duration  Tot Fwd Pkts  \\\n",
       "0         0         0  14/02/2018 08:31:01      112641719             3   \n",
       "1         0         0  14/02/2018 08:33:50      112641466             3   \n",
       "2         0         0  14/02/2018 08:36:39      112638623             3   \n",
       "3        22         6  14/02/2018 08:40:13        6453966            15   \n",
       "4        22         6  14/02/2018 08:40:23        8804066            14   \n",
       "\n",
       "   Tot Bwd Pkts  TotLen Fwd Pkts  TotLen Bwd Pkts  Fwd Pkt Len Max  \\\n",
       "0             0                0                0                0   \n",
       "1             0                0                0                0   \n",
       "2             0                0                0                0   \n",
       "3            10             1239             2273              744   \n",
       "4            11             1143             2209              744   \n",
       "\n",
       "   Fwd Pkt Len Min  ...  Fwd Seg Size Min  Active Mean  Active Std  \\\n",
       "0                0  ...                 0          0.0         0.0   \n",
       "1                0  ...                 0          0.0         0.0   \n",
       "2                0  ...                 0          0.0         0.0   \n",
       "3                0  ...                32          0.0         0.0   \n",
       "4                0  ...                32          0.0         0.0   \n",
       "\n",
       "   Active Max  Active Min   Idle Mean    Idle Std  Idle Max  Idle Min   Label  \n",
       "0           0           0  56320859.5  139.300036  56320958  56320761  Benign  \n",
       "1           0           0  56320733.0  114.551299  56320814  56320652  Benign  \n",
       "2           0           0  56319311.5  301.934596  56319525  56319098  Benign  \n",
       "3           0           0         0.0    0.000000         0         0  Benign  \n",
       "4           0           0         0.0    0.000000         0         0  Benign  \n",
       "\n",
       "[5 rows x 80 columns]"
      ]
     },
     "execution_count": 31,
     "metadata": {},
     "output_type": "execute_result"
    }
   ],
   "source": [
    "cic = pd.read_csv(\"02-14-2018.csv\", dtype=dtype_dict)\n",
    "cic.head()"
   ]
  },
  {
   "cell_type": "code",
   "execution_count": 32,
   "metadata": {},
   "outputs": [
    {
     "data": {
      "text/plain": [
       "(1048575, 80)"
      ]
     },
     "execution_count": 32,
     "metadata": {},
     "output_type": "execute_result"
    }
   ],
   "source": [
    "cic.shape"
   ]
  },
  {
   "cell_type": "code",
   "execution_count": 33,
   "metadata": {},
   "outputs": [
    {
     "data": {
      "text/plain": [
       "array(['Benign', 'FTP-BruteForce', 'SSH-Bruteforce'], dtype=object)"
      ]
     },
     "execution_count": 33,
     "metadata": {},
     "output_type": "execute_result"
    }
   ],
   "source": [
    "cic[\"Label\"].unique()"
   ]
  },
  {
   "cell_type": "code",
   "execution_count": 34,
   "metadata": {},
   "outputs": [],
   "source": [
    "cic[\"Label\"].replace({'FTP-BruteForce':'BruteForce', 'SSH-Bruteforce':'BruteForce'}, inplace=True)"
   ]
  },
  {
   "cell_type": "code",
   "execution_count": 35,
   "metadata": {},
   "outputs": [
    {
     "data": {
      "text/plain": [
       "18256"
      ]
     },
     "execution_count": 35,
     "metadata": {},
     "output_type": "execute_result"
    }
   ],
   "source": [
    "idx = np.random.permutation(len(cic))\n",
    "cic_ = cic.iloc[idx[:50000]]\n",
    "(cic_[\"Label\"] == \"BruteForce\").sum()"
   ]
  },
  {
   "cell_type": "code",
   "execution_count": 36,
   "metadata": {},
   "outputs": [],
   "source": [
    "_cic = cic_.copy()\n",
    "_cic['Dst IP'] = \"18.217.21.148\""
   ]
  },
  {
   "cell_type": "code",
   "execution_count": 37,
   "metadata": {},
   "outputs": [
    {
     "name": "stderr",
     "output_type": "stream",
     "text": [
      "C:\\Users\\Zethc\\anaconda3\\lib\\site-packages\\pandas\\core\\ops\\array_ops.py:253: FutureWarning: elementwise comparison failed; returning scalar instead, but in the future will perform elementwise comparison\n",
      "  res_values = method(rvalues)\n"
     ]
    },
    {
     "data": {
      "text/plain": [
       "0"
      ]
     },
     "execution_count": 37,
     "metadata": {},
     "output_type": "execute_result"
    }
   ],
   "source": [
    "(_cic.iloc[:,1] == 'Protocol').sum()"
   ]
  },
  {
   "cell_type": "markdown",
   "metadata": {},
   "source": [
    "## CIC2 2/15"
   ]
  },
  {
   "cell_type": "code",
   "execution_count": 38,
   "metadata": {},
   "outputs": [
    {
     "data": {
      "text/plain": [
       "array(['Benign', 'DoS attacks-GoldenEye', 'DoS attacks-Slowloris'],\n",
       "      dtype=object)"
      ]
     },
     "execution_count": 38,
     "metadata": {},
     "output_type": "execute_result"
    }
   ],
   "source": [
    "cic_2 = pd.read_csv(\"02-15-2018.csv\", dtype=dtype_dict)\n",
    "cic_2[\"Label\"].unique()"
   ]
  },
  {
   "cell_type": "code",
   "execution_count": 39,
   "metadata": {},
   "outputs": [
    {
     "data": {
      "text/plain": [
       "2534"
      ]
     },
     "execution_count": 39,
     "metadata": {},
     "output_type": "execute_result"
    }
   ],
   "source": [
    "cic_2[\"Label\"].replace({'DoS attacks-GoldenEye':'DoS', 'DoS attacks-Slowloris':'DoS'}, inplace=True)\n",
    "idx = np.random.permutation(len(cic_2))\n",
    "cic_2_ = cic_2.iloc[idx[:50000]]\n",
    "(cic_2_[\"Label\"] == \"DoS\").sum()"
   ]
  },
  {
   "cell_type": "code",
   "execution_count": 40,
   "metadata": {},
   "outputs": [],
   "source": [
    "_cic2 = cic_2_.copy()\n",
    "_cic2['Dst IP'] = \"18.217.21.148\""
   ]
  },
  {
   "cell_type": "markdown",
   "metadata": {},
   "source": [
    "## CIC3 2/16"
   ]
  },
  {
   "cell_type": "code",
   "execution_count": 42,
   "metadata": {},
   "outputs": [
    {
     "name": "stderr",
     "output_type": "stream",
     "text": [
      "C:\\Users\\Zethc\\anaconda3\\lib\\site-packages\\IPython\\core\\interactiveshell.py:3063: DtypeWarning: Columns (0,1,3,4,5,6,7,8,9,10,11,12,13,14,15,16,17,18,19,20,21,22,23,24,25,26,27,28,29,30,31,32,33,34,35,36,37,38,39,40,41,42,43,44,45,46,47,48,49,50,51,52,53,54,55,56,57,58,59,60,61,62,63,64,65,66,67,68,69,70,71,72,73,74,75,76,77,78) have mixed types.Specify dtype option on import or set low_memory=False.\n",
      "  interactivity=interactivity, compiler=compiler, result=result)\n"
     ]
    },
    {
     "data": {
      "text/plain": [
       "array(['Benign', 'DoS attacks-SlowHTTPTest', 'DoS attacks-Hulk', 'Label'],\n",
       "      dtype=object)"
      ]
     },
     "execution_count": 42,
     "metadata": {},
     "output_type": "execute_result"
    }
   ],
   "source": [
    "cic_3 = pd.read_csv(\"02-16-2018.csv\")\n",
    "cic_3[\"Label\"].unique()"
   ]
  },
  {
   "cell_type": "code",
   "execution_count": 45,
   "metadata": {},
   "outputs": [
    {
     "data": {
      "text/plain": [
       "1"
      ]
     },
     "execution_count": 45,
     "metadata": {},
     "output_type": "execute_result"
    }
   ],
   "source": [
    "(cic_3[\"Label\"] == \"Label\").sum()"
   ]
  },
  {
   "cell_type": "code",
   "execution_count": 43,
   "metadata": {},
   "outputs": [
    {
     "data": {
      "text/plain": [
       "139890"
      ]
     },
     "execution_count": 43,
     "metadata": {},
     "output_type": "execute_result"
    }
   ],
   "source": [
    "(cic_3[\"Label\"] == \"DoS attacks-SlowHTTPTest\").sum()"
   ]
  },
  {
   "cell_type": "code",
   "execution_count": 13,
   "metadata": {},
   "outputs": [
    {
     "data": {
      "text/plain": [
       "28694"
      ]
     },
     "execution_count": 13,
     "metadata": {},
     "output_type": "execute_result"
    }
   ],
   "source": [
    "cic_3[\"Label\"].replace({'DoS attacks-SlowHTTPTest':'DoS', 'DoS attacks-Hulk':'DoS', 'Label':'DoS'}, inplace=True)\n",
    "idx = np.random.permutation(len(cic_3))\n",
    "cic_3_ = cic_3.iloc[idx[:50000]]\n",
    "(cic_3_[\"Label\"] == \"DoS\").sum()"
   ]
  },
  {
   "cell_type": "code",
   "execution_count": 14,
   "metadata": {},
   "outputs": [],
   "source": [
    "_cic3 = cic_3_.copy()\n",
    "_cic3['Dst Port'] = \"18.217.21.148:\"+cic_3_['Dst Port'].astype(str)"
   ]
  },
  {
   "cell_type": "code",
   "execution_count": 15,
   "metadata": {},
   "outputs": [
    {
     "name": "stdout",
     "output_type": "stream",
     "text": [
      "<class 'pandas.core.frame.DataFrame'>\n",
      "Int64Index: 50000 entries, 975181 to 731200\n",
      "Data columns (total 80 columns):\n",
      " #   Column             Non-Null Count  Dtype \n",
      "---  ------             --------------  ----- \n",
      " 0   Dst Port           50000 non-null  object\n",
      " 1   Protocol           50000 non-null  object\n",
      " 2   Timestamp          50000 non-null  object\n",
      " 3   Flow Duration      50000 non-null  object\n",
      " 4   Tot Fwd Pkts       50000 non-null  object\n",
      " 5   Tot Bwd Pkts       50000 non-null  object\n",
      " 6   TotLen Fwd Pkts    50000 non-null  object\n",
      " 7   TotLen Bwd Pkts    50000 non-null  object\n",
      " 8   Fwd Pkt Len Max    50000 non-null  object\n",
      " 9   Fwd Pkt Len Min    50000 non-null  object\n",
      " 10  Fwd Pkt Len Mean   50000 non-null  object\n",
      " 11  Fwd Pkt Len Std    50000 non-null  object\n",
      " 12  Bwd Pkt Len Max    50000 non-null  object\n",
      " 13  Bwd Pkt Len Min    50000 non-null  object\n",
      " 14  Bwd Pkt Len Mean   50000 non-null  object\n",
      " 15  Bwd Pkt Len Std    50000 non-null  object\n",
      " 16  Flow Byts/s        50000 non-null  object\n",
      " 17  Flow Pkts/s        50000 non-null  object\n",
      " 18  Flow IAT Mean      50000 non-null  object\n",
      " 19  Flow IAT Std       50000 non-null  object\n",
      " 20  Flow IAT Max       50000 non-null  object\n",
      " 21  Flow IAT Min       50000 non-null  object\n",
      " 22  Fwd IAT Tot        50000 non-null  object\n",
      " 23  Fwd IAT Mean       50000 non-null  object\n",
      " 24  Fwd IAT Std        50000 non-null  object\n",
      " 25  Fwd IAT Max        50000 non-null  object\n",
      " 26  Fwd IAT Min        50000 non-null  object\n",
      " 27  Bwd IAT Tot        50000 non-null  object\n",
      " 28  Bwd IAT Mean       50000 non-null  object\n",
      " 29  Bwd IAT Std        50000 non-null  object\n",
      " 30  Bwd IAT Max        50000 non-null  object\n",
      " 31  Bwd IAT Min        50000 non-null  object\n",
      " 32  Fwd PSH Flags      50000 non-null  object\n",
      " 33  Bwd PSH Flags      50000 non-null  object\n",
      " 34  Fwd URG Flags      50000 non-null  object\n",
      " 35  Bwd URG Flags      50000 non-null  object\n",
      " 36  Fwd Header Len     50000 non-null  object\n",
      " 37  Bwd Header Len     50000 non-null  object\n",
      " 38  Fwd Pkts/s         50000 non-null  object\n",
      " 39  Bwd Pkts/s         50000 non-null  object\n",
      " 40  Pkt Len Min        50000 non-null  object\n",
      " 41  Pkt Len Max        50000 non-null  object\n",
      " 42  Pkt Len Mean       50000 non-null  object\n",
      " 43  Pkt Len Std        50000 non-null  object\n",
      " 44  Pkt Len Var        50000 non-null  object\n",
      " 45  FIN Flag Cnt       50000 non-null  object\n",
      " 46  SYN Flag Cnt       50000 non-null  object\n",
      " 47  RST Flag Cnt       50000 non-null  object\n",
      " 48  PSH Flag Cnt       50000 non-null  object\n",
      " 49  ACK Flag Cnt       50000 non-null  object\n",
      " 50  URG Flag Cnt       50000 non-null  object\n",
      " 51  CWE Flag Count     50000 non-null  object\n",
      " 52  ECE Flag Cnt       50000 non-null  object\n",
      " 53  Down/Up Ratio      50000 non-null  object\n",
      " 54  Pkt Size Avg       50000 non-null  object\n",
      " 55  Fwd Seg Size Avg   50000 non-null  object\n",
      " 56  Bwd Seg Size Avg   50000 non-null  object\n",
      " 57  Fwd Byts/b Avg     50000 non-null  object\n",
      " 58  Fwd Pkts/b Avg     50000 non-null  object\n",
      " 59  Fwd Blk Rate Avg   50000 non-null  object\n",
      " 60  Bwd Byts/b Avg     50000 non-null  object\n",
      " 61  Bwd Pkts/b Avg     50000 non-null  object\n",
      " 62  Bwd Blk Rate Avg   50000 non-null  object\n",
      " 63  Subflow Fwd Pkts   50000 non-null  object\n",
      " 64  Subflow Fwd Byts   50000 non-null  object\n",
      " 65  Subflow Bwd Pkts   50000 non-null  object\n",
      " 66  Subflow Bwd Byts   50000 non-null  object\n",
      " 67  Init Fwd Win Byts  50000 non-null  object\n",
      " 68  Init Bwd Win Byts  50000 non-null  object\n",
      " 69  Fwd Act Data Pkts  50000 non-null  object\n",
      " 70  Fwd Seg Size Min   50000 non-null  object\n",
      " 71  Active Mean        50000 non-null  object\n",
      " 72  Active Std         50000 non-null  object\n",
      " 73  Active Max         50000 non-null  object\n",
      " 74  Active Min         50000 non-null  object\n",
      " 75  Idle Mean          50000 non-null  object\n",
      " 76  Idle Std           50000 non-null  object\n",
      " 77  Idle Max           50000 non-null  object\n",
      " 78  Idle Min           50000 non-null  object\n",
      " 79  Label              50000 non-null  object\n",
      "dtypes: object(80)\n",
      "memory usage: 30.9+ MB\n"
     ]
    }
   ],
   "source": [
    "_cic3.info()"
   ]
  },
  {
   "cell_type": "markdown",
   "metadata": {},
   "source": [
    "## CIC4 2/21"
   ]
  },
  {
   "cell_type": "code",
   "execution_count": 46,
   "metadata": {},
   "outputs": [
    {
     "data": {
      "text/plain": [
       "array(['Benign', 'DDOS attack-LOIC-UDP', 'DDOS attack-HOIC'], dtype=object)"
      ]
     },
     "execution_count": 46,
     "metadata": {},
     "output_type": "execute_result"
    }
   ],
   "source": [
    "cic_4 = pd.read_csv(\"02-21-2018.csv\", dtype=dtype_dict)\n",
    "cic_4[\"Label\"].unique()"
   ]
  },
  {
   "cell_type": "code",
   "execution_count": 47,
   "metadata": {},
   "outputs": [
    {
     "data": {
      "text/plain": [
       "32730"
      ]
     },
     "execution_count": 47,
     "metadata": {},
     "output_type": "execute_result"
    }
   ],
   "source": [
    "cic_4[\"Label\"].replace({'DDOS attack-LOIC-UDP':'DDoS', 'DDOS attack-HOIC':'DDoS'}, inplace=True)\n",
    "idx = np.random.permutation(len(cic_4))\n",
    "cic_4_ = cic_4.iloc[idx[:50000]]\n",
    "(cic_4_[\"Label\"] == \"DDoS\").sum()"
   ]
  },
  {
   "cell_type": "code",
   "execution_count": 48,
   "metadata": {},
   "outputs": [],
   "source": [
    "_cic4 = cic_4_.copy()\n",
    "_cic4['Dst IP'] = \"18.218.83.150\""
   ]
  },
  {
   "cell_type": "markdown",
   "metadata": {},
   "source": [
    "## CIC5 2/22"
   ]
  },
  {
   "cell_type": "code",
   "execution_count": 49,
   "metadata": {},
   "outputs": [
    {
     "data": {
      "text/plain": [
       "array(['Benign', 'Brute Force -Web', 'Brute Force -XSS', 'SQL Injection'],\n",
       "      dtype=object)"
      ]
     },
     "execution_count": 49,
     "metadata": {},
     "output_type": "execute_result"
    }
   ],
   "source": [
    "cic_5 = pd.read_csv(\"02-22-2018.csv\")\n",
    "cic_5[\"Label\"].unique()"
   ]
  },
  {
   "cell_type": "code",
   "execution_count": 57,
   "metadata": {},
   "outputs": [
    {
     "data": {
      "text/plain": [
       "362"
      ]
     },
     "execution_count": 57,
     "metadata": {},
     "output_type": "execute_result"
    }
   ],
   "source": [
    "cic_5[\"Label\"].replace({'Brute Force -Web':'Web', 'Brute Force -XSS':'Web', 'SQL Injection':'Web'}, inplace=True)\n",
    "cic_5_ = cic_5[cic_5[\"Label\"] != 'Benign']\n",
    "len(cic_5_)"
   ]
  },
  {
   "cell_type": "code",
   "execution_count": 16,
   "metadata": {},
   "outputs": [
    {
     "data": {
      "text/plain": [
       "18"
      ]
     },
     "execution_count": 16,
     "metadata": {},
     "output_type": "execute_result"
    }
   ],
   "source": [
    "# cic_5[\"Label\"].replace({'Brute Force -Web':'Web', 'Brute Force -XSS':'Web', 'SQL Injection':'Web'}, inplace=True)\n",
    "# idx = np.random.permutation(len(cic_5))\n",
    "# cic_5_ = cic_5.iloc[idx[:50000]]\n",
    "# (cic_5_[\"Label\"] == \"Web\").sum()"
   ]
  },
  {
   "cell_type": "code",
   "execution_count": 58,
   "metadata": {},
   "outputs": [],
   "source": [
    "_cic5 = cic_5_.copy()\n",
    "_cic5['Dst IP'] = \"18.218.83.150\""
   ]
  },
  {
   "cell_type": "markdown",
   "metadata": {},
   "source": [
    "## CIC6 2/23"
   ]
  },
  {
   "cell_type": "code",
   "execution_count": 59,
   "metadata": {},
   "outputs": [
    {
     "data": {
      "text/plain": [
       "566"
      ]
     },
     "execution_count": 59,
     "metadata": {},
     "output_type": "execute_result"
    }
   ],
   "source": [
    "cic_6 = pd.read_csv(\"02-23-2018.csv\")\n",
    "cic_6[\"Label\"].replace({'Brute Force -Web':'Web', 'Brute Force -XSS':'Web', 'SQL Injection':'Web'}, inplace=True)\n",
    "cic_6_ = cic_6[cic_6[\"Label\"] != 'Benign']\n",
    "len(cic_6_)\n",
    "# idx = np.random.permutation(len(cic_6))\n",
    "# cic_6_ = cic_6.iloc[idx[:50000]]\n",
    "# (cic_6_[\"Label\"] == \"Web\").sum()"
   ]
  },
  {
   "cell_type": "code",
   "execution_count": 60,
   "metadata": {},
   "outputs": [],
   "source": [
    "_cic6 = cic_6_.copy()\n",
    "_cic6['Dst IP'] = \"18.218.83.150\""
   ]
  },
  {
   "cell_type": "markdown",
   "metadata": {},
   "source": [
    "## CIC7 2/28"
   ]
  },
  {
   "cell_type": "code",
   "execution_count": 104,
   "metadata": {},
   "outputs": [
    {
     "name": "stderr",
     "output_type": "stream",
     "text": [
      "C:\\Users\\Zethc\\anaconda3\\lib\\site-packages\\IPython\\core\\interactiveshell.py:3063: DtypeWarning: Columns (0,1,3,4,5,6,7,8,9,10,11,12,13,14,15,16,17,18,19,20,21,22,23,24,25,26,27,28,29,30,31,32,33,34,35,36,37,38,39,40,41,42,43,44,45,46,47,48,49,50,51,52,53,54,55,56,57,58,59,60,61,62,63,64,65,66,67,68,69,70,71,72,73,74,75,76,77,78) have mixed types.Specify dtype option on import or set low_memory=False.\n",
      "  interactivity=interactivity, compiler=compiler, result=result)\n"
     ]
    }
   ],
   "source": [
    "cic_7 = pd.read_csv(\"02-28-2018.csv\")\n",
    "cic_7 = cic_7.drop_duplicates().dropna().reset_index().drop('index', axis=1)\n",
    "cic_7 = cic_7.drop(21677).reset_index().drop('index', axis=1)"
   ]
  },
  {
   "cell_type": "code",
   "execution_count": 103,
   "metadata": {},
   "outputs": [
    {
     "data": {
      "text/plain": [
       "(array([21677], dtype=int64), array([0], dtype=int64))"
      ]
     },
     "execution_count": 103,
     "metadata": {},
     "output_type": "execute_result"
    }
   ],
   "source": [
    "# b = np.array(cic_7)\n",
    "# np.where(b == 'Dst Port')\n",
    "# b[21677, 1]"
   ]
  },
  {
   "cell_type": "code",
   "execution_count": 105,
   "metadata": {},
   "outputs": [],
   "source": [
    "a=cic_7.copy()\n",
    "for col in cols:\n",
    "    cic_7[[col]] = cic_7[[col]].astype(dtype_dict[col])"
   ]
  },
  {
   "cell_type": "code",
   "execution_count": 106,
   "metadata": {},
   "outputs": [
    {
     "name": "stdout",
     "output_type": "stream",
     "text": [
      "<class 'pandas.core.frame.DataFrame'>\n",
      "RangeIndex: 604635 entries, 0 to 604634\n",
      "Data columns (total 80 columns):\n",
      " #   Column             Non-Null Count   Dtype  \n",
      "---  ------             --------------   -----  \n",
      " 0   Dst Port           604635 non-null  int32  \n",
      " 1   Protocol           604635 non-null  int32  \n",
      " 2   Timestamp          604635 non-null  object \n",
      " 3   Flow Duration      604635 non-null  int32  \n",
      " 4   Tot Fwd Pkts       604635 non-null  int32  \n",
      " 5   Tot Bwd Pkts       604635 non-null  int32  \n",
      " 6   TotLen Fwd Pkts    604635 non-null  int32  \n",
      " 7   TotLen Bwd Pkts    604635 non-null  int32  \n",
      " 8   Fwd Pkt Len Max    604635 non-null  int32  \n",
      " 9   Fwd Pkt Len Min    604635 non-null  int32  \n",
      " 10  Fwd Pkt Len Mean   604635 non-null  float64\n",
      " 11  Fwd Pkt Len Std    604635 non-null  float64\n",
      " 12  Bwd Pkt Len Max    604635 non-null  int32  \n",
      " 13  Bwd Pkt Len Min    604635 non-null  int32  \n",
      " 14  Bwd Pkt Len Mean   604635 non-null  float64\n",
      " 15  Bwd Pkt Len Std    604635 non-null  float64\n",
      " 16  Flow Byts/s        604635 non-null  float64\n",
      " 17  Flow Pkts/s        604635 non-null  float64\n",
      " 18  Flow IAT Mean      604635 non-null  float64\n",
      " 19  Flow IAT Std       604635 non-null  float64\n",
      " 20  Flow IAT Max       604635 non-null  int32  \n",
      " 21  Flow IAT Min       604635 non-null  int32  \n",
      " 22  Fwd IAT Tot        604635 non-null  int32  \n",
      " 23  Fwd IAT Mean       604635 non-null  float64\n",
      " 24  Fwd IAT Std        604635 non-null  float64\n",
      " 25  Fwd IAT Max        604635 non-null  int32  \n",
      " 26  Fwd IAT Min        604635 non-null  int32  \n",
      " 27  Bwd IAT Tot        604635 non-null  int32  \n",
      " 28  Bwd IAT Mean       604635 non-null  float64\n",
      " 29  Bwd IAT Std        604635 non-null  float64\n",
      " 30  Bwd IAT Max        604635 non-null  int32  \n",
      " 31  Bwd IAT Min        604635 non-null  int32  \n",
      " 32  Fwd PSH Flags      604635 non-null  int32  \n",
      " 33  Bwd PSH Flags      604635 non-null  int32  \n",
      " 34  Fwd URG Flags      604635 non-null  int32  \n",
      " 35  Bwd URG Flags      604635 non-null  int32  \n",
      " 36  Fwd Header Len     604635 non-null  int32  \n",
      " 37  Bwd Header Len     604635 non-null  int32  \n",
      " 38  Fwd Pkts/s         604635 non-null  float64\n",
      " 39  Bwd Pkts/s         604635 non-null  float64\n",
      " 40  Pkt Len Min        604635 non-null  int32  \n",
      " 41  Pkt Len Max        604635 non-null  int32  \n",
      " 42  Pkt Len Mean       604635 non-null  float64\n",
      " 43  Pkt Len Std        604635 non-null  float64\n",
      " 44  Pkt Len Var        604635 non-null  float64\n",
      " 45  FIN Flag Cnt       604635 non-null  int32  \n",
      " 46  SYN Flag Cnt       604635 non-null  int32  \n",
      " 47  RST Flag Cnt       604635 non-null  int32  \n",
      " 48  PSH Flag Cnt       604635 non-null  int32  \n",
      " 49  ACK Flag Cnt       604635 non-null  int32  \n",
      " 50  URG Flag Cnt       604635 non-null  int32  \n",
      " 51  CWE Flag Count     604635 non-null  int32  \n",
      " 52  ECE Flag Cnt       604635 non-null  int32  \n",
      " 53  Down/Up Ratio      604635 non-null  int32  \n",
      " 54  Pkt Size Avg       604635 non-null  float64\n",
      " 55  Fwd Seg Size Avg   604635 non-null  float64\n",
      " 56  Bwd Seg Size Avg   604635 non-null  float64\n",
      " 57  Fwd Byts/b Avg     604635 non-null  int32  \n",
      " 58  Fwd Pkts/b Avg     604635 non-null  int32  \n",
      " 59  Fwd Blk Rate Avg   604635 non-null  int32  \n",
      " 60  Bwd Byts/b Avg     604635 non-null  int32  \n",
      " 61  Bwd Pkts/b Avg     604635 non-null  int32  \n",
      " 62  Bwd Blk Rate Avg   604635 non-null  int32  \n",
      " 63  Subflow Fwd Pkts   604635 non-null  int32  \n",
      " 64  Subflow Fwd Byts   604635 non-null  int32  \n",
      " 65  Subflow Bwd Pkts   604635 non-null  int32  \n",
      " 66  Subflow Bwd Byts   604635 non-null  int32  \n",
      " 67  Init Fwd Win Byts  604635 non-null  int32  \n",
      " 68  Init Bwd Win Byts  604635 non-null  int32  \n",
      " 69  Fwd Act Data Pkts  604635 non-null  int32  \n",
      " 70  Fwd Seg Size Min   604635 non-null  int32  \n",
      " 71  Active Mean        604635 non-null  float64\n",
      " 72  Active Std         604635 non-null  float64\n",
      " 73  Active Max         604635 non-null  int32  \n",
      " 74  Active Min         604635 non-null  int32  \n",
      " 75  Idle Mean          604635 non-null  float64\n",
      " 76  Idle Std           604635 non-null  float64\n",
      " 77  Idle Max           604635 non-null  int32  \n",
      " 78  Idle Min           604635 non-null  int32  \n",
      " 79  Label              604635 non-null  object \n",
      "dtypes: float64(24), int32(54), object(2)\n",
      "memory usage: 244.5+ MB\n"
     ]
    }
   ],
   "source": [
    "cic_7.info()"
   ]
  },
  {
   "cell_type": "code",
   "execution_count": 107,
   "metadata": {},
   "outputs": [
    {
     "data": {
      "text/plain": [
       "array(['Benign', 'Infilteration'], dtype=object)"
      ]
     },
     "execution_count": 107,
     "metadata": {},
     "output_type": "execute_result"
    }
   ],
   "source": [
    "cic_7['Label'].unique()"
   ]
  },
  {
   "cell_type": "code",
   "execution_count": 108,
   "metadata": {},
   "outputs": [
    {
     "data": {
      "text/plain": [
       "5688"
      ]
     },
     "execution_count": 108,
     "metadata": {},
     "output_type": "execute_result"
    }
   ],
   "source": [
    "# cic_7 = pd.read_csv(\"02-28-2018.csv\")\n",
    "# cic_7[\"Label\"].replace({'Label':'Infilteration'}, inplace=True)\n",
    "idx = np.random.permutation(len(cic_7))\n",
    "cic_7_ = cic_7.iloc[idx[:50000]]\n",
    "(cic_7_[\"Label\"] == \"Infilteration\").sum()"
   ]
  },
  {
   "cell_type": "code",
   "execution_count": 109,
   "metadata": {},
   "outputs": [],
   "source": [
    "_cic7 = cic_7_.copy()\n",
    "_cic7['Dst IP'] = \"18.221.148.137\""
   ]
  },
  {
   "cell_type": "markdown",
   "metadata": {},
   "source": [
    "## CIC8 3/2"
   ]
  },
  {
   "cell_type": "code",
   "execution_count": 112,
   "metadata": {},
   "outputs": [
    {
     "name": "stdout",
     "output_type": "stream",
     "text": [
      "['Benign' 'Bot']\n"
     ]
    },
    {
     "data": {
      "text/plain": [
       "13600"
      ]
     },
     "execution_count": 112,
     "metadata": {},
     "output_type": "execute_result"
    }
   ],
   "source": [
    "cic_8 = pd.read_csv(\"03-02-2018.csv\", dtype=dtype_dict)\n",
    "print(cic_8['Label'].unique())\n",
    "# cic_8[\"Label\"].replace({'Label':'Bot'}, inplace=True)\n",
    "idx = np.random.permutation(len(cic_8))\n",
    "cic_8_ = cic_8.iloc[idx[:50000]]\n",
    "(cic_8_[\"Label\"] == \"Bot\").sum()"
   ]
  },
  {
   "cell_type": "code",
   "execution_count": 113,
   "metadata": {},
   "outputs": [],
   "source": [
    "_cic8 = cic_8_.copy()\n",
    "_cic8['Dst IP'] = \"18.217.218.111\""
   ]
  },
  {
   "cell_type": "markdown",
   "metadata": {},
   "source": [
    "## Merge"
   ]
  },
  {
   "cell_type": "code",
   "execution_count": 114,
   "metadata": {},
   "outputs": [
    {
     "data": {
      "text/html": [
       "<div>\n",
       "<style scoped>\n",
       "    .dataframe tbody tr th:only-of-type {\n",
       "        vertical-align: middle;\n",
       "    }\n",
       "\n",
       "    .dataframe tbody tr th {\n",
       "        vertical-align: top;\n",
       "    }\n",
       "\n",
       "    .dataframe thead th {\n",
       "        text-align: right;\n",
       "    }\n",
       "</style>\n",
       "<table border=\"1\" class=\"dataframe\">\n",
       "  <thead>\n",
       "    <tr style=\"text-align: right;\">\n",
       "      <th></th>\n",
       "      <th>Dst Port</th>\n",
       "      <th>Protocol</th>\n",
       "      <th>Timestamp</th>\n",
       "      <th>Flow Duration</th>\n",
       "      <th>Tot Fwd Pkts</th>\n",
       "      <th>Tot Bwd Pkts</th>\n",
       "      <th>TotLen Fwd Pkts</th>\n",
       "      <th>TotLen Bwd Pkts</th>\n",
       "      <th>Fwd Pkt Len Max</th>\n",
       "      <th>Fwd Pkt Len Min</th>\n",
       "      <th>...</th>\n",
       "      <th>Active Mean</th>\n",
       "      <th>Active Std</th>\n",
       "      <th>Active Max</th>\n",
       "      <th>Active Min</th>\n",
       "      <th>Idle Mean</th>\n",
       "      <th>Idle Std</th>\n",
       "      <th>Idle Max</th>\n",
       "      <th>Idle Min</th>\n",
       "      <th>Label</th>\n",
       "      <th>Dst IP</th>\n",
       "    </tr>\n",
       "  </thead>\n",
       "  <tbody>\n",
       "    <tr>\n",
       "      <th>0</th>\n",
       "      <td>5355</td>\n",
       "      <td>17</td>\n",
       "      <td>14/02/2018 10:42:34</td>\n",
       "      <td>417990</td>\n",
       "      <td>2</td>\n",
       "      <td>0</td>\n",
       "      <td>44</td>\n",
       "      <td>0</td>\n",
       "      <td>22</td>\n",
       "      <td>22</td>\n",
       "      <td>...</td>\n",
       "      <td>0.0</td>\n",
       "      <td>0.0</td>\n",
       "      <td>0</td>\n",
       "      <td>0</td>\n",
       "      <td>0.0</td>\n",
       "      <td>0.0</td>\n",
       "      <td>0</td>\n",
       "      <td>0</td>\n",
       "      <td>Benign</td>\n",
       "      <td>18.217.21.148</td>\n",
       "    </tr>\n",
       "    <tr>\n",
       "      <th>1</th>\n",
       "      <td>53</td>\n",
       "      <td>17</td>\n",
       "      <td>14/02/2018 02:23:19</td>\n",
       "      <td>1924</td>\n",
       "      <td>1</td>\n",
       "      <td>1</td>\n",
       "      <td>31</td>\n",
       "      <td>158</td>\n",
       "      <td>31</td>\n",
       "      <td>31</td>\n",
       "      <td>...</td>\n",
       "      <td>0.0</td>\n",
       "      <td>0.0</td>\n",
       "      <td>0</td>\n",
       "      <td>0</td>\n",
       "      <td>0.0</td>\n",
       "      <td>0.0</td>\n",
       "      <td>0</td>\n",
       "      <td>0</td>\n",
       "      <td>Benign</td>\n",
       "      <td>18.217.21.148</td>\n",
       "    </tr>\n",
       "    <tr>\n",
       "      <th>2</th>\n",
       "      <td>21</td>\n",
       "      <td>6</td>\n",
       "      <td>14/02/2018 11:49:12</td>\n",
       "      <td>2</td>\n",
       "      <td>1</td>\n",
       "      <td>1</td>\n",
       "      <td>0</td>\n",
       "      <td>0</td>\n",
       "      <td>0</td>\n",
       "      <td>0</td>\n",
       "      <td>...</td>\n",
       "      <td>0.0</td>\n",
       "      <td>0.0</td>\n",
       "      <td>0</td>\n",
       "      <td>0</td>\n",
       "      <td>0.0</td>\n",
       "      <td>0.0</td>\n",
       "      <td>0</td>\n",
       "      <td>0</td>\n",
       "      <td>BruteForce</td>\n",
       "      <td>18.217.21.148</td>\n",
       "    </tr>\n",
       "    <tr>\n",
       "      <th>3</th>\n",
       "      <td>21</td>\n",
       "      <td>6</td>\n",
       "      <td>14/02/2018 10:37:31</td>\n",
       "      <td>1</td>\n",
       "      <td>1</td>\n",
       "      <td>1</td>\n",
       "      <td>0</td>\n",
       "      <td>0</td>\n",
       "      <td>0</td>\n",
       "      <td>0</td>\n",
       "      <td>...</td>\n",
       "      <td>0.0</td>\n",
       "      <td>0.0</td>\n",
       "      <td>0</td>\n",
       "      <td>0</td>\n",
       "      <td>0.0</td>\n",
       "      <td>0.0</td>\n",
       "      <td>0</td>\n",
       "      <td>0</td>\n",
       "      <td>BruteForce</td>\n",
       "      <td>18.217.21.148</td>\n",
       "    </tr>\n",
       "    <tr>\n",
       "      <th>4</th>\n",
       "      <td>445</td>\n",
       "      <td>6</td>\n",
       "      <td>14/02/2018 08:35:26</td>\n",
       "      <td>256951</td>\n",
       "      <td>2</td>\n",
       "      <td>0</td>\n",
       "      <td>1</td>\n",
       "      <td>0</td>\n",
       "      <td>1</td>\n",
       "      <td>0</td>\n",
       "      <td>...</td>\n",
       "      <td>0.0</td>\n",
       "      <td>0.0</td>\n",
       "      <td>0</td>\n",
       "      <td>0</td>\n",
       "      <td>0.0</td>\n",
       "      <td>0.0</td>\n",
       "      <td>0</td>\n",
       "      <td>0</td>\n",
       "      <td>Benign</td>\n",
       "      <td>18.217.21.148</td>\n",
       "    </tr>\n",
       "  </tbody>\n",
       "</table>\n",
       "<p>5 rows × 81 columns</p>\n",
       "</div>"
      ],
      "text/plain": [
       "   Dst Port  Protocol            Timestamp  Flow Duration  Tot Fwd Pkts  \\\n",
       "0      5355        17  14/02/2018 10:42:34         417990             2   \n",
       "1        53        17  14/02/2018 02:23:19           1924             1   \n",
       "2        21         6  14/02/2018 11:49:12              2             1   \n",
       "3        21         6  14/02/2018 10:37:31              1             1   \n",
       "4       445         6  14/02/2018 08:35:26         256951             2   \n",
       "\n",
       "   Tot Bwd Pkts  TotLen Fwd Pkts  TotLen Bwd Pkts  Fwd Pkt Len Max  \\\n",
       "0             0               44                0               22   \n",
       "1             1               31              158               31   \n",
       "2             1                0                0                0   \n",
       "3             1                0                0                0   \n",
       "4             0                1                0                1   \n",
       "\n",
       "   Fwd Pkt Len Min  ...  Active Mean  Active Std  Active Max  Active Min  \\\n",
       "0               22  ...          0.0         0.0           0           0   \n",
       "1               31  ...          0.0         0.0           0           0   \n",
       "2                0  ...          0.0         0.0           0           0   \n",
       "3                0  ...          0.0         0.0           0           0   \n",
       "4                0  ...          0.0         0.0           0           0   \n",
       "\n",
       "   Idle Mean  Idle Std  Idle Max  Idle Min       Label         Dst IP  \n",
       "0        0.0       0.0         0         0      Benign  18.217.21.148  \n",
       "1        0.0       0.0         0         0      Benign  18.217.21.148  \n",
       "2        0.0       0.0         0         0  BruteForce  18.217.21.148  \n",
       "3        0.0       0.0         0         0  BruteForce  18.217.21.148  \n",
       "4        0.0       0.0         0         0      Benign  18.217.21.148  \n",
       "\n",
       "[5 rows x 81 columns]"
      ]
     },
     "execution_count": 114,
     "metadata": {},
     "output_type": "execute_result"
    }
   ],
   "source": [
    "CIC = pd.concat([_cic,_cic2,_cic4,_cic5,_cic6,_cic7,_cic8], ignore_index=True)\n",
    "CIC.head()"
   ]
  },
  {
   "cell_type": "code",
   "execution_count": 115,
   "metadata": {},
   "outputs": [],
   "source": [
    "srcip_list = [\"172.16.0.1\",\"172.17.0.1\",\"172.18.0.1\",\"172.19.0.1\",\"172.20.0.1\",\"172.21.0.1\",\"172.22.0.1\",\"172.23.0.1\",\n",
    "              \"172.24.0.1\",\"172.25.0.1\",\"172.26.0.1\",\"172.27.0.1\",\"172.28.0.1\",\"172.29.0.1\",\"172.30.0.1\",\"172.31.0.1\"]\n",
    "CIC['Src IP'] = np.random.choice(srcip_list, CIC.shape[0])"
   ]
  },
  {
   "cell_type": "code",
   "execution_count": 116,
   "metadata": {},
   "outputs": [],
   "source": [
    "CIC['Src IP'] = CIC['Src IP'].astype(str)+\":\"+CIC['Dst Port'].astype(str)\n",
    "CIC['Dst IP'] = CIC['Dst IP'].astype(str)+\":\"+CIC['Dst Port'].astype(str)"
   ]
  },
  {
   "cell_type": "code",
   "execution_count": 117,
   "metadata": {},
   "outputs": [
    {
     "data": {
      "text/html": [
       "<div>\n",
       "<style scoped>\n",
       "    .dataframe tbody tr th:only-of-type {\n",
       "        vertical-align: middle;\n",
       "    }\n",
       "\n",
       "    .dataframe tbody tr th {\n",
       "        vertical-align: top;\n",
       "    }\n",
       "\n",
       "    .dataframe thead th {\n",
       "        text-align: right;\n",
       "    }\n",
       "</style>\n",
       "<table border=\"1\" class=\"dataframe\">\n",
       "  <thead>\n",
       "    <tr style=\"text-align: right;\">\n",
       "      <th></th>\n",
       "      <th>Protocol</th>\n",
       "      <th>Timestamp</th>\n",
       "      <th>Flow Duration</th>\n",
       "      <th>Tot Fwd Pkts</th>\n",
       "      <th>Tot Bwd Pkts</th>\n",
       "      <th>TotLen Fwd Pkts</th>\n",
       "      <th>TotLen Bwd Pkts</th>\n",
       "      <th>Fwd Pkt Len Max</th>\n",
       "      <th>Fwd Pkt Len Min</th>\n",
       "      <th>Fwd Pkt Len Mean</th>\n",
       "      <th>...</th>\n",
       "      <th>Active Std</th>\n",
       "      <th>Active Max</th>\n",
       "      <th>Active Min</th>\n",
       "      <th>Idle Mean</th>\n",
       "      <th>Idle Std</th>\n",
       "      <th>Idle Max</th>\n",
       "      <th>Idle Min</th>\n",
       "      <th>Label</th>\n",
       "      <th>Dst IP</th>\n",
       "      <th>Src IP</th>\n",
       "    </tr>\n",
       "  </thead>\n",
       "  <tbody>\n",
       "    <tr>\n",
       "      <th>0</th>\n",
       "      <td>17</td>\n",
       "      <td>14/02/2018 10:42:34</td>\n",
       "      <td>417990</td>\n",
       "      <td>2</td>\n",
       "      <td>0</td>\n",
       "      <td>44</td>\n",
       "      <td>0</td>\n",
       "      <td>22</td>\n",
       "      <td>22</td>\n",
       "      <td>22.0</td>\n",
       "      <td>...</td>\n",
       "      <td>0.0</td>\n",
       "      <td>0</td>\n",
       "      <td>0</td>\n",
       "      <td>0.0</td>\n",
       "      <td>0.0</td>\n",
       "      <td>0</td>\n",
       "      <td>0</td>\n",
       "      <td>Benign</td>\n",
       "      <td>18.217.21.148:5355</td>\n",
       "      <td>172.28.0.1:5355</td>\n",
       "    </tr>\n",
       "    <tr>\n",
       "      <th>1</th>\n",
       "      <td>17</td>\n",
       "      <td>14/02/2018 02:23:19</td>\n",
       "      <td>1924</td>\n",
       "      <td>1</td>\n",
       "      <td>1</td>\n",
       "      <td>31</td>\n",
       "      <td>158</td>\n",
       "      <td>31</td>\n",
       "      <td>31</td>\n",
       "      <td>31.0</td>\n",
       "      <td>...</td>\n",
       "      <td>0.0</td>\n",
       "      <td>0</td>\n",
       "      <td>0</td>\n",
       "      <td>0.0</td>\n",
       "      <td>0.0</td>\n",
       "      <td>0</td>\n",
       "      <td>0</td>\n",
       "      <td>Benign</td>\n",
       "      <td>18.217.21.148:53</td>\n",
       "      <td>172.25.0.1:53</td>\n",
       "    </tr>\n",
       "    <tr>\n",
       "      <th>2</th>\n",
       "      <td>6</td>\n",
       "      <td>14/02/2018 11:49:12</td>\n",
       "      <td>2</td>\n",
       "      <td>1</td>\n",
       "      <td>1</td>\n",
       "      <td>0</td>\n",
       "      <td>0</td>\n",
       "      <td>0</td>\n",
       "      <td>0</td>\n",
       "      <td>0.0</td>\n",
       "      <td>...</td>\n",
       "      <td>0.0</td>\n",
       "      <td>0</td>\n",
       "      <td>0</td>\n",
       "      <td>0.0</td>\n",
       "      <td>0.0</td>\n",
       "      <td>0</td>\n",
       "      <td>0</td>\n",
       "      <td>BruteForce</td>\n",
       "      <td>18.217.21.148:21</td>\n",
       "      <td>172.20.0.1:21</td>\n",
       "    </tr>\n",
       "    <tr>\n",
       "      <th>3</th>\n",
       "      <td>6</td>\n",
       "      <td>14/02/2018 10:37:31</td>\n",
       "      <td>1</td>\n",
       "      <td>1</td>\n",
       "      <td>1</td>\n",
       "      <td>0</td>\n",
       "      <td>0</td>\n",
       "      <td>0</td>\n",
       "      <td>0</td>\n",
       "      <td>0.0</td>\n",
       "      <td>...</td>\n",
       "      <td>0.0</td>\n",
       "      <td>0</td>\n",
       "      <td>0</td>\n",
       "      <td>0.0</td>\n",
       "      <td>0.0</td>\n",
       "      <td>0</td>\n",
       "      <td>0</td>\n",
       "      <td>BruteForce</td>\n",
       "      <td>18.217.21.148:21</td>\n",
       "      <td>172.27.0.1:21</td>\n",
       "    </tr>\n",
       "    <tr>\n",
       "      <th>4</th>\n",
       "      <td>6</td>\n",
       "      <td>14/02/2018 08:35:26</td>\n",
       "      <td>256951</td>\n",
       "      <td>2</td>\n",
       "      <td>0</td>\n",
       "      <td>1</td>\n",
       "      <td>0</td>\n",
       "      <td>1</td>\n",
       "      <td>0</td>\n",
       "      <td>0.5</td>\n",
       "      <td>...</td>\n",
       "      <td>0.0</td>\n",
       "      <td>0</td>\n",
       "      <td>0</td>\n",
       "      <td>0.0</td>\n",
       "      <td>0.0</td>\n",
       "      <td>0</td>\n",
       "      <td>0</td>\n",
       "      <td>Benign</td>\n",
       "      <td>18.217.21.148:445</td>\n",
       "      <td>172.20.0.1:445</td>\n",
       "    </tr>\n",
       "  </tbody>\n",
       "</table>\n",
       "<p>5 rows × 81 columns</p>\n",
       "</div>"
      ],
      "text/plain": [
       "   Protocol            Timestamp  Flow Duration  Tot Fwd Pkts  Tot Bwd Pkts  \\\n",
       "0        17  14/02/2018 10:42:34         417990             2             0   \n",
       "1        17  14/02/2018 02:23:19           1924             1             1   \n",
       "2         6  14/02/2018 11:49:12              2             1             1   \n",
       "3         6  14/02/2018 10:37:31              1             1             1   \n",
       "4         6  14/02/2018 08:35:26         256951             2             0   \n",
       "\n",
       "   TotLen Fwd Pkts  TotLen Bwd Pkts  Fwd Pkt Len Max  Fwd Pkt Len Min  \\\n",
       "0               44                0               22               22   \n",
       "1               31              158               31               31   \n",
       "2                0                0                0                0   \n",
       "3                0                0                0                0   \n",
       "4                1                0                1                0   \n",
       "\n",
       "   Fwd Pkt Len Mean  ...  Active Std  Active Max  Active Min  Idle Mean  \\\n",
       "0              22.0  ...         0.0           0           0        0.0   \n",
       "1              31.0  ...         0.0           0           0        0.0   \n",
       "2               0.0  ...         0.0           0           0        0.0   \n",
       "3               0.0  ...         0.0           0           0        0.0   \n",
       "4               0.5  ...         0.0           0           0        0.0   \n",
       "\n",
       "   Idle Std  Idle Max  Idle Min       Label              Dst IP  \\\n",
       "0       0.0         0         0      Benign  18.217.21.148:5355   \n",
       "1       0.0         0         0      Benign    18.217.21.148:53   \n",
       "2       0.0         0         0  BruteForce    18.217.21.148:21   \n",
       "3       0.0         0         0  BruteForce    18.217.21.148:21   \n",
       "4       0.0         0         0      Benign   18.217.21.148:445   \n",
       "\n",
       "            Src IP  \n",
       "0  172.28.0.1:5355  \n",
       "1    172.25.0.1:53  \n",
       "2    172.20.0.1:21  \n",
       "3    172.27.0.1:21  \n",
       "4   172.20.0.1:445  \n",
       "\n",
       "[5 rows x 81 columns]"
      ]
     },
     "execution_count": 117,
     "metadata": {},
     "output_type": "execute_result"
    }
   ],
   "source": [
    "CIC.drop(columns=['Dst Port'], inplace=True)\n",
    "CIC.head()"
   ]
  },
  {
   "cell_type": "code",
   "execution_count": 118,
   "metadata": {},
   "outputs": [],
   "source": [
    "CIC['Binary'] = (CIC['Label']!='Benign').astype(int)"
   ]
  },
  {
   "cell_type": "code",
   "execution_count": 119,
   "metadata": {},
   "outputs": [
    {
     "data": {
      "text/plain": [
       "array([0, 1, 2, 3, 4, 6, 5], dtype=int64)"
      ]
     },
     "execution_count": 119,
     "metadata": {},
     "output_type": "execute_result"
    }
   ],
   "source": [
    "CIC['Label'].replace({'Benign':0, 'BruteForce':1, 'DoS':2, 'DDoS':3, 'Web':4, 'Bot':5, 'Infilteration':6}, inplace=True)\n",
    "CIC['Label'].unique()\n",
    "# 'Infilteration':5, "
   ]
  },
  {
   "cell_type": "code",
   "execution_count": 120,
   "metadata": {},
   "outputs": [
    {
     "data": {
      "text/html": [
       "<div>\n",
       "<style scoped>\n",
       "    .dataframe tbody tr th:only-of-type {\n",
       "        vertical-align: middle;\n",
       "    }\n",
       "\n",
       "    .dataframe tbody tr th {\n",
       "        vertical-align: top;\n",
       "    }\n",
       "\n",
       "    .dataframe thead th {\n",
       "        text-align: right;\n",
       "    }\n",
       "</style>\n",
       "<table border=\"1\" class=\"dataframe\">\n",
       "  <thead>\n",
       "    <tr style=\"text-align: right;\">\n",
       "      <th></th>\n",
       "      <th>Protocol</th>\n",
       "      <th>Flow Duration</th>\n",
       "      <th>Tot Fwd Pkts</th>\n",
       "      <th>Tot Bwd Pkts</th>\n",
       "      <th>TotLen Fwd Pkts</th>\n",
       "      <th>TotLen Bwd Pkts</th>\n",
       "      <th>Fwd Pkt Len Max</th>\n",
       "      <th>Fwd Pkt Len Min</th>\n",
       "      <th>Fwd Pkt Len Mean</th>\n",
       "      <th>Fwd Pkt Len Std</th>\n",
       "      <th>...</th>\n",
       "      <th>Active Max</th>\n",
       "      <th>Active Min</th>\n",
       "      <th>Idle Mean</th>\n",
       "      <th>Idle Std</th>\n",
       "      <th>Idle Max</th>\n",
       "      <th>Idle Min</th>\n",
       "      <th>Label</th>\n",
       "      <th>Dst IP</th>\n",
       "      <th>Src IP</th>\n",
       "      <th>Binary</th>\n",
       "    </tr>\n",
       "  </thead>\n",
       "  <tbody>\n",
       "    <tr>\n",
       "      <th>0</th>\n",
       "      <td>17</td>\n",
       "      <td>417990</td>\n",
       "      <td>2</td>\n",
       "      <td>0</td>\n",
       "      <td>44</td>\n",
       "      <td>0</td>\n",
       "      <td>22</td>\n",
       "      <td>22</td>\n",
       "      <td>22.0</td>\n",
       "      <td>0.000000</td>\n",
       "      <td>...</td>\n",
       "      <td>0</td>\n",
       "      <td>0</td>\n",
       "      <td>0.0</td>\n",
       "      <td>0.0</td>\n",
       "      <td>0</td>\n",
       "      <td>0</td>\n",
       "      <td>0</td>\n",
       "      <td>18.217.21.148:5355</td>\n",
       "      <td>172.28.0.1:5355</td>\n",
       "      <td>0</td>\n",
       "    </tr>\n",
       "    <tr>\n",
       "      <th>1</th>\n",
       "      <td>17</td>\n",
       "      <td>1924</td>\n",
       "      <td>1</td>\n",
       "      <td>1</td>\n",
       "      <td>31</td>\n",
       "      <td>158</td>\n",
       "      <td>31</td>\n",
       "      <td>31</td>\n",
       "      <td>31.0</td>\n",
       "      <td>0.000000</td>\n",
       "      <td>...</td>\n",
       "      <td>0</td>\n",
       "      <td>0</td>\n",
       "      <td>0.0</td>\n",
       "      <td>0.0</td>\n",
       "      <td>0</td>\n",
       "      <td>0</td>\n",
       "      <td>0</td>\n",
       "      <td>18.217.21.148:53</td>\n",
       "      <td>172.25.0.1:53</td>\n",
       "      <td>0</td>\n",
       "    </tr>\n",
       "    <tr>\n",
       "      <th>2</th>\n",
       "      <td>6</td>\n",
       "      <td>2</td>\n",
       "      <td>1</td>\n",
       "      <td>1</td>\n",
       "      <td>0</td>\n",
       "      <td>0</td>\n",
       "      <td>0</td>\n",
       "      <td>0</td>\n",
       "      <td>0.0</td>\n",
       "      <td>0.000000</td>\n",
       "      <td>...</td>\n",
       "      <td>0</td>\n",
       "      <td>0</td>\n",
       "      <td>0.0</td>\n",
       "      <td>0.0</td>\n",
       "      <td>0</td>\n",
       "      <td>0</td>\n",
       "      <td>1</td>\n",
       "      <td>18.217.21.148:21</td>\n",
       "      <td>172.20.0.1:21</td>\n",
       "      <td>1</td>\n",
       "    </tr>\n",
       "    <tr>\n",
       "      <th>3</th>\n",
       "      <td>6</td>\n",
       "      <td>1</td>\n",
       "      <td>1</td>\n",
       "      <td>1</td>\n",
       "      <td>0</td>\n",
       "      <td>0</td>\n",
       "      <td>0</td>\n",
       "      <td>0</td>\n",
       "      <td>0.0</td>\n",
       "      <td>0.000000</td>\n",
       "      <td>...</td>\n",
       "      <td>0</td>\n",
       "      <td>0</td>\n",
       "      <td>0.0</td>\n",
       "      <td>0.0</td>\n",
       "      <td>0</td>\n",
       "      <td>0</td>\n",
       "      <td>1</td>\n",
       "      <td>18.217.21.148:21</td>\n",
       "      <td>172.27.0.1:21</td>\n",
       "      <td>1</td>\n",
       "    </tr>\n",
       "    <tr>\n",
       "      <th>4</th>\n",
       "      <td>6</td>\n",
       "      <td>256951</td>\n",
       "      <td>2</td>\n",
       "      <td>0</td>\n",
       "      <td>1</td>\n",
       "      <td>0</td>\n",
       "      <td>1</td>\n",
       "      <td>0</td>\n",
       "      <td>0.5</td>\n",
       "      <td>0.707107</td>\n",
       "      <td>...</td>\n",
       "      <td>0</td>\n",
       "      <td>0</td>\n",
       "      <td>0.0</td>\n",
       "      <td>0.0</td>\n",
       "      <td>0</td>\n",
       "      <td>0</td>\n",
       "      <td>0</td>\n",
       "      <td>18.217.21.148:445</td>\n",
       "      <td>172.20.0.1:445</td>\n",
       "      <td>0</td>\n",
       "    </tr>\n",
       "  </tbody>\n",
       "</table>\n",
       "<p>5 rows × 81 columns</p>\n",
       "</div>"
      ],
      "text/plain": [
       "   Protocol  Flow Duration  Tot Fwd Pkts  Tot Bwd Pkts  TotLen Fwd Pkts  \\\n",
       "0        17         417990             2             0               44   \n",
       "1        17           1924             1             1               31   \n",
       "2         6              2             1             1                0   \n",
       "3         6              1             1             1                0   \n",
       "4         6         256951             2             0                1   \n",
       "\n",
       "   TotLen Bwd Pkts  Fwd Pkt Len Max  Fwd Pkt Len Min  Fwd Pkt Len Mean  \\\n",
       "0                0               22               22              22.0   \n",
       "1              158               31               31              31.0   \n",
       "2                0                0                0               0.0   \n",
       "3                0                0                0               0.0   \n",
       "4                0                1                0               0.5   \n",
       "\n",
       "   Fwd Pkt Len Std  ...  Active Max  Active Min  Idle Mean  Idle Std  \\\n",
       "0         0.000000  ...           0           0        0.0       0.0   \n",
       "1         0.000000  ...           0           0        0.0       0.0   \n",
       "2         0.000000  ...           0           0        0.0       0.0   \n",
       "3         0.000000  ...           0           0        0.0       0.0   \n",
       "4         0.707107  ...           0           0        0.0       0.0   \n",
       "\n",
       "   Idle Max  Idle Min  Label              Dst IP           Src IP  Binary  \n",
       "0         0         0      0  18.217.21.148:5355  172.28.0.1:5355       0  \n",
       "1         0         0      0    18.217.21.148:53    172.25.0.1:53       0  \n",
       "2         0         0      1    18.217.21.148:21    172.20.0.1:21       1  \n",
       "3         0         0      1    18.217.21.148:21    172.27.0.1:21       1  \n",
       "4         0         0      0   18.217.21.148:445   172.20.0.1:445       0  \n",
       "\n",
       "[5 rows x 81 columns]"
      ]
     },
     "execution_count": 120,
     "metadata": {},
     "output_type": "execute_result"
    }
   ],
   "source": [
    "CIC.drop(columns = 'Timestamp',inplace=True)\n",
    "CIC.head()"
   ]
  },
  {
   "cell_type": "code",
   "execution_count": 122,
   "metadata": {},
   "outputs": [],
   "source": [
    "CIC['Flow Byts/s'].fillna(0.0, inplace=True)"
   ]
  },
  {
   "cell_type": "code",
   "execution_count": 123,
   "metadata": {},
   "outputs": [
    {
     "name": "stdout",
     "output_type": "stream",
     "text": [
      "<class 'pandas.core.frame.DataFrame'>\n",
      "RangeIndex: 250928 entries, 0 to 250927\n",
      "Data columns (total 81 columns):\n",
      " #   Column             Non-Null Count   Dtype  \n",
      "---  ------             --------------   -----  \n",
      " 0   Protocol           250928 non-null  int64  \n",
      " 1   Flow Duration      250928 non-null  int64  \n",
      " 2   Tot Fwd Pkts       250928 non-null  int64  \n",
      " 3   Tot Bwd Pkts       250928 non-null  int64  \n",
      " 4   TotLen Fwd Pkts    250928 non-null  int64  \n",
      " 5   TotLen Bwd Pkts    250928 non-null  int64  \n",
      " 6   Fwd Pkt Len Max    250928 non-null  int64  \n",
      " 7   Fwd Pkt Len Min    250928 non-null  int64  \n",
      " 8   Fwd Pkt Len Mean   250928 non-null  float64\n",
      " 9   Fwd Pkt Len Std    250928 non-null  float64\n",
      " 10  Bwd Pkt Len Max    250928 non-null  int64  \n",
      " 11  Bwd Pkt Len Min    250928 non-null  int64  \n",
      " 12  Bwd Pkt Len Mean   250928 non-null  float64\n",
      " 13  Bwd Pkt Len Std    250928 non-null  float64\n",
      " 14  Flow Byts/s        250928 non-null  float64\n",
      " 15  Flow Pkts/s        250928 non-null  float64\n",
      " 16  Flow IAT Mean      250928 non-null  float64\n",
      " 17  Flow IAT Std       250928 non-null  float64\n",
      " 18  Flow IAT Max       250928 non-null  int64  \n",
      " 19  Flow IAT Min       250928 non-null  int64  \n",
      " 20  Fwd IAT Tot        250928 non-null  int64  \n",
      " 21  Fwd IAT Mean       250928 non-null  float64\n",
      " 22  Fwd IAT Std        250928 non-null  float64\n",
      " 23  Fwd IAT Max        250928 non-null  int64  \n",
      " 24  Fwd IAT Min        250928 non-null  int64  \n",
      " 25  Bwd IAT Tot        250928 non-null  int64  \n",
      " 26  Bwd IAT Mean       250928 non-null  float64\n",
      " 27  Bwd IAT Std        250928 non-null  float64\n",
      " 28  Bwd IAT Max        250928 non-null  int64  \n",
      " 29  Bwd IAT Min        250928 non-null  int64  \n",
      " 30  Fwd PSH Flags      250928 non-null  int64  \n",
      " 31  Bwd PSH Flags      250928 non-null  int64  \n",
      " 32  Fwd URG Flags      250928 non-null  int64  \n",
      " 33  Bwd URG Flags      250928 non-null  int64  \n",
      " 34  Fwd Header Len     250928 non-null  int64  \n",
      " 35  Bwd Header Len     250928 non-null  int64  \n",
      " 36  Fwd Pkts/s         250928 non-null  float64\n",
      " 37  Bwd Pkts/s         250928 non-null  float64\n",
      " 38  Pkt Len Min        250928 non-null  int64  \n",
      " 39  Pkt Len Max        250928 non-null  int64  \n",
      " 40  Pkt Len Mean       250928 non-null  float64\n",
      " 41  Pkt Len Std        250928 non-null  float64\n",
      " 42  Pkt Len Var        250928 non-null  float64\n",
      " 43  FIN Flag Cnt       250928 non-null  int64  \n",
      " 44  SYN Flag Cnt       250928 non-null  int64  \n",
      " 45  RST Flag Cnt       250928 non-null  int64  \n",
      " 46  PSH Flag Cnt       250928 non-null  int64  \n",
      " 47  ACK Flag Cnt       250928 non-null  int64  \n",
      " 48  URG Flag Cnt       250928 non-null  int64  \n",
      " 49  CWE Flag Count     250928 non-null  int64  \n",
      " 50  ECE Flag Cnt       250928 non-null  int64  \n",
      " 51  Down/Up Ratio      250928 non-null  int64  \n",
      " 52  Pkt Size Avg       250928 non-null  float64\n",
      " 53  Fwd Seg Size Avg   250928 non-null  float64\n",
      " 54  Bwd Seg Size Avg   250928 non-null  float64\n",
      " 55  Fwd Byts/b Avg     250928 non-null  int64  \n",
      " 56  Fwd Pkts/b Avg     250928 non-null  int64  \n",
      " 57  Fwd Blk Rate Avg   250928 non-null  int64  \n",
      " 58  Bwd Byts/b Avg     250928 non-null  int64  \n",
      " 59  Bwd Pkts/b Avg     250928 non-null  int64  \n",
      " 60  Bwd Blk Rate Avg   250928 non-null  int64  \n",
      " 61  Subflow Fwd Pkts   250928 non-null  int64  \n",
      " 62  Subflow Fwd Byts   250928 non-null  int64  \n",
      " 63  Subflow Bwd Pkts   250928 non-null  int64  \n",
      " 64  Subflow Bwd Byts   250928 non-null  int64  \n",
      " 65  Init Fwd Win Byts  250928 non-null  int64  \n",
      " 66  Init Bwd Win Byts  250928 non-null  int64  \n",
      " 67  Fwd Act Data Pkts  250928 non-null  int64  \n",
      " 68  Fwd Seg Size Min   250928 non-null  int64  \n",
      " 69  Active Mean        250928 non-null  float64\n",
      " 70  Active Std         250928 non-null  float64\n",
      " 71  Active Max         250928 non-null  int64  \n",
      " 72  Active Min         250928 non-null  int64  \n",
      " 73  Idle Mean          250928 non-null  float64\n",
      " 74  Idle Std           250928 non-null  float64\n",
      " 75  Idle Max           250928 non-null  int64  \n",
      " 76  Idle Min           250928 non-null  int64  \n",
      " 77  Label              250928 non-null  int64  \n",
      " 78  Dst IP             250928 non-null  object \n",
      " 79  Src IP             250928 non-null  object \n",
      " 80  Binary             250928 non-null  int32  \n",
      "dtypes: float64(24), int32(1), int64(54), object(2)\n",
      "memory usage: 154.1+ MB\n"
     ]
    }
   ],
   "source": [
    "CIC.info()"
   ]
  },
  {
   "cell_type": "code",
   "execution_count": 41,
   "metadata": {},
   "outputs": [],
   "source": [
    "# CIC.drop(index = CIC[CIC['Protocol']=='Protocol'].index, inplace=True)\n",
    "\n",
    "# CIC_ = CIC.copy()\n",
    "# for i in range(1,78):\n",
    "#     CIC_.iloc[:,i] = CIC_.iloc[:,i].astype('float32')\n",
    "# #     pd.to_numeric(CIC_.iloc[:,i],errors='coerce').fillna(0)\n",
    "\n",
    "# CIC['Protocol'].unique()\n",
    "\n",
    "# CIC_['Tot Fwd Pkts'].unique()\n",
    "\n",
    "# CIC[pd.to_numeric(CIC['Tot Fwd Pkts'],errors='coerce').fillna(0).isnull()]"
   ]
  },
  {
   "cell_type": "markdown",
   "metadata": {},
   "source": [
    "## CIC.pkl/edge_feat.npy/nodes.npy/label_bi.npy/adj.npy/label_mul.npy"
   ]
  },
  {
   "cell_type": "code",
   "execution_count": 126,
   "metadata": {},
   "outputs": [],
   "source": [
    "CIC.to_pickle(\"CIC.pkl\")\n",
    "\n",
    "srcnode = set(CIC['Src IP'])\n",
    "dtnode = set(CIC['Dst IP'])\n",
    "nodes = list(dtnode.union(srcnode))\n",
    "np.save(\"nodes.npy\", nodes)                                                                                                                                                                                                                                                                                                                                                                                                      \n",
    "\n",
    "binary = CIC['Binary'].to_numpy().astype(np.int8)\n",
    "np.save(\"label_bi.npy\", binary)\n",
    "\n",
    "adj = CIC[['Src IP', 'Dst IP']].to_numpy()\n",
    "np.save(\"adj.npy\", adj)\n",
    "\n",
    "multi = CIC['Label'].to_numpy().astype(np.int16) \n",
    "np.save(\"label_mul.npy\", multi)"
   ]
  },
  {
   "cell_type": "code",
   "execution_count": 127,
   "metadata": {},
   "outputs": [
    {
     "name": "stdout",
     "output_type": "stream",
     "text": [
      "(250928, 77)\n"
     ]
    }
   ],
   "source": [
    "edge_feat = CIC.iloc[:,:77].to_numpy()\n",
    "print(edge_feat.shape)\n",
    "np.save(\"edge_feat.npy\",edge_feat)"
   ]
  },
  {
   "cell_type": "code",
   "execution_count": 7,
   "metadata": {},
   "outputs": [
    {
     "data": {
      "text/plain": [
       "0"
      ]
     },
     "execution_count": 7,
     "metadata": {},
     "output_type": "execute_result"
    }
   ],
   "source": [
    "edge = np.load('edge_feat.npy')\n",
    "np.isnan(edge).sum()"
   ]
  },
  {
   "cell_type": "code",
   "execution_count": 8,
   "metadata": {},
   "outputs": [
    {
     "data": {
      "text/plain": [
       "(250928, 77)"
      ]
     },
     "execution_count": 8,
     "metadata": {},
     "output_type": "execute_result"
    }
   ],
   "source": [
    "edge.shape"
   ]
  },
  {
   "cell_type": "code",
   "execution_count": 32,
   "metadata": {},
   "outputs": [],
   "source": [
    "import pandas as pd\n",
    "import numpy as np\n",
    "CIC = pd.read_pickle('CIC.pkl')"
   ]
  },
  {
   "cell_type": "code",
   "execution_count": 6,
   "metadata": {},
   "outputs": [
    {
     "data": {
      "text/plain": [
       "0"
      ]
     },
     "execution_count": 6,
     "metadata": {},
     "output_type": "execute_result"
    }
   ],
   "source": [
    "pd.isna(CIC).all().sum()"
   ]
  },
  {
   "cell_type": "code",
   "execution_count": 37,
   "metadata": {},
   "outputs": [
    {
     "data": {
      "text/plain": [
       "count    2.509280e+05\n",
       "mean     1.979613e+07\n",
       "std      4.414755e+08\n",
       "min      0.000000e+00\n",
       "25%      0.000000e+00\n",
       "50%      9.392279e+02\n",
       "75%      8.044266e+04\n",
       "max      1.000000e+10\n",
       "Name: Flow Byts/s, dtype: float64"
      ]
     },
     "execution_count": 37,
     "metadata": {},
     "output_type": "execute_result"
    }
   ],
   "source": [
    "CIC.iloc[:,14].describe()"
   ]
  },
  {
   "cell_type": "code",
   "execution_count": 38,
   "metadata": {},
   "outputs": [
    {
     "data": {
      "text/plain": [
       "count    2.509280e+05\n",
       "mean     1.188184e+05\n",
       "std      6.927639e+05\n",
       "min      1.666861e-02\n",
       "25%      1.315382e+01\n",
       "50%      6.477283e+02\n",
       "75%      5.952381e+03\n",
       "max      1.000000e+07\n",
       "Name: Flow Pkts/s, dtype: float64"
      ]
     },
     "execution_count": 38,
     "metadata": {},
     "output_type": "execute_result"
    }
   ],
   "source": [
    "CIC.iloc[:,15].describe()"
   ]
  },
  {
   "cell_type": "code",
   "execution_count": 35,
   "metadata": {},
   "outputs": [
    {
     "name": "stderr",
     "output_type": "stream",
     "text": [
      "C:\\Users\\Zethc\\anaconda3\\lib\\site-packages\\ipykernel_launcher.py:1: SettingWithCopyWarning: \n",
      "A value is trying to be set on a copy of a slice from a DataFrame\n",
      "\n",
      "See the caveats in the documentation: https://pandas.pydata.org/pandas-docs/stable/user_guide/indexing.html#returning-a-view-versus-a-copy\n",
      "  \"\"\"Entry point for launching an IPython kernel.\n"
     ]
    }
   ],
   "source": [
    "CIC.iloc[:,14][CIC.iloc[:,14] == np.inf] = 1e+10"
   ]
  },
  {
   "cell_type": "code",
   "execution_count": 36,
   "metadata": {},
   "outputs": [
    {
     "name": "stderr",
     "output_type": "stream",
     "text": [
      "C:\\Users\\Zethc\\anaconda3\\lib\\site-packages\\ipykernel_launcher.py:1: SettingWithCopyWarning: \n",
      "A value is trying to be set on a copy of a slice from a DataFrame\n",
      "\n",
      "See the caveats in the documentation: https://pandas.pydata.org/pandas-docs/stable/user_guide/indexing.html#returning-a-view-versus-a-copy\n",
      "  \"\"\"Entry point for launching an IPython kernel.\n"
     ]
    }
   ],
   "source": [
    "CIC.iloc[:,15][CIC.iloc[:,15] == np.inf] = 1e+07"
   ]
  },
  {
   "cell_type": "code",
   "execution_count": 47,
   "metadata": {},
   "outputs": [],
   "source": [
    "CIC_ = CIC.copy()\n",
    "CIC_.iloc[:,:77] = CIC_.iloc[:,:77].apply(lambda x: (x-x.mean())/x.std(), axis=0)\n",
    "edge_feat_scaled = CIC_.iloc[:,:77].to_numpy()\n",
    "np.save(\"edge_feat_scaled.npy\",edge_feat_scaled)"
   ]
  },
  {
   "cell_type": "code",
   "execution_count": 48,
   "metadata": {},
   "outputs": [
    {
     "data": {
      "text/plain": [
       "False"
      ]
     },
     "execution_count": 48,
     "metadata": {},
     "output_type": "execute_result"
    }
   ],
   "source": [
    "edge_feat_scaled = np.load('edge_feat_scaled.npy')\n",
    "# edge_feat.dtype\n",
    "edge_feat_scaled = edge_feat_scaled.astype('float32')\n",
    "edge_feat_scaled[np.isnan(edge_feat_scaled)]=0\n",
    "True in np.isnan(edge_feat_scaled)"
   ]
  },
  {
   "cell_type": "code",
   "execution_count": 49,
   "metadata": {},
   "outputs": [
    {
     "data": {
      "text/plain": [
       "(array([], dtype=int64), array([], dtype=int64))"
      ]
     },
     "execution_count": 49,
     "metadata": {},
     "output_type": "execute_result"
    }
   ],
   "source": [
    "np.where(np.isnan(edge_feat_scaled))"
   ]
  },
  {
   "cell_type": "code",
   "execution_count": 50,
   "metadata": {},
   "outputs": [],
   "source": [
    "np.save(\"edge_feat_scaled.npy\",edge_feat_scaled)"
   ]
  },
  {
   "cell_type": "code",
   "execution_count": null,
   "metadata": {},
   "outputs": [],
   "source": []
  },
  {
   "cell_type": "code",
   "execution_count": 140,
   "metadata": {},
   "outputs": [
    {
     "data": {
      "text/plain": [
       "True"
      ]
     },
     "execution_count": 140,
     "metadata": {},
     "output_type": "execute_result"
    }
   ],
   "source": [
    "array_sum = np.sum(edge_feat)\n",
    "array_has_nan = np.isnan(array_sum)\n",
    "array_has_nan"
   ]
  },
  {
   "cell_type": "code",
   "execution_count": 62,
   "metadata": {},
   "outputs": [
    {
     "data": {
      "text/plain": [
       "array([[ 417368.35833359, 2027003.        ,  215794.18690491, ...,\n",
       "        9719410.07284117,  403526.31735802,  250678.        ],\n",
       "       [ 417368.35833359, 2027003.        ,  215794.18690491, ...,\n",
       "        9719410.07284117,  403526.31735802,  250678.        ],\n",
       "       [ 417368.35833359, 2027003.        ,  215794.18690491, ...,\n",
       "        9719410.07284117,  403526.31735802,  250678.        ],\n",
       "       ...,\n",
       "       [ 417368.35833359, 2027003.        ,  215794.18690491, ...,\n",
       "        9719410.07284117,  403526.31735802,  250678.        ],\n",
       "       [ 417368.35833359, 2027003.        ,  215794.18690491, ...,\n",
       "        9719410.07284117,  403526.31735802,  250678.        ],\n",
       "       [ 417368.35833359, 2027003.        ,  215794.18690491, ...,\n",
       "        9719410.07284117,  403526.31735802,  250678.        ]])"
      ]
     },
     "execution_count": 62,
     "metadata": {},
     "output_type": "execute_result"
    }
   ],
   "source": [
    "np.ones((10,77)) @ (edge_feat.T)"
   ]
  },
  {
   "cell_type": "code",
   "execution_count": null,
   "metadata": {},
   "outputs": [],
   "source": [
    "edge_feat.shape"
   ]
  },
  {
   "cell_type": "code",
   "execution_count": 48,
   "metadata": {},
   "outputs": [],
   "source": [
    "edge_feat_ = np.ones((399997,77))\n",
    "np.save(\"edge_feat_.npy\",edge_feat_)"
   ]
  },
  {
   "cell_type": "code",
   "execution_count": null,
   "metadata": {},
   "outputs": [],
   "source": [
    "a_shape_before = edge_feat.shape\n",
    "a_shape_after = edge_feat[np.logical_not(np.isnan(edge_feat))].shape\n",
    "assert a_shape_before == a_shape_after"
   ]
  },
  {
   "cell_type": "code",
   "execution_count": null,
   "metadata": {},
   "outputs": [],
   "source": [
    "np.argwhere(np.isnan(edge_feat))"
   ]
  },
  {
   "cell_type": "code",
   "execution_count": 47,
   "metadata": {},
   "outputs": [
    {
     "data": {
      "text/plain": [
       "28"
      ]
     },
     "execution_count": 47,
     "metadata": {},
     "output_type": "execute_result"
    }
   ],
   "source": [
    "int(280000/10000)"
   ]
  },
  {
   "cell_type": "code",
   "execution_count": 55,
   "metadata": {},
   "outputs": [],
   "source": [
    "x = pd.DataFrame(['1'])\n",
    "x[0] = x[0].astype('float32')"
   ]
  },
  {
   "cell_type": "code",
   "execution_count": 56,
   "metadata": {},
   "outputs": [
    {
     "name": "stdout",
     "output_type": "stream",
     "text": [
      "<class 'pandas.core.frame.DataFrame'>\n",
      "RangeIndex: 1 entries, 0 to 0\n",
      "Data columns (total 1 columns):\n",
      " #   Column  Non-Null Count  Dtype  \n",
      "---  ------  --------------  -----  \n",
      " 0   0       1 non-null      float32\n",
      "dtypes: float32(1)\n",
      "memory usage: 132.0 bytes\n"
     ]
    }
   ],
   "source": [
    "x.info()"
   ]
  },
  {
   "cell_type": "code",
   "execution_count": 50,
   "metadata": {},
   "outputs": [
    {
     "data": {
      "text/plain": [
       "0.7765500000000001"
      ]
     },
     "execution_count": 50,
     "metadata": {},
     "output_type": "execute_result"
    }
   ],
   "source": [
    "import numpy as np\n",
    "from sklearn.metrics import f1_score\n",
    "label_bi = np.load(\"label_bi.npy\", allow_pickle=True)\n",
    "zeros = np.zeros((label_bi.shape))\n",
    "f1_score(label_bi, zeros, average='micro')"
   ]
  },
  {
   "cell_type": "code",
   "execution_count": 51,
   "metadata": {},
   "outputs": [
    {
     "data": {
      "text/plain": [
       "0.22345"
      ]
     },
     "execution_count": 51,
     "metadata": {},
     "output_type": "execute_result"
    }
   ],
   "source": [
    "label_bi.sum()/label_bi.shape[0]"
   ]
  },
  {
   "cell_type": "code",
   "execution_count": 1,
   "metadata": {},
   "outputs": [
    {
     "data": {
      "text/plain": [
       "True"
      ]
     },
     "execution_count": 1,
     "metadata": {},
     "output_type": "execute_result"
    }
   ],
   "source": [
    "import numpy as np\n",
    "edge_feat = np.load(\"edge_feat_scaled.npy\")\n",
    "True in np.isnan(edge_feat)"
   ]
  },
  {
   "cell_type": "code",
   "execution_count": 2,
   "metadata": {},
   "outputs": [
    {
     "data": {
      "text/plain": [
       "False"
      ]
     },
     "execution_count": 2,
     "metadata": {},
     "output_type": "execute_result"
    }
   ],
   "source": [
    "edge_feat[np.isnan(edge_feat)]=0\n",
    "True in np.isnan(edge_feat)"
   ]
  },
  {
   "cell_type": "code",
   "execution_count": 3,
   "metadata": {},
   "outputs": [],
   "source": [
    "np.save('edge_feat_scaled.npy', edge_feat)"
   ]
  },
  {
   "cell_type": "markdown",
   "metadata": {},
   "source": [
    "## adj_random"
   ]
  },
  {
   "cell_type": "code",
   "execution_count": 51,
   "metadata": {},
   "outputs": [],
   "source": [
    "import numpy as np\n",
    "edge_feat = np.load(\"edge_feat_scaled.npy\")\n",
    "srcip_list = list(range(60000))\n",
    "dstip_list = list(range(60001,120000))\n",
    "src = np.random.choice(srcip_list, edge_feat.shape[0])\n",
    "dst = np.random.choice(dstip_list, edge_feat.shape[0])\n",
    "adj_random = np.column_stack((src,dst))\n",
    "np.save(\"adj_random.npy\", adj_random)\n",
    "np.save(\"node_random.npy\", np.array(list(range(120000))))"
   ]
  },
  {
   "cell_type": "code",
   "execution_count": 52,
   "metadata": {},
   "outputs": [],
   "source": [
    "import pickle\n",
    "from collections import defaultdict\n",
    "adj = np.load(\"adj_random.npy\", allow_pickle=True)\n",
    "adj_lists = defaultdict(set)  # not return keyerror when not found\n",
    "for i, line in enumerate(adj):\n",
    "    node1 = line[0]\n",
    "    node2 = line[1]\n",
    "    adj_lists[node1].add(i)  # mutual neighbor\n",
    "    adj_lists[node2].add(i)\n",
    "with open('adj_random_list.dict', 'wb') as file:\n",
    "    pickle.dump(adj_lists, file, protocol=pickle.HIGHEST_PROTOCOL)"
   ]
  }
 ],
 "metadata": {
  "kernelspec": {
   "display_name": "Python 3",
   "language": "python",
   "name": "python3"
  },
  "language_info": {
   "codemirror_mode": {
    "name": "ipython",
    "version": 3
   },
   "file_extension": ".py",
   "mimetype": "text/x-python",
   "name": "python",
   "nbconvert_exporter": "python",
   "pygments_lexer": "ipython3",
   "version": "3.7.6"
  }
 },
 "nbformat": 4,
 "nbformat_minor": 4
}
