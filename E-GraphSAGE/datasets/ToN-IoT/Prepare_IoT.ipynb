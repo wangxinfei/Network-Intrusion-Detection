{
 "cells": [
  {
   "cell_type": "code",
   "execution_count": 1,
   "metadata": {},
   "outputs": [],
   "source": [
    "import numpy as np\n",
    "import pandas as pd"
   ]
  },
  {
   "cell_type": "code",
   "execution_count": 2,
   "metadata": {},
   "outputs": [
    {
     "data": {
      "text/html": [
       "<div>\n",
       "<style scoped>\n",
       "    .dataframe tbody tr th:only-of-type {\n",
       "        vertical-align: middle;\n",
       "    }\n",
       "\n",
       "    .dataframe tbody tr th {\n",
       "        vertical-align: top;\n",
       "    }\n",
       "\n",
       "    .dataframe thead th {\n",
       "        text-align: right;\n",
       "    }\n",
       "</style>\n",
       "<table border=\"1\" class=\"dataframe\">\n",
       "  <thead>\n",
       "    <tr style=\"text-align: right;\">\n",
       "      <th></th>\n",
       "      <th>ts</th>\n",
       "      <th>src_ip</th>\n",
       "      <th>src_port</th>\n",
       "      <th>dst_ip</th>\n",
       "      <th>dst_port</th>\n",
       "      <th>proto</th>\n",
       "      <th>service</th>\n",
       "      <th>duration</th>\n",
       "      <th>src_bytes</th>\n",
       "      <th>dst_bytes</th>\n",
       "      <th>...</th>\n",
       "      <th>http_response_body_len</th>\n",
       "      <th>http_status_code</th>\n",
       "      <th>http_user_agent</th>\n",
       "      <th>http_orig_mime_types</th>\n",
       "      <th>http_resp_mime_types</th>\n",
       "      <th>weird_name</th>\n",
       "      <th>weird_addl</th>\n",
       "      <th>weird_notice</th>\n",
       "      <th>label</th>\n",
       "      <th>type</th>\n",
       "    </tr>\n",
       "  </thead>\n",
       "  <tbody>\n",
       "    <tr>\n",
       "      <th>0</th>\n",
       "      <td>1554198358</td>\n",
       "      <td>3.122.49.24</td>\n",
       "      <td>1883</td>\n",
       "      <td>192.168.1.152</td>\n",
       "      <td>52976</td>\n",
       "      <td>tcp</td>\n",
       "      <td>-</td>\n",
       "      <td>80549.530260</td>\n",
       "      <td>1762852</td>\n",
       "      <td>41933215</td>\n",
       "      <td>...</td>\n",
       "      <td>0</td>\n",
       "      <td>0</td>\n",
       "      <td>-</td>\n",
       "      <td>-</td>\n",
       "      <td>-</td>\n",
       "      <td>bad_TCP_checksum</td>\n",
       "      <td>-</td>\n",
       "      <td>F</td>\n",
       "      <td>0</td>\n",
       "      <td>normal</td>\n",
       "    </tr>\n",
       "    <tr>\n",
       "      <th>1</th>\n",
       "      <td>1554198358</td>\n",
       "      <td>192.168.1.79</td>\n",
       "      <td>47260</td>\n",
       "      <td>192.168.1.255</td>\n",
       "      <td>15600</td>\n",
       "      <td>udp</td>\n",
       "      <td>-</td>\n",
       "      <td>0.000000</td>\n",
       "      <td>0</td>\n",
       "      <td>0</td>\n",
       "      <td>...</td>\n",
       "      <td>0</td>\n",
       "      <td>0</td>\n",
       "      <td>-</td>\n",
       "      <td>-</td>\n",
       "      <td>-</td>\n",
       "      <td>-</td>\n",
       "      <td>-</td>\n",
       "      <td>-</td>\n",
       "      <td>0</td>\n",
       "      <td>normal</td>\n",
       "    </tr>\n",
       "    <tr>\n",
       "      <th>2</th>\n",
       "      <td>1554198359</td>\n",
       "      <td>192.168.1.152</td>\n",
       "      <td>1880</td>\n",
       "      <td>192.168.1.152</td>\n",
       "      <td>51782</td>\n",
       "      <td>tcp</td>\n",
       "      <td>-</td>\n",
       "      <td>0.000000</td>\n",
       "      <td>0</td>\n",
       "      <td>0</td>\n",
       "      <td>...</td>\n",
       "      <td>0</td>\n",
       "      <td>0</td>\n",
       "      <td>-</td>\n",
       "      <td>-</td>\n",
       "      <td>-</td>\n",
       "      <td>bad_TCP_checksum</td>\n",
       "      <td>-</td>\n",
       "      <td>F</td>\n",
       "      <td>0</td>\n",
       "      <td>normal</td>\n",
       "    </tr>\n",
       "    <tr>\n",
       "      <th>3</th>\n",
       "      <td>1554198359</td>\n",
       "      <td>192.168.1.152</td>\n",
       "      <td>34296</td>\n",
       "      <td>192.168.1.152</td>\n",
       "      <td>10502</td>\n",
       "      <td>tcp</td>\n",
       "      <td>-</td>\n",
       "      <td>0.000000</td>\n",
       "      <td>0</td>\n",
       "      <td>0</td>\n",
       "      <td>...</td>\n",
       "      <td>0</td>\n",
       "      <td>0</td>\n",
       "      <td>-</td>\n",
       "      <td>-</td>\n",
       "      <td>-</td>\n",
       "      <td>-</td>\n",
       "      <td>-</td>\n",
       "      <td>-</td>\n",
       "      <td>0</td>\n",
       "      <td>normal</td>\n",
       "    </tr>\n",
       "    <tr>\n",
       "      <th>4</th>\n",
       "      <td>1554198362</td>\n",
       "      <td>192.168.1.152</td>\n",
       "      <td>46608</td>\n",
       "      <td>192.168.1.190</td>\n",
       "      <td>53</td>\n",
       "      <td>udp</td>\n",
       "      <td>dns</td>\n",
       "      <td>0.000549</td>\n",
       "      <td>0</td>\n",
       "      <td>298</td>\n",
       "      <td>...</td>\n",
       "      <td>0</td>\n",
       "      <td>0</td>\n",
       "      <td>-</td>\n",
       "      <td>-</td>\n",
       "      <td>-</td>\n",
       "      <td>bad_UDP_checksum</td>\n",
       "      <td>-</td>\n",
       "      <td>F</td>\n",
       "      <td>0</td>\n",
       "      <td>normal</td>\n",
       "    </tr>\n",
       "  </tbody>\n",
       "</table>\n",
       "<p>5 rows × 45 columns</p>\n",
       "</div>"
      ],
      "text/plain": [
       "           ts         src_ip  src_port         dst_ip  dst_port proto service  \\\n",
       "0  1554198358    3.122.49.24      1883  192.168.1.152     52976   tcp       -   \n",
       "1  1554198358   192.168.1.79     47260  192.168.1.255     15600   udp       -   \n",
       "2  1554198359  192.168.1.152      1880  192.168.1.152     51782   tcp       -   \n",
       "3  1554198359  192.168.1.152     34296  192.168.1.152     10502   tcp       -   \n",
       "4  1554198362  192.168.1.152     46608  192.168.1.190        53   udp     dns   \n",
       "\n",
       "       duration  src_bytes  dst_bytes  ... http_response_body_len  \\\n",
       "0  80549.530260    1762852   41933215  ...                      0   \n",
       "1      0.000000          0          0  ...                      0   \n",
       "2      0.000000          0          0  ...                      0   \n",
       "3      0.000000          0          0  ...                      0   \n",
       "4      0.000549          0        298  ...                      0   \n",
       "\n",
       "   http_status_code  http_user_agent  http_orig_mime_types  \\\n",
       "0                 0                -                     -   \n",
       "1                 0                -                     -   \n",
       "2                 0                -                     -   \n",
       "3                 0                -                     -   \n",
       "4                 0                -                     -   \n",
       "\n",
       "   http_resp_mime_types        weird_name weird_addl  weird_notice  label  \\\n",
       "0                     -  bad_TCP_checksum          -             F      0   \n",
       "1                     -                 -          -             -      0   \n",
       "2                     -  bad_TCP_checksum          -             F      0   \n",
       "3                     -                 -          -             -      0   \n",
       "4                     -  bad_UDP_checksum          -             F      0   \n",
       "\n",
       "     type  \n",
       "0  normal  \n",
       "1  normal  \n",
       "2  normal  \n",
       "3  normal  \n",
       "4  normal  \n",
       "\n",
       "[5 rows x 45 columns]"
      ]
     },
     "execution_count": 2,
     "metadata": {},
     "output_type": "execute_result"
    }
   ],
   "source": [
    "iot = pd.read_csv('Train_Test_Network.csv')\n",
    "iot.head()"
   ]
  },
  {
   "cell_type": "code",
   "execution_count": 3,
   "metadata": {},
   "outputs": [
    {
     "data": {
      "text/plain": [
       "(461043, 45)"
      ]
     },
     "execution_count": 3,
     "metadata": {},
     "output_type": "execute_result"
    }
   ],
   "source": [
    "iot.shape"
   ]
  },
  {
   "cell_type": "code",
   "execution_count": 73,
   "metadata": {},
   "outputs": [
    {
     "data": {
      "text/plain": [
       "array(['normal', 'scanning', 'dos', 'injection', 'ddos', 'password',\n",
       "       'xss', 'ransomware', 'backdoor', 'mitm'], dtype=object)"
      ]
     },
     "execution_count": 73,
     "metadata": {},
     "output_type": "execute_result"
    }
   ],
   "source": [
    "iot['type'].unique()"
   ]
  },
  {
   "cell_type": "code",
   "execution_count": null,
   "metadata": {},
   "outputs": [],
   "source": [
    "iot['weird_notice'].unique()"
   ]
  },
  {
   "cell_type": "code",
   "execution_count": null,
   "metadata": {},
   "outputs": [],
   "source": [
    "iot['weird_addl'].unique()"
   ]
  },
  {
   "cell_type": "code",
   "execution_count": null,
   "metadata": {},
   "outputs": [],
   "source": [
    "iot['http_resp_mime_types'].unique()"
   ]
  },
  {
   "cell_type": "code",
   "execution_count": null,
   "metadata": {},
   "outputs": [],
   "source": [
    "iot.info()"
   ]
  },
  {
   "cell_type": "code",
   "execution_count": null,
   "metadata": {},
   "outputs": [],
   "source": [
    "from sklearn import preprocessing\n",
    "iot_ = iot.copy()\n",
    "for i in range(5,len(iot_.columns)):\n",
    "    if iot_.iloc[:,i].dtypes == 'object':\n",
    "        le = preprocessing.LabelEncoder()\n",
    "        le.fit(iot_.iloc[:,i])\n",
    "        iot_.iloc[:,i] = le.transform(iot_.iloc[:,i])\n",
    "iot_.info()"
   ]
  },
  {
   "cell_type": "code",
   "execution_count": null,
   "metadata": {},
   "outputs": [],
   "source": [
    "iot_.head()"
   ]
  },
  {
   "cell_type": "code",
   "execution_count": null,
   "metadata": {},
   "outputs": [],
   "source": [
    "len(iot_['dst_ip'].unique())"
   ]
  },
  {
   "cell_type": "code",
   "execution_count": null,
   "metadata": {},
   "outputs": [],
   "source": [
    "srcip_list = [\"172.16.0.1\",\"172.17.0.1\",\"172.18.0.1\",\"172.19.0.1\",\"172.20.0.1\",\"172.21.0.1\",\"172.22.0.1\",\"172.23.0.1\",\n",
    "              \"172.24.0.1\",\"172.25.0.1\",\"172.26.0.1\",\"172.27.0.1\",\"172.28.0.1\",\"172.29.0.1\",\"172.30.0.1\",\"172.31.0.1\"]\n",
    "iot_['src_ip'] = np.random.choice(srcip_list, iot_.shape[0])"
   ]
  },
  {
   "cell_type": "code",
   "execution_count": null,
   "metadata": {},
   "outputs": [],
   "source": [
    "iot_['src_ip'] = iot_['src_ip'].astype(str)+\":\"+iot_['src_port'].astype(str)\n",
    "iot_['dst_ip'] = iot_['dst_ip'].astype(str)+\":\"+iot_['dst_port'].astype(str)\n",
    "iot_.drop(columns=['src_port','dst_port'], inplace=True)\n",
    "iot_.head()"
   ]
  },
  {
   "cell_type": "code",
   "execution_count": null,
   "metadata": {},
   "outputs": [],
   "source": [
    "iot_.to_pickle(\"iot.pkl\")\n",
    "\n",
    "srcnode = set(iot_['src_ip'])\n",
    "dtnode = set(iot_['dst_ip'])\n",
    "nodes = list(dtnode.union(srcnode))\n",
    "np.save(\"nodes.npy\", nodes)                                                                                                                                                                                                                                                                                                                                                                                                      \n",
    "\n",
    "binary = iot_['label'].to_numpy().astype(np.int8)\n",
    "np.save(\"label_bi.npy\", binary)\n",
    "\n",
    "adj = iot_[['src_ip', 'dst_ip']].to_numpy()\n",
    "np.save(\"adj.npy\", adj)\n",
    "\n",
    "multi = iot_['type'].to_numpy().astype(np.int16) \n",
    "np.save(\"label_mul.npy\", multi)\n",
    "\n",
    "edge_feat = iot_.iloc[:,list(range(5,43))].to_numpy()\n",
    "np.save(\"edge_feat.npy\",edge_feat)"
   ]
  },
  {
   "cell_type": "code",
   "execution_count": null,
   "metadata": {},
   "outputs": [],
   "source": [
    "a = [0]\n",
    "b = list(range(5,43))\n",
    "c = a+b"
   ]
  },
  {
   "cell_type": "code",
   "execution_count": null,
   "metadata": {},
   "outputs": [],
   "source": [
    "iot_['type'].unique()"
   ]
  },
  {
   "cell_type": "code",
   "execution_count": null,
   "metadata": {},
   "outputs": [],
   "source": [
    "iot__ = iot_.copy()\n",
    "iot__.iloc[:,c] = iot__.iloc[:,c].apply(lambda x: (x-x.mean())/ x.std(), axis=0)\n",
    "iot__.head()"
   ]
  },
  {
   "cell_type": "code",
   "execution_count": null,
   "metadata": {},
   "outputs": [],
   "source": [
    "edge_feat_scaled = iot__.iloc[:,c].to_numpy()\n",
    "np.save(\"edge_feat_scaled.npy\",edge_feat_scaled)"
   ]
  },
  {
   "cell_type": "code",
   "execution_count": null,
   "metadata": {},
   "outputs": [],
   "source": [
    "import numpy as np\n",
    "from sklearn.metrics import f1_score\n",
    "label_bi = iot['label']\n",
    "zeros = np.zeros((label_bi.shape))\n",
    "f1_score(label_bi, zeros, average='micro')"
   ]
  },
  {
   "cell_type": "code",
   "execution_count": null,
   "metadata": {},
   "outputs": [],
   "source": [
    "iot['label'].sum()/iot.shape[0]"
   ]
  },
  {
   "cell_type": "code",
   "execution_count": null,
   "metadata": {},
   "outputs": [],
   "source": [
    "f1_score(label_bi, zeros, average='binary')"
   ]
  },
  {
   "cell_type": "code",
   "execution_count": null,
   "metadata": {},
   "outputs": [],
   "source": [
    "f1_score(label_bi, zeros, average='weighted')"
   ]
  },
  {
   "cell_type": "code",
   "execution_count": null,
   "metadata": {},
   "outputs": [],
   "source": [
    "f1_score(label_bi, zeros, average='macro')"
   ]
  },
  {
   "cell_type": "code",
   "execution_count": null,
   "metadata": {},
   "outputs": [],
   "source": [
    "iot_['label'].unique()"
   ]
  },
  {
   "cell_type": "code",
   "execution_count": null,
   "metadata": {},
   "outputs": [],
   "source": [
    "iot_['label'].sum()"
   ]
  },
  {
   "cell_type": "markdown",
   "metadata": {},
   "source": [
    "## Edge adj"
   ]
  },
  {
   "cell_type": "code",
   "execution_count": null,
   "metadata": {},
   "outputs": [],
   "source": [
    "import numpy as np\n",
    "from collections import defaultdict\n",
    "adj = np.load(\"adj.npy\", allow_pickle=True)\n",
    "adj_lists = defaultdict(set)  # not return keyerror when not found\n",
    "for i, line in enumerate(adj):\n",
    "    node1 = line[0]\n",
    "    node2 = line[1]\n",
    "    adj_lists[node1].add(i)  # mutual neighbor\n",
    "    adj_lists[node2].add(i)\n",
    "with open('adj_list.dict', 'wb') as file:\n",
    "    pickle.dump(adj_lists, file, protocol=pickle.HIGHEST_PROTOCOL)"
   ]
  },
  {
   "cell_type": "code",
   "execution_count": null,
   "metadata": {},
   "outputs": [],
   "source": [
    "import pickle\n",
    "import numpy as np\n",
    "with open('adj_list.dict', 'rb') as file:\n",
    "    adj_lists = pickle.load(file)\n",
    "edge_idx = np.random.choice(np.arange(460000), 5)\n",
    "adj = np.load(\"adj.npy\", allow_pickle=True)\n",
    "edge_idx.shape"
   ]
  },
  {
   "cell_type": "code",
   "execution_count": 5,
   "metadata": {},
   "outputs": [],
   "source": [
    "import numpy as np\n",
    "import pickle\n",
    "from collections import defaultdict\n",
    "adj = np.load(\"adj_random.npy\", allow_pickle=True)\n",
    "adj_lists = defaultdict(set)  # not return keyerror when not found\n",
    "for i, line in enumerate(adj):\n",
    "    node1 = line[0]\n",
    "    node2 = line[1]\n",
    "    adj_lists[node1].add(i)  # mutual neighbor\n",
    "    adj_lists[node2].add(i)\n",
    "with open('adj_random_list.dict', 'wb') as file:\n",
    "    pickle.dump(adj_lists, file, protocol=pickle.HIGHEST_PROTOCOL)"
   ]
  },
  {
   "cell_type": "code",
   "execution_count": 61,
   "metadata": {},
   "outputs": [
    {
     "data": {
      "text/plain": [
       "(2000,)"
      ]
     },
     "execution_count": 61,
     "metadata": {},
     "output_type": "execute_result"
    }
   ],
   "source": [
    "import pickle\n",
    "import numpy as np\n",
    "with open('adj_random_list.dict', 'rb') as file:\n",
    "    adj_lists = pickle.load(file)\n",
    "edge_idx = np.random.choice(np.arange(460000), 2000)\n",
    "adj = np.load(\"adj_random.npy\", allow_pickle=True)\n",
    "edge_idx.shape\n",
    "# len(adj_lists)"
   ]
  },
  {
   "cell_type": "code",
   "execution_count": 5,
   "metadata": {},
   "outputs": [],
   "source": [
    "def build_edge_index(source_nodes_ids, target_nodes_ids, seen_edges, edges_neigh):\n",
    "    new_neigh = set()\n",
    "    for edge in edges_neigh:\n",
    "        nodes = adj[edge]\n",
    "        for node in nodes:\n",
    "            neigh = adj_lists.get(node)\n",
    "            new_neigh = new_neigh.union(neigh)\n",
    "            for edge_neigh in neigh:\n",
    "                if (edge, edge_neigh) not in seen_edges and (edge_neigh, edge) not in seen_edges and edge != edge_neigh:\n",
    "                    source_nodes_ids.append(edge)\n",
    "                    target_nodes_ids.append(edge_neigh)\n",
    "                    seen_edges.add((edge, edge_neigh))\n",
    "                    \n",
    "    return source_nodes_ids, target_nodes_ids, seen_edges, new_neigh"
   ]
  },
  {
   "cell_type": "code",
   "execution_count": 1,
   "metadata": {},
   "outputs": [],
   "source": [
    "import numpy as np\n",
    "adj = np.array([[0,1],[0,2],[1,2],[0,3],[1,3],[3,4],[2,5]])\n",
    "adj_lists = {0:set([0,1,3]),1:set([0,2,4]),2:set([1,2,6]),\n",
    "             3:set([3,4,5]),4:set([5]),5:set([6])}\n",
    "edge_idx = np.arange(1)"
   ]
  },
  {
   "cell_type": "code",
   "execution_count": 6,
   "metadata": {},
   "outputs": [
    {
     "name": "stdout",
     "output_type": "stream",
     "text": [
      "finish\n",
      "finish\n",
      "(2, 12) 0.0\n"
     ]
    }
   ],
   "source": [
    "import time\n",
    "source_nodes_ids, target_nodes_ids = [], []\n",
    "seen_edges = set()\n",
    "edges = set(edge_idx)\n",
    "edges_neigh = set(edge_idx)\n",
    "\n",
    "a = time.time()\n",
    "for i in range(2):\n",
    "    source_nodes_ids, target_nodes_ids, seen_edges, edges_neigh = build_edge_index(source_nodes_ids, \n",
    "                                                                                   target_nodes_ids, seen_edges, edges_neigh)\n",
    "    edges = edges.union(edges_neigh)\n",
    "    print('finish')\n",
    "b = time.time()\n",
    "\n",
    "# source_nodes_ids.extend(edges)\n",
    "# target_nodes_ids.extend(edges)\n",
    "\n",
    "unique_map = {}\n",
    "for idx, edge in enumerate(edges):\n",
    "    unique_map[edge] = idx\n",
    "    \n",
    "source_nodes_ids = [unique_map[ids] for ids in source_nodes_ids]\n",
    "target_nodes_ids = [unique_map[ids] for ids in target_nodes_ids]\n",
    "\n",
    "# shape = (2, E), where E is the number of edges in the graph\n",
    "edge_index = np.row_stack((source_nodes_ids, target_nodes_ids))\n",
    "print(edge_index.shape, b-a)"
   ]
  },
  {
   "cell_type": "code",
   "execution_count": 60,
   "metadata": {},
   "outputs": [
    {
     "data": {
      "text/plain": [
       "49189"
      ]
     },
     "execution_count": 60,
     "metadata": {},
     "output_type": "execute_result"
    }
   ],
   "source": [
    "len(edges)"
   ]
  },
  {
   "cell_type": "code",
   "execution_count": 7,
   "metadata": {},
   "outputs": [
    {
     "data": {
      "text/plain": [
       "array([[0, 0, 0, 0, 1, 1, 1, 2, 2, 3, 3, 4],\n",
       "       [1, 3, 2, 4, 3, 2, 6, 4, 6, 4, 5, 5]])"
      ]
     },
     "execution_count": 7,
     "metadata": {},
     "output_type": "execute_result"
    }
   ],
   "source": [
    "edge_index"
   ]
  },
  {
   "cell_type": "code",
   "execution_count": 53,
   "metadata": {},
   "outputs": [
    {
     "data": {
      "text/plain": [
       "array([440459])"
      ]
     },
     "execution_count": 53,
     "metadata": {},
     "output_type": "execute_result"
    }
   ],
   "source": [
    "edge_idx"
   ]
  },
  {
   "cell_type": "code",
   "execution_count": 54,
   "metadata": {},
   "outputs": [
    {
     "data": {
      "text/plain": [
       "array([ 50357, 149786])"
      ]
     },
     "execution_count": 54,
     "metadata": {},
     "output_type": "execute_result"
    }
   ],
   "source": [
    "adj[440459]"
   ]
  },
  {
   "cell_type": "code",
   "execution_count": 55,
   "metadata": {},
   "outputs": [
    {
     "data": {
      "text/plain": [
       "{311209, 357029, 440459}"
      ]
     },
     "execution_count": 55,
     "metadata": {},
     "output_type": "execute_result"
    }
   ],
   "source": [
    "adj_lists.get(50357)"
   ]
  },
  {
   "cell_type": "code",
   "execution_count": 56,
   "metadata": {},
   "outputs": [
    {
     "data": {
      "text/plain": [
       "{224211, 262228, 390267, 422105, 440459}"
      ]
     },
     "execution_count": 56,
     "metadata": {},
     "output_type": "execute_result"
    }
   ],
   "source": [
    "adj_lists.get(149786)"
   ]
  },
  {
   "cell_type": "code",
   "execution_count": 4,
   "metadata": {},
   "outputs": [
    {
     "name": "stdout",
     "output_type": "stream",
     "text": [
      "{0, 1, 2, 3, 4, 5, 6}\n"
     ]
    }
   ],
   "source": [
    "print(edges)"
   ]
  },
  {
   "cell_type": "code",
   "execution_count": 7,
   "metadata": {},
   "outputs": [
    {
     "data": {
      "text/plain": [
       "array([[0, 0, 0, 0, 0, 1, 1, 1, 1, 2, 2, 2, 3, 3, 3, 4, 4],\n",
       "       [0, 1, 3, 2, 4, 1, 3, 2, 6, 2, 4, 6, 3, 4, 5, 4, 5]])"
      ]
     },
     "execution_count": 7,
     "metadata": {},
     "output_type": "execute_result"
    }
   ],
   "source": [
    "edge_index"
   ]
  },
  {
   "cell_type": "code",
   "execution_count": null,
   "metadata": {},
   "outputs": [],
   "source": [
    "len(adj_lists)"
   ]
  },
  {
   "cell_type": "markdown",
   "metadata": {},
   "source": [
    "## adj_random"
   ]
  },
  {
   "cell_type": "code",
   "execution_count": null,
   "metadata": {},
   "outputs": [],
   "source": [
    "edge_feat = np.load(\"edge_feat_scaled.npy\")\n",
    "srcip_list = list(range(100000))\n",
    "dstip_list = list(range(100001,200000))\n",
    "src = np.random.choice(srcip_list, edge_feat.shape[0])\n",
    "dst = np.random.choice(dstip_list, edge_feat.shape[0])\n",
    "src.shape"
   ]
  },
  {
   "cell_type": "code",
   "execution_count": null,
   "metadata": {},
   "outputs": [],
   "source": [
    "adj_random = np.column_stack((src,dst))"
   ]
  },
  {
   "cell_type": "code",
   "execution_count": null,
   "metadata": {},
   "outputs": [],
   "source": [
    "adj_random.shape"
   ]
  },
  {
   "cell_type": "code",
   "execution_count": null,
   "metadata": {},
   "outputs": [],
   "source": [
    "np.save(\"adj_random.npy\", adj_random)"
   ]
  },
  {
   "cell_type": "code",
   "execution_count": null,
   "metadata": {},
   "outputs": [],
   "source": [
    "np.save(\"node_random.npy\", np.array(list(range(200000))))"
   ]
  },
  {
   "cell_type": "code",
   "execution_count": 64,
   "metadata": {},
   "outputs": [
    {
     "data": {
      "text/plain": [
       "2"
      ]
     },
     "execution_count": 64,
     "metadata": {},
     "output_type": "execute_result"
    }
   ],
   "source": [
    "import torch\n",
    "a = [1,2]\n",
    "b = torch.tensor(a)\n",
    "len(b)"
   ]
  },
  {
   "cell_type": "code",
   "execution_count": 65,
   "metadata": {},
   "outputs": [],
   "source": [
    "import enum"
   ]
  },
  {
   "cell_type": "code",
   "execution_count": 86,
   "metadata": {},
   "outputs": [
    {
     "data": {
      "text/plain": [
       "0.0022622618714523376"
      ]
     },
     "execution_count": 86,
     "metadata": {},
     "output_type": "execute_result"
    }
   ],
   "source": [
    "label = np.load('label_mul.npy')\n",
    "(label == 4).sum()/label.shape[0]"
   ]
  },
  {
   "cell_type": "code",
   "execution_count": 9,
   "metadata": {},
   "outputs": [
    {
     "data": {
      "text/plain": [
       "tensor([[-2.1830, -0.8871, -1.5883],\n",
       "        [ 0.0115,  1.1728,  0.0585]])"
      ]
     },
     "execution_count": 9,
     "metadata": {},
     "output_type": "execute_result"
    }
   ],
   "source": [
    "import torch\n",
    "\n",
    "inpu = torch.randn(2, 3)\n",
    "inpu"
   ]
  },
  {
   "cell_type": "code",
   "execution_count": 21,
   "metadata": {},
   "outputs": [
    {
     "data": {
      "text/plain": [
       "tensor([[-3.0000, -1.8414, -2.4683],\n",
       "        [-1.0382,  0.0000, -0.9961]])"
      ]
     },
     "execution_count": 21,
     "metadata": {},
     "output_type": "execute_result"
    }
   ],
   "source": [
    "3*(inpu - inpu.max())/(inpu.max()-inpu.min())"
   ]
  },
  {
   "cell_type": "code",
   "execution_count": 20,
   "metadata": {},
   "outputs": [
    {
     "data": {
      "text/plain": [
       "torch.return_types.topk(\n",
       "values=tensor([[ 0.0115,  1.1728,  0.0585],\n",
       "        [-2.1830, -0.8871, -1.5883]]),\n",
       "indices=tensor([[1, 1, 1],\n",
       "        [0, 0, 0]]))"
      ]
     },
     "execution_count": 20,
     "metadata": {},
     "output_type": "execute_result"
    }
   ],
   "source": [
    "torch.topk(inpu,2,0)"
   ]
  },
  {
   "cell_type": "code",
   "execution_count": 13,
   "metadata": {},
   "outputs": [
    {
     "data": {
      "text/plain": [
       "tensor(2.5154e+30)"
      ]
     },
     "execution_count": 13,
     "metadata": {},
     "output_type": "execute_result"
    }
   ],
   "source": [
    "torch.tensor(70.0).exp()"
   ]
  },
  {
   "cell_type": "markdown",
   "metadata": {},
   "source": [
    "## Undersampling"
   ]
  },
  {
   "cell_type": "code",
   "execution_count": 8,
   "metadata": {},
   "outputs": [],
   "source": [
    "from imblearn.under_sampling import RandomUnderSampler\n",
    "from collections import Counter\n",
    "from sklearn.model_selection import train_test_split\n",
    "import numpy as np\n",
    "from collections import Counter"
   ]
  },
  {
   "cell_type": "code",
   "execution_count": 35,
   "metadata": {},
   "outputs": [],
   "source": [
    "edge_feat = np.load(\"edge_feat_scaled.npy\")\n",
    "label_bi = np.load(\"label_bi.npy\")"
   ]
  },
  {
   "cell_type": "code",
   "execution_count": 36,
   "metadata": {},
   "outputs": [],
   "source": [
    "num_edges = len(edge_feat)\n",
    "train_val, test = train_test_split(np.arange(num_edges), test_size=140000, stratify=label_bi)\n",
    "train_before, val = train_test_split(train_val, test_size=5000, stratify=label_bi[train_val])"
   ]
  },
  {
   "cell_type": "code",
   "execution_count": 37,
   "metadata": {},
   "outputs": [
    {
     "name": "stdout",
     "output_type": "stream",
     "text": [
      "Before undersampling: Counter({0: 205649, 1: 110394})\n",
      "After undersampling: Counter({0: 110394, 1: 110394})\n"
     ]
    }
   ],
   "source": [
    "print(\"Before undersampling: {}\".format(Counter(label_bi[train_before])))\n",
    "rus = RandomUnderSampler(random_state=42, sampling_strategy='auto')\n",
    "train, y_rus = rus.fit_resample(train_before.reshape(-1, 1), label_bi[train_before])\n",
    "print(\"After undersampling: {}\".format(Counter(y_rus)))\n",
    "train = train.reshape(-1,)"
   ]
  },
  {
   "cell_type": "code",
   "execution_count": 38,
   "metadata": {},
   "outputs": [
    {
     "data": {
      "text/plain": [
       "(365788, 39)"
      ]
     },
     "execution_count": 38,
     "metadata": {},
     "output_type": "execute_result"
    }
   ],
   "source": [
    "edge_rus = np.concatenate((edge_feat[test], edge_feat[val], edge_feat[train]),axis=0)\n",
    "edge_rus.shape"
   ]
  },
  {
   "cell_type": "code",
   "execution_count": 39,
   "metadata": {},
   "outputs": [],
   "source": [
    "np.save('edge_feat_rus.npy', edge_rus)"
   ]
  },
  {
   "cell_type": "code",
   "execution_count": 40,
   "metadata": {},
   "outputs": [],
   "source": [
    "label_bi_rus = np.concatenate((label_bi[test], label_bi[val], label_bi[train]),axis=0)\n",
    "label_mul = np.load('label_mul.npy')\n",
    "label_mul_rus = np.concatenate((label_mul[test], label_mul[val], label_mul[train]),axis=0)"
   ]
  },
  {
   "cell_type": "code",
   "execution_count": 41,
   "metadata": {},
   "outputs": [],
   "source": [
    "np.save('label_bi_rus.npy', label_bi_rus)\n",
    "np.save('label_mul_rus.npy', label_mul_rus)"
   ]
  },
  {
   "cell_type": "code",
   "execution_count": 42,
   "metadata": {},
   "outputs": [],
   "source": [
    "srcip_list = list(range(90000))\n",
    "dstip_list = list(range(90001,180000))\n",
    "src = np.random.choice(srcip_list, edge_rus.shape[0])\n",
    "dst = np.random.choice(dstip_list, edge_rus.shape[0])\n",
    "adj_rus = np.column_stack((src,dst))\n",
    "np.save('adj_rus.npy', adj_rus)"
   ]
  },
  {
   "cell_type": "code",
   "execution_count": 43,
   "metadata": {},
   "outputs": [],
   "source": [
    "import pickle\n",
    "from collections import defaultdict\n",
    "adj = np.load(\"adj_rus.npy\", allow_pickle=True)\n",
    "adj_lists = defaultdict(set)  # not return keyerror when not found\n",
    "for i, line in enumerate(adj):\n",
    "    node1 = line[0]\n",
    "    node2 = line[1]\n",
    "    adj_lists[node1].add(i)  # mutual neighbor\n",
    "    adj_lists[node2].add(i)\n",
    "with open('adj_rus_list.dict', 'wb') as file:\n",
    "    pickle.dump(adj_lists, file, protocol=pickle.HIGHEST_PROTOCOL)"
   ]
  },
  {
   "cell_type": "code",
   "execution_count": 44,
   "metadata": {},
   "outputs": [
    {
     "data": {
      "text/plain": [
       "Counter({5: 300000,\n",
       "         8: 20000,\n",
       "         2: 20000,\n",
       "         3: 20000,\n",
       "         1: 20000,\n",
       "         6: 20000,\n",
       "         9: 20000,\n",
       "         7: 20000,\n",
       "         0: 20000,\n",
       "         4: 1043})"
      ]
     },
     "execution_count": 44,
     "metadata": {},
     "output_type": "execute_result"
    }
   ],
   "source": [
    "Counter(label_mul)"
   ]
  }
 ],
 "metadata": {
  "kernelspec": {
   "display_name": "Python 3",
   "language": "python",
   "name": "python3"
  },
  "language_info": {
   "codemirror_mode": {
    "name": "ipython",
    "version": 3
   },
   "file_extension": ".py",
   "mimetype": "text/x-python",
   "name": "python",
   "nbconvert_exporter": "python",
   "pygments_lexer": "ipython3",
   "version": "3.7.6"
  }
 },
 "nbformat": 4,
 "nbformat_minor": 4
}
