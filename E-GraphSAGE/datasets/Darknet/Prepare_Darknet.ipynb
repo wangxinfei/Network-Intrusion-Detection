{
 "cells": [
  {
   "cell_type": "code",
   "execution_count": 1,
   "metadata": {},
   "outputs": [],
   "source": [
    "import numpy as np\n",
    "import pandas as pd"
   ]
  },
  {
   "cell_type": "code",
   "execution_count": 2,
   "metadata": {},
   "outputs": [
    {
     "data": {
      "text/html": [
       "<div>\n",
       "<style scoped>\n",
       "    .dataframe tbody tr th:only-of-type {\n",
       "        vertical-align: middle;\n",
       "    }\n",
       "\n",
       "    .dataframe tbody tr th {\n",
       "        vertical-align: top;\n",
       "    }\n",
       "\n",
       "    .dataframe thead th {\n",
       "        text-align: right;\n",
       "    }\n",
       "</style>\n",
       "<table border=\"1\" class=\"dataframe\">\n",
       "  <thead>\n",
       "    <tr style=\"text-align: right;\">\n",
       "      <th></th>\n",
       "      <th>Flow ID</th>\n",
       "      <th>Src IP</th>\n",
       "      <th>Src Port</th>\n",
       "      <th>Dst IP</th>\n",
       "      <th>Dst Port</th>\n",
       "      <th>Protocol</th>\n",
       "      <th>Timestamp</th>\n",
       "      <th>Flow Duration</th>\n",
       "      <th>Total Fwd Packet</th>\n",
       "      <th>Total Bwd packets</th>\n",
       "      <th>...</th>\n",
       "      <th>Active Mean</th>\n",
       "      <th>Active Std</th>\n",
       "      <th>Active Max</th>\n",
       "      <th>Active Min</th>\n",
       "      <th>Idle Mean</th>\n",
       "      <th>Idle Std</th>\n",
       "      <th>Idle Max</th>\n",
       "      <th>Idle Min</th>\n",
       "      <th>Label</th>\n",
       "      <th>Label.1</th>\n",
       "    </tr>\n",
       "  </thead>\n",
       "  <tbody>\n",
       "    <tr>\n",
       "      <th>0</th>\n",
       "      <td>10.152.152.11-216.58.220.99-57158-443-6</td>\n",
       "      <td>10.152.152.11</td>\n",
       "      <td>57158</td>\n",
       "      <td>216.58.220.99</td>\n",
       "      <td>443</td>\n",
       "      <td>6</td>\n",
       "      <td>24/07/2015 04:09:48 PM</td>\n",
       "      <td>229</td>\n",
       "      <td>1</td>\n",
       "      <td>1</td>\n",
       "      <td>...</td>\n",
       "      <td>0</td>\n",
       "      <td>0</td>\n",
       "      <td>0</td>\n",
       "      <td>0</td>\n",
       "      <td>0.000000e+00</td>\n",
       "      <td>0.000</td>\n",
       "      <td>0.000000e+00</td>\n",
       "      <td>0.000000e+00</td>\n",
       "      <td>Non-Tor</td>\n",
       "      <td>AUDIO-STREAMING</td>\n",
       "    </tr>\n",
       "    <tr>\n",
       "      <th>1</th>\n",
       "      <td>10.152.152.11-216.58.220.99-57159-443-6</td>\n",
       "      <td>10.152.152.11</td>\n",
       "      <td>57159</td>\n",
       "      <td>216.58.220.99</td>\n",
       "      <td>443</td>\n",
       "      <td>6</td>\n",
       "      <td>24/07/2015 04:09:48 PM</td>\n",
       "      <td>407</td>\n",
       "      <td>1</td>\n",
       "      <td>1</td>\n",
       "      <td>...</td>\n",
       "      <td>0</td>\n",
       "      <td>0</td>\n",
       "      <td>0</td>\n",
       "      <td>0</td>\n",
       "      <td>0.000000e+00</td>\n",
       "      <td>0.000</td>\n",
       "      <td>0.000000e+00</td>\n",
       "      <td>0.000000e+00</td>\n",
       "      <td>Non-Tor</td>\n",
       "      <td>AUDIO-STREAMING</td>\n",
       "    </tr>\n",
       "    <tr>\n",
       "      <th>2</th>\n",
       "      <td>10.152.152.11-216.58.220.99-57160-443-6</td>\n",
       "      <td>10.152.152.11</td>\n",
       "      <td>57160</td>\n",
       "      <td>216.58.220.99</td>\n",
       "      <td>443</td>\n",
       "      <td>6</td>\n",
       "      <td>24/07/2015 04:09:48 PM</td>\n",
       "      <td>431</td>\n",
       "      <td>1</td>\n",
       "      <td>1</td>\n",
       "      <td>...</td>\n",
       "      <td>0</td>\n",
       "      <td>0</td>\n",
       "      <td>0</td>\n",
       "      <td>0</td>\n",
       "      <td>0.000000e+00</td>\n",
       "      <td>0.000</td>\n",
       "      <td>0.000000e+00</td>\n",
       "      <td>0.000000e+00</td>\n",
       "      <td>Non-Tor</td>\n",
       "      <td>AUDIO-STREAMING</td>\n",
       "    </tr>\n",
       "    <tr>\n",
       "      <th>3</th>\n",
       "      <td>10.152.152.11-74.125.136.120-49134-443-6</td>\n",
       "      <td>10.152.152.11</td>\n",
       "      <td>49134</td>\n",
       "      <td>74.125.136.120</td>\n",
       "      <td>443</td>\n",
       "      <td>6</td>\n",
       "      <td>24/07/2015 04:09:48 PM</td>\n",
       "      <td>359</td>\n",
       "      <td>1</td>\n",
       "      <td>1</td>\n",
       "      <td>...</td>\n",
       "      <td>0</td>\n",
       "      <td>0</td>\n",
       "      <td>0</td>\n",
       "      <td>0</td>\n",
       "      <td>0.000000e+00</td>\n",
       "      <td>0.000</td>\n",
       "      <td>0.000000e+00</td>\n",
       "      <td>0.000000e+00</td>\n",
       "      <td>Non-Tor</td>\n",
       "      <td>AUDIO-STREAMING</td>\n",
       "    </tr>\n",
       "    <tr>\n",
       "      <th>4</th>\n",
       "      <td>10.152.152.11-173.194.65.127-34697-19305-6</td>\n",
       "      <td>10.152.152.11</td>\n",
       "      <td>34697</td>\n",
       "      <td>173.194.65.127</td>\n",
       "      <td>19305</td>\n",
       "      <td>6</td>\n",
       "      <td>24/07/2015 04:09:45 PM</td>\n",
       "      <td>10778451</td>\n",
       "      <td>591</td>\n",
       "      <td>400</td>\n",
       "      <td>...</td>\n",
       "      <td>0</td>\n",
       "      <td>0</td>\n",
       "      <td>0</td>\n",
       "      <td>0</td>\n",
       "      <td>1.437760e+15</td>\n",
       "      <td>3117718.131</td>\n",
       "      <td>1.437760e+15</td>\n",
       "      <td>1.437760e+15</td>\n",
       "      <td>Non-Tor</td>\n",
       "      <td>AUDIO-STREAMING</td>\n",
       "    </tr>\n",
       "  </tbody>\n",
       "</table>\n",
       "<p>5 rows × 85 columns</p>\n",
       "</div>"
      ],
      "text/plain": [
       "                                      Flow ID         Src IP  Src Port  \\\n",
       "0     10.152.152.11-216.58.220.99-57158-443-6  10.152.152.11     57158   \n",
       "1     10.152.152.11-216.58.220.99-57159-443-6  10.152.152.11     57159   \n",
       "2     10.152.152.11-216.58.220.99-57160-443-6  10.152.152.11     57160   \n",
       "3    10.152.152.11-74.125.136.120-49134-443-6  10.152.152.11     49134   \n",
       "4  10.152.152.11-173.194.65.127-34697-19305-6  10.152.152.11     34697   \n",
       "\n",
       "           Dst IP  Dst Port  Protocol               Timestamp  Flow Duration  \\\n",
       "0   216.58.220.99       443         6  24/07/2015 04:09:48 PM            229   \n",
       "1   216.58.220.99       443         6  24/07/2015 04:09:48 PM            407   \n",
       "2   216.58.220.99       443         6  24/07/2015 04:09:48 PM            431   \n",
       "3  74.125.136.120       443         6  24/07/2015 04:09:48 PM            359   \n",
       "4  173.194.65.127     19305         6  24/07/2015 04:09:45 PM       10778451   \n",
       "\n",
       "   Total Fwd Packet  Total Bwd packets  ...  Active Mean  Active Std  \\\n",
       "0                 1                  1  ...            0           0   \n",
       "1                 1                  1  ...            0           0   \n",
       "2                 1                  1  ...            0           0   \n",
       "3                 1                  1  ...            0           0   \n",
       "4               591                400  ...            0           0   \n",
       "\n",
       "   Active Max  Active Min     Idle Mean     Idle Std      Idle Max  \\\n",
       "0           0           0  0.000000e+00        0.000  0.000000e+00   \n",
       "1           0           0  0.000000e+00        0.000  0.000000e+00   \n",
       "2           0           0  0.000000e+00        0.000  0.000000e+00   \n",
       "3           0           0  0.000000e+00        0.000  0.000000e+00   \n",
       "4           0           0  1.437760e+15  3117718.131  1.437760e+15   \n",
       "\n",
       "       Idle Min    Label          Label.1  \n",
       "0  0.000000e+00  Non-Tor  AUDIO-STREAMING  \n",
       "1  0.000000e+00  Non-Tor  AUDIO-STREAMING  \n",
       "2  0.000000e+00  Non-Tor  AUDIO-STREAMING  \n",
       "3  0.000000e+00  Non-Tor  AUDIO-STREAMING  \n",
       "4  1.437760e+15  Non-Tor  AUDIO-STREAMING  \n",
       "\n",
       "[5 rows x 85 columns]"
      ]
     },
     "execution_count": 2,
     "metadata": {},
     "output_type": "execute_result"
    }
   ],
   "source": [
    "dk = pd.read_csv('Darknet.CSV')\n",
    "dk.head()"
   ]
  },
  {
   "cell_type": "code",
   "execution_count": 3,
   "metadata": {},
   "outputs": [
    {
     "data": {
      "text/plain": [
       "117219"
      ]
     },
     "execution_count": 3,
     "metadata": {},
     "output_type": "execute_result"
    }
   ],
   "source": [
    "(dk['Label'] == 'NonVPN').sum() + (dk['Label'] == 'Non-Tor').sum()  "
   ]
  },
  {
   "cell_type": "code",
   "execution_count": 4,
   "metadata": {},
   "outputs": [
    {
     "data": {
      "text/plain": [
       "array(['Non-Tor', 'NonVPN', 'Tor', 'VPN'], dtype=object)"
      ]
     },
     "execution_count": 4,
     "metadata": {},
     "output_type": "execute_result"
    }
   ],
   "source": [
    "dk['Label'].unique()"
   ]
  },
  {
   "cell_type": "code",
   "execution_count": 5,
   "metadata": {},
   "outputs": [
    {
     "data": {
      "text/plain": [
       "array(['AUDIO-STREAMING', 'Browsing', 'Chat', 'Email', 'File-Transfer',\n",
       "       'File-transfer', 'P2P', 'Video-Streaming', 'Audio-Streaming',\n",
       "       'Video-streaming', 'VOIP'], dtype=object)"
      ]
     },
     "execution_count": 5,
     "metadata": {},
     "output_type": "execute_result"
    }
   ],
   "source": [
    "dk['Label.1'].unique()"
   ]
  },
  {
   "cell_type": "code",
   "execution_count": 6,
   "metadata": {},
   "outputs": [
    {
     "data": {
      "text/plain": [
       "3914"
      ]
     },
     "execution_count": 6,
     "metadata": {},
     "output_type": "execute_result"
    }
   ],
   "source": [
    "len(dk['Src IP'].unique())"
   ]
  },
  {
   "cell_type": "code",
   "execution_count": 7,
   "metadata": {},
   "outputs": [
    {
     "data": {
      "text/html": [
       "<div>\n",
       "<style scoped>\n",
       "    .dataframe tbody tr th:only-of-type {\n",
       "        vertical-align: middle;\n",
       "    }\n",
       "\n",
       "    .dataframe tbody tr th {\n",
       "        vertical-align: top;\n",
       "    }\n",
       "\n",
       "    .dataframe thead th {\n",
       "        text-align: right;\n",
       "    }\n",
       "</style>\n",
       "<table border=\"1\" class=\"dataframe\">\n",
       "  <thead>\n",
       "    <tr style=\"text-align: right;\">\n",
       "      <th></th>\n",
       "      <th>Src IP</th>\n",
       "      <th>Dst IP</th>\n",
       "      <th>Protocol</th>\n",
       "      <th>Flow Duration</th>\n",
       "      <th>Total Fwd Packet</th>\n",
       "      <th>Total Bwd packets</th>\n",
       "      <th>Total Length of Fwd Packet</th>\n",
       "      <th>Total Length of Bwd Packet</th>\n",
       "      <th>Fwd Packet Length Max</th>\n",
       "      <th>Fwd Packet Length Min</th>\n",
       "      <th>...</th>\n",
       "      <th>Active Mean</th>\n",
       "      <th>Active Std</th>\n",
       "      <th>Active Max</th>\n",
       "      <th>Active Min</th>\n",
       "      <th>Idle Mean</th>\n",
       "      <th>Idle Std</th>\n",
       "      <th>Idle Max</th>\n",
       "      <th>Idle Min</th>\n",
       "      <th>Label</th>\n",
       "      <th>Label.1</th>\n",
       "    </tr>\n",
       "  </thead>\n",
       "  <tbody>\n",
       "    <tr>\n",
       "      <th>0</th>\n",
       "      <td>172.29.0.1:57158</td>\n",
       "      <td>216.58.220.99:443</td>\n",
       "      <td>6</td>\n",
       "      <td>229</td>\n",
       "      <td>1</td>\n",
       "      <td>1</td>\n",
       "      <td>0</td>\n",
       "      <td>0</td>\n",
       "      <td>0</td>\n",
       "      <td>0</td>\n",
       "      <td>...</td>\n",
       "      <td>0</td>\n",
       "      <td>0</td>\n",
       "      <td>0</td>\n",
       "      <td>0</td>\n",
       "      <td>0.000000e+00</td>\n",
       "      <td>0.000</td>\n",
       "      <td>0.000000e+00</td>\n",
       "      <td>0.000000e+00</td>\n",
       "      <td>Non-Tor</td>\n",
       "      <td>AUDIO-STREAMING</td>\n",
       "    </tr>\n",
       "    <tr>\n",
       "      <th>1</th>\n",
       "      <td>172.23.0.1:57159</td>\n",
       "      <td>216.58.220.99:443</td>\n",
       "      <td>6</td>\n",
       "      <td>407</td>\n",
       "      <td>1</td>\n",
       "      <td>1</td>\n",
       "      <td>0</td>\n",
       "      <td>0</td>\n",
       "      <td>0</td>\n",
       "      <td>0</td>\n",
       "      <td>...</td>\n",
       "      <td>0</td>\n",
       "      <td>0</td>\n",
       "      <td>0</td>\n",
       "      <td>0</td>\n",
       "      <td>0.000000e+00</td>\n",
       "      <td>0.000</td>\n",
       "      <td>0.000000e+00</td>\n",
       "      <td>0.000000e+00</td>\n",
       "      <td>Non-Tor</td>\n",
       "      <td>AUDIO-STREAMING</td>\n",
       "    </tr>\n",
       "    <tr>\n",
       "      <th>2</th>\n",
       "      <td>172.23.0.1:57160</td>\n",
       "      <td>216.58.220.99:443</td>\n",
       "      <td>6</td>\n",
       "      <td>431</td>\n",
       "      <td>1</td>\n",
       "      <td>1</td>\n",
       "      <td>0</td>\n",
       "      <td>0</td>\n",
       "      <td>0</td>\n",
       "      <td>0</td>\n",
       "      <td>...</td>\n",
       "      <td>0</td>\n",
       "      <td>0</td>\n",
       "      <td>0</td>\n",
       "      <td>0</td>\n",
       "      <td>0.000000e+00</td>\n",
       "      <td>0.000</td>\n",
       "      <td>0.000000e+00</td>\n",
       "      <td>0.000000e+00</td>\n",
       "      <td>Non-Tor</td>\n",
       "      <td>AUDIO-STREAMING</td>\n",
       "    </tr>\n",
       "    <tr>\n",
       "      <th>3</th>\n",
       "      <td>172.28.0.1:49134</td>\n",
       "      <td>74.125.136.120:443</td>\n",
       "      <td>6</td>\n",
       "      <td>359</td>\n",
       "      <td>1</td>\n",
       "      <td>1</td>\n",
       "      <td>0</td>\n",
       "      <td>0</td>\n",
       "      <td>0</td>\n",
       "      <td>0</td>\n",
       "      <td>...</td>\n",
       "      <td>0</td>\n",
       "      <td>0</td>\n",
       "      <td>0</td>\n",
       "      <td>0</td>\n",
       "      <td>0.000000e+00</td>\n",
       "      <td>0.000</td>\n",
       "      <td>0.000000e+00</td>\n",
       "      <td>0.000000e+00</td>\n",
       "      <td>Non-Tor</td>\n",
       "      <td>AUDIO-STREAMING</td>\n",
       "    </tr>\n",
       "    <tr>\n",
       "      <th>4</th>\n",
       "      <td>172.16.0.1:34697</td>\n",
       "      <td>173.194.65.127:19305</td>\n",
       "      <td>6</td>\n",
       "      <td>10778451</td>\n",
       "      <td>591</td>\n",
       "      <td>400</td>\n",
       "      <td>64530</td>\n",
       "      <td>6659</td>\n",
       "      <td>131</td>\n",
       "      <td>0</td>\n",
       "      <td>...</td>\n",
       "      <td>0</td>\n",
       "      <td>0</td>\n",
       "      <td>0</td>\n",
       "      <td>0</td>\n",
       "      <td>1.437760e+15</td>\n",
       "      <td>3117718.131</td>\n",
       "      <td>1.437760e+15</td>\n",
       "      <td>1.437760e+15</td>\n",
       "      <td>Non-Tor</td>\n",
       "      <td>AUDIO-STREAMING</td>\n",
       "    </tr>\n",
       "  </tbody>\n",
       "</table>\n",
       "<p>5 rows × 81 columns</p>\n",
       "</div>"
      ],
      "text/plain": [
       "             Src IP                Dst IP  Protocol  Flow Duration  \\\n",
       "0  172.29.0.1:57158     216.58.220.99:443         6            229   \n",
       "1  172.23.0.1:57159     216.58.220.99:443         6            407   \n",
       "2  172.23.0.1:57160     216.58.220.99:443         6            431   \n",
       "3  172.28.0.1:49134    74.125.136.120:443         6            359   \n",
       "4  172.16.0.1:34697  173.194.65.127:19305         6       10778451   \n",
       "\n",
       "   Total Fwd Packet  Total Bwd packets  Total Length of Fwd Packet  \\\n",
       "0                 1                  1                           0   \n",
       "1                 1                  1                           0   \n",
       "2                 1                  1                           0   \n",
       "3                 1                  1                           0   \n",
       "4               591                400                       64530   \n",
       "\n",
       "   Total Length of Bwd Packet  Fwd Packet Length Max  Fwd Packet Length Min  \\\n",
       "0                           0                      0                      0   \n",
       "1                           0                      0                      0   \n",
       "2                           0                      0                      0   \n",
       "3                           0                      0                      0   \n",
       "4                        6659                    131                      0   \n",
       "\n",
       "   ...  Active Mean  Active Std  Active Max  Active Min     Idle Mean  \\\n",
       "0  ...            0           0           0           0  0.000000e+00   \n",
       "1  ...            0           0           0           0  0.000000e+00   \n",
       "2  ...            0           0           0           0  0.000000e+00   \n",
       "3  ...            0           0           0           0  0.000000e+00   \n",
       "4  ...            0           0           0           0  1.437760e+15   \n",
       "\n",
       "      Idle Std      Idle Max      Idle Min    Label          Label.1  \n",
       "0        0.000  0.000000e+00  0.000000e+00  Non-Tor  AUDIO-STREAMING  \n",
       "1        0.000  0.000000e+00  0.000000e+00  Non-Tor  AUDIO-STREAMING  \n",
       "2        0.000  0.000000e+00  0.000000e+00  Non-Tor  AUDIO-STREAMING  \n",
       "3        0.000  0.000000e+00  0.000000e+00  Non-Tor  AUDIO-STREAMING  \n",
       "4  3117718.131  1.437760e+15  1.437760e+15  Non-Tor  AUDIO-STREAMING  \n",
       "\n",
       "[5 rows x 81 columns]"
      ]
     },
     "execution_count": 7,
     "metadata": {},
     "output_type": "execute_result"
    }
   ],
   "source": [
    "dk_ = dk.copy()\n",
    "srcip_list = [\"172.16.0.1\",\"172.17.0.1\",\"172.18.0.1\",\"172.19.0.1\",\"172.20.0.1\",\"172.21.0.1\",\"172.22.0.1\",\"172.23.0.1\",\n",
    "              \"172.24.0.1\",\"172.25.0.1\",\"172.26.0.1\",\"172.27.0.1\",\"172.28.0.1\",\"172.29.0.1\",\"172.30.0.1\",\"172.31.0.1\"]\n",
    "dk_['Src IP'] = np.random.choice(srcip_list, dk_.shape[0])\n",
    "\n",
    "dk_['Src IP'] = dk_['Src IP'].astype(str)+\":\"+dk_['Src Port'].astype(str)\n",
    "dk_['Dst IP'] = dk_['Dst IP'].astype(str)+\":\"+dk_['Dst Port'].astype(str)\n",
    "dk_.drop(columns=['Timestamp','Flow ID','Src Port','Dst Port'], inplace=True)\n",
    "dk_.head()"
   ]
  },
  {
   "cell_type": "code",
   "execution_count": 39,
   "metadata": {},
   "outputs": [],
   "source": [
    "mask = dk_.Label == 'Non-Tor'\n",
    "mask_ = dk_.Label == 'NonVPN'\n",
    "column_name = 'Label.1'\n",
    "dk_.loc[mask, column_name] = 'Normal'\n",
    "dk_.loc[mask_, column_name] = 'Normal'"
   ]
  },
  {
   "cell_type": "code",
   "execution_count": 40,
   "metadata": {},
   "outputs": [
    {
     "data": {
      "text/html": [
       "<div>\n",
       "<style scoped>\n",
       "    .dataframe tbody tr th:only-of-type {\n",
       "        vertical-align: middle;\n",
       "    }\n",
       "\n",
       "    .dataframe tbody tr th {\n",
       "        vertical-align: top;\n",
       "    }\n",
       "\n",
       "    .dataframe thead th {\n",
       "        text-align: right;\n",
       "    }\n",
       "</style>\n",
       "<table border=\"1\" class=\"dataframe\">\n",
       "  <thead>\n",
       "    <tr style=\"text-align: right;\">\n",
       "      <th></th>\n",
       "      <th>Src IP</th>\n",
       "      <th>Dst IP</th>\n",
       "      <th>Protocol</th>\n",
       "      <th>Flow Duration</th>\n",
       "      <th>Total Fwd Packet</th>\n",
       "      <th>Total Bwd packets</th>\n",
       "      <th>Total Length of Fwd Packet</th>\n",
       "      <th>Total Length of Bwd Packet</th>\n",
       "      <th>Fwd Packet Length Max</th>\n",
       "      <th>Fwd Packet Length Min</th>\n",
       "      <th>...</th>\n",
       "      <th>Active Mean</th>\n",
       "      <th>Active Std</th>\n",
       "      <th>Active Max</th>\n",
       "      <th>Active Min</th>\n",
       "      <th>Idle Mean</th>\n",
       "      <th>Idle Std</th>\n",
       "      <th>Idle Max</th>\n",
       "      <th>Idle Min</th>\n",
       "      <th>Label</th>\n",
       "      <th>Label.1</th>\n",
       "    </tr>\n",
       "  </thead>\n",
       "  <tbody>\n",
       "    <tr>\n",
       "      <th>0</th>\n",
       "      <td>172.29.0.1:57158</td>\n",
       "      <td>216.58.220.99:443</td>\n",
       "      <td>6</td>\n",
       "      <td>229</td>\n",
       "      <td>1</td>\n",
       "      <td>1</td>\n",
       "      <td>0</td>\n",
       "      <td>0</td>\n",
       "      <td>0</td>\n",
       "      <td>0</td>\n",
       "      <td>...</td>\n",
       "      <td>0</td>\n",
       "      <td>0</td>\n",
       "      <td>0</td>\n",
       "      <td>0</td>\n",
       "      <td>0.000000e+00</td>\n",
       "      <td>0.000</td>\n",
       "      <td>0.000000e+00</td>\n",
       "      <td>0.000000e+00</td>\n",
       "      <td>Non-Tor</td>\n",
       "      <td>Normal</td>\n",
       "    </tr>\n",
       "    <tr>\n",
       "      <th>1</th>\n",
       "      <td>172.23.0.1:57159</td>\n",
       "      <td>216.58.220.99:443</td>\n",
       "      <td>6</td>\n",
       "      <td>407</td>\n",
       "      <td>1</td>\n",
       "      <td>1</td>\n",
       "      <td>0</td>\n",
       "      <td>0</td>\n",
       "      <td>0</td>\n",
       "      <td>0</td>\n",
       "      <td>...</td>\n",
       "      <td>0</td>\n",
       "      <td>0</td>\n",
       "      <td>0</td>\n",
       "      <td>0</td>\n",
       "      <td>0.000000e+00</td>\n",
       "      <td>0.000</td>\n",
       "      <td>0.000000e+00</td>\n",
       "      <td>0.000000e+00</td>\n",
       "      <td>Non-Tor</td>\n",
       "      <td>Normal</td>\n",
       "    </tr>\n",
       "    <tr>\n",
       "      <th>2</th>\n",
       "      <td>172.23.0.1:57160</td>\n",
       "      <td>216.58.220.99:443</td>\n",
       "      <td>6</td>\n",
       "      <td>431</td>\n",
       "      <td>1</td>\n",
       "      <td>1</td>\n",
       "      <td>0</td>\n",
       "      <td>0</td>\n",
       "      <td>0</td>\n",
       "      <td>0</td>\n",
       "      <td>...</td>\n",
       "      <td>0</td>\n",
       "      <td>0</td>\n",
       "      <td>0</td>\n",
       "      <td>0</td>\n",
       "      <td>0.000000e+00</td>\n",
       "      <td>0.000</td>\n",
       "      <td>0.000000e+00</td>\n",
       "      <td>0.000000e+00</td>\n",
       "      <td>Non-Tor</td>\n",
       "      <td>Normal</td>\n",
       "    </tr>\n",
       "    <tr>\n",
       "      <th>3</th>\n",
       "      <td>172.28.0.1:49134</td>\n",
       "      <td>74.125.136.120:443</td>\n",
       "      <td>6</td>\n",
       "      <td>359</td>\n",
       "      <td>1</td>\n",
       "      <td>1</td>\n",
       "      <td>0</td>\n",
       "      <td>0</td>\n",
       "      <td>0</td>\n",
       "      <td>0</td>\n",
       "      <td>...</td>\n",
       "      <td>0</td>\n",
       "      <td>0</td>\n",
       "      <td>0</td>\n",
       "      <td>0</td>\n",
       "      <td>0.000000e+00</td>\n",
       "      <td>0.000</td>\n",
       "      <td>0.000000e+00</td>\n",
       "      <td>0.000000e+00</td>\n",
       "      <td>Non-Tor</td>\n",
       "      <td>Normal</td>\n",
       "    </tr>\n",
       "    <tr>\n",
       "      <th>4</th>\n",
       "      <td>172.16.0.1:34697</td>\n",
       "      <td>173.194.65.127:19305</td>\n",
       "      <td>6</td>\n",
       "      <td>10778451</td>\n",
       "      <td>591</td>\n",
       "      <td>400</td>\n",
       "      <td>64530</td>\n",
       "      <td>6659</td>\n",
       "      <td>131</td>\n",
       "      <td>0</td>\n",
       "      <td>...</td>\n",
       "      <td>0</td>\n",
       "      <td>0</td>\n",
       "      <td>0</td>\n",
       "      <td>0</td>\n",
       "      <td>1.437760e+15</td>\n",
       "      <td>3117718.131</td>\n",
       "      <td>1.437760e+15</td>\n",
       "      <td>1.437760e+15</td>\n",
       "      <td>Non-Tor</td>\n",
       "      <td>Normal</td>\n",
       "    </tr>\n",
       "  </tbody>\n",
       "</table>\n",
       "<p>5 rows × 81 columns</p>\n",
       "</div>"
      ],
      "text/plain": [
       "             Src IP                Dst IP  Protocol  Flow Duration  \\\n",
       "0  172.29.0.1:57158     216.58.220.99:443         6            229   \n",
       "1  172.23.0.1:57159     216.58.220.99:443         6            407   \n",
       "2  172.23.0.1:57160     216.58.220.99:443         6            431   \n",
       "3  172.28.0.1:49134    74.125.136.120:443         6            359   \n",
       "4  172.16.0.1:34697  173.194.65.127:19305         6       10778451   \n",
       "\n",
       "   Total Fwd Packet  Total Bwd packets  Total Length of Fwd Packet  \\\n",
       "0                 1                  1                           0   \n",
       "1                 1                  1                           0   \n",
       "2                 1                  1                           0   \n",
       "3                 1                  1                           0   \n",
       "4               591                400                       64530   \n",
       "\n",
       "   Total Length of Bwd Packet  Fwd Packet Length Max  Fwd Packet Length Min  \\\n",
       "0                           0                      0                      0   \n",
       "1                           0                      0                      0   \n",
       "2                           0                      0                      0   \n",
       "3                           0                      0                      0   \n",
       "4                        6659                    131                      0   \n",
       "\n",
       "   ...  Active Mean  Active Std  Active Max  Active Min     Idle Mean  \\\n",
       "0  ...            0           0           0           0  0.000000e+00   \n",
       "1  ...            0           0           0           0  0.000000e+00   \n",
       "2  ...            0           0           0           0  0.000000e+00   \n",
       "3  ...            0           0           0           0  0.000000e+00   \n",
       "4  ...            0           0           0           0  1.437760e+15   \n",
       "\n",
       "      Idle Std      Idle Max      Idle Min    Label  Label.1  \n",
       "0        0.000  0.000000e+00  0.000000e+00  Non-Tor   Normal  \n",
       "1        0.000  0.000000e+00  0.000000e+00  Non-Tor   Normal  \n",
       "2        0.000  0.000000e+00  0.000000e+00  Non-Tor   Normal  \n",
       "3        0.000  0.000000e+00  0.000000e+00  Non-Tor   Normal  \n",
       "4  3117718.131  1.437760e+15  1.437760e+15  Non-Tor   Normal  \n",
       "\n",
       "[5 rows x 81 columns]"
      ]
     },
     "execution_count": 40,
     "metadata": {},
     "output_type": "execute_result"
    }
   ],
   "source": [
    "dk_.head()"
   ]
  },
  {
   "cell_type": "code",
   "execution_count": 41,
   "metadata": {},
   "outputs": [
    {
     "data": {
      "text/plain": [
       "array(['Normal', 'Audio-Streaming', 'Browsing', 'Chat', 'File-Transfer',\n",
       "       'Email', 'P2P', 'Video-Streaming', 'VOIP'], dtype=object)"
      ]
     },
     "execution_count": 41,
     "metadata": {},
     "output_type": "execute_result"
    }
   ],
   "source": [
    "dk_['Label.1'].unique()"
   ]
  },
  {
   "cell_type": "code",
   "execution_count": 42,
   "metadata": {},
   "outputs": [
    {
     "data": {
      "text/plain": [
       "117219"
      ]
     },
     "execution_count": 42,
     "metadata": {},
     "output_type": "execute_result"
    }
   ],
   "source": [
    "(dk_['Label.1'] == 'Normal').sum()"
   ]
  },
  {
   "cell_type": "code",
   "execution_count": 43,
   "metadata": {},
   "outputs": [],
   "source": [
    "dk_['Label'].replace({'NonVPN':0, 'Non-Tor':0, 'Tor':1, 'VPN':1}, inplace=True)\n",
    "dk_['Label.1'].replace({'Normal':0, 'Audio-Streaming':1, 'Browsing':2, 'Chat':3, 'File-Transfer':4,\n",
    "                        'Email':5, 'P2P':6, 'Video-Streaming':7, 'VOIP':8}, inplace=True)"
   ]
  },
  {
   "cell_type": "code",
   "execution_count": 48,
   "metadata": {},
   "outputs": [
    {
     "data": {
      "text/html": [
       "<div>\n",
       "<style scoped>\n",
       "    .dataframe tbody tr th:only-of-type {\n",
       "        vertical-align: middle;\n",
       "    }\n",
       "\n",
       "    .dataframe tbody tr th {\n",
       "        vertical-align: top;\n",
       "    }\n",
       "\n",
       "    .dataframe thead th {\n",
       "        text-align: right;\n",
       "    }\n",
       "</style>\n",
       "<table border=\"1\" class=\"dataframe\">\n",
       "  <thead>\n",
       "    <tr style=\"text-align: right;\">\n",
       "      <th></th>\n",
       "      <th>Protocol</th>\n",
       "      <th>Flow Duration</th>\n",
       "      <th>Total Fwd Packet</th>\n",
       "      <th>Total Bwd packets</th>\n",
       "      <th>Total Length of Fwd Packet</th>\n",
       "      <th>Total Length of Bwd Packet</th>\n",
       "      <th>Fwd Packet Length Max</th>\n",
       "      <th>Fwd Packet Length Min</th>\n",
       "      <th>Fwd Packet Length Mean</th>\n",
       "      <th>Fwd Packet Length Std</th>\n",
       "      <th>...</th>\n",
       "      <th>Active Mean</th>\n",
       "      <th>Active Std</th>\n",
       "      <th>Active Max</th>\n",
       "      <th>Active Min</th>\n",
       "      <th>Idle Mean</th>\n",
       "      <th>Idle Std</th>\n",
       "      <th>Idle Max</th>\n",
       "      <th>Idle Min</th>\n",
       "      <th>Label</th>\n",
       "      <th>Label.1</th>\n",
       "    </tr>\n",
       "  </thead>\n",
       "  <tbody>\n",
       "    <tr>\n",
       "      <th>count</th>\n",
       "      <td>141530.000000</td>\n",
       "      <td>1.415300e+05</td>\n",
       "      <td>141530.000000</td>\n",
       "      <td>141530.000000</td>\n",
       "      <td>1.415300e+05</td>\n",
       "      <td>1.415300e+05</td>\n",
       "      <td>141530.000000</td>\n",
       "      <td>141530.000000</td>\n",
       "      <td>141530.000000</td>\n",
       "      <td>141530.000000</td>\n",
       "      <td>...</td>\n",
       "      <td>141530.0</td>\n",
       "      <td>141530.0</td>\n",
       "      <td>141530.0</td>\n",
       "      <td>141530.0</td>\n",
       "      <td>1.415300e+05</td>\n",
       "      <td>1.415300e+05</td>\n",
       "      <td>1.415300e+05</td>\n",
       "      <td>1.415300e+05</td>\n",
       "      <td>141530.000000</td>\n",
       "      <td>141530.000000</td>\n",
       "    </tr>\n",
       "    <tr>\n",
       "      <th>mean</th>\n",
       "      <td>10.350427</td>\n",
       "      <td>2.081280e+07</td>\n",
       "      <td>152.800749</td>\n",
       "      <td>154.642062</td>\n",
       "      <td>1.126211e+05</td>\n",
       "      <td>1.304530e+05</td>\n",
       "      <td>208.920420</td>\n",
       "      <td>15.617078</td>\n",
       "      <td>69.594959</td>\n",
       "      <td>63.974203</td>\n",
       "      <td>...</td>\n",
       "      <td>0.0</td>\n",
       "      <td>0.0</td>\n",
       "      <td>0.0</td>\n",
       "      <td>0.0</td>\n",
       "      <td>7.028030e+14</td>\n",
       "      <td>5.526137e+13</td>\n",
       "      <td>7.305885e+14</td>\n",
       "      <td>5.994078e+14</td>\n",
       "      <td>0.171773</td>\n",
       "      <td>0.446866</td>\n",
       "    </tr>\n",
       "    <tr>\n",
       "      <th>std</th>\n",
       "      <td>5.431807</td>\n",
       "      <td>3.809155e+07</td>\n",
       "      <td>2378.323352</td>\n",
       "      <td>3418.715287</td>\n",
       "      <td>3.251357e+06</td>\n",
       "      <td>4.566180e+06</td>\n",
       "      <td>649.432333</td>\n",
       "      <td>31.312298</td>\n",
       "      <td>219.965954</td>\n",
       "      <td>168.646012</td>\n",
       "      <td>...</td>\n",
       "      <td>0.0</td>\n",
       "      <td>0.0</td>\n",
       "      <td>0.0</td>\n",
       "      <td>0.0</td>\n",
       "      <td>7.058710e+14</td>\n",
       "      <td>1.930165e+14</td>\n",
       "      <td>7.248202e+14</td>\n",
       "      <td>7.138287e+14</td>\n",
       "      <td>0.377184</td>\n",
       "      <td>1.331424</td>\n",
       "    </tr>\n",
       "    <tr>\n",
       "      <th>min</th>\n",
       "      <td>0.000000</td>\n",
       "      <td>0.000000e+00</td>\n",
       "      <td>1.000000</td>\n",
       "      <td>0.000000</td>\n",
       "      <td>0.000000e+00</td>\n",
       "      <td>0.000000e+00</td>\n",
       "      <td>0.000000</td>\n",
       "      <td>0.000000</td>\n",
       "      <td>0.000000</td>\n",
       "      <td>0.000000</td>\n",
       "      <td>...</td>\n",
       "      <td>0.0</td>\n",
       "      <td>0.0</td>\n",
       "      <td>0.0</td>\n",
       "      <td>0.0</td>\n",
       "      <td>0.000000e+00</td>\n",
       "      <td>0.000000e+00</td>\n",
       "      <td>0.000000e+00</td>\n",
       "      <td>0.000000e+00</td>\n",
       "      <td>0.000000</td>\n",
       "      <td>0.000000</td>\n",
       "    </tr>\n",
       "    <tr>\n",
       "      <th>25%</th>\n",
       "      <td>6.000000</td>\n",
       "      <td>1.778100e+04</td>\n",
       "      <td>1.000000</td>\n",
       "      <td>0.000000</td>\n",
       "      <td>0.000000e+00</td>\n",
       "      <td>0.000000e+00</td>\n",
       "      <td>0.000000</td>\n",
       "      <td>0.000000</td>\n",
       "      <td>0.000000</td>\n",
       "      <td>0.000000</td>\n",
       "      <td>...</td>\n",
       "      <td>0.0</td>\n",
       "      <td>0.0</td>\n",
       "      <td>0.0</td>\n",
       "      <td>0.0</td>\n",
       "      <td>0.000000e+00</td>\n",
       "      <td>0.000000e+00</td>\n",
       "      <td>0.000000e+00</td>\n",
       "      <td>0.000000e+00</td>\n",
       "      <td>0.000000</td>\n",
       "      <td>0.000000</td>\n",
       "    </tr>\n",
       "    <tr>\n",
       "      <th>50%</th>\n",
       "      <td>6.000000</td>\n",
       "      <td>4.162820e+05</td>\n",
       "      <td>2.000000</td>\n",
       "      <td>1.000000</td>\n",
       "      <td>4.400000e+01</td>\n",
       "      <td>0.000000e+00</td>\n",
       "      <td>34.000000</td>\n",
       "      <td>0.000000</td>\n",
       "      <td>22.666667</td>\n",
       "      <td>0.000000</td>\n",
       "      <td>...</td>\n",
       "      <td>0.0</td>\n",
       "      <td>0.0</td>\n",
       "      <td>0.0</td>\n",
       "      <td>0.0</td>\n",
       "      <td>7.281250e+14</td>\n",
       "      <td>0.000000e+00</td>\n",
       "      <td>1.427730e+15</td>\n",
       "      <td>5.584614e+06</td>\n",
       "      <td>0.000000</td>\n",
       "      <td>0.000000</td>\n",
       "    </tr>\n",
       "    <tr>\n",
       "      <th>75%</th>\n",
       "      <td>17.000000</td>\n",
       "      <td>1.181470e+07</td>\n",
       "      <td>4.000000</td>\n",
       "      <td>3.000000</td>\n",
       "      <td>2.160000e+02</td>\n",
       "      <td>2.160000e+02</td>\n",
       "      <td>103.000000</td>\n",
       "      <td>31.000000</td>\n",
       "      <td>45.000000</td>\n",
       "      <td>39.259818</td>\n",
       "      <td>...</td>\n",
       "      <td>0.0</td>\n",
       "      <td>0.0</td>\n",
       "      <td>0.0</td>\n",
       "      <td>0.0</td>\n",
       "      <td>1.456260e+15</td>\n",
       "      <td>1.031457e+07</td>\n",
       "      <td>1.456320e+15</td>\n",
       "      <td>1.456260e+15</td>\n",
       "      <td>0.000000</td>\n",
       "      <td>0.000000</td>\n",
       "    </tr>\n",
       "    <tr>\n",
       "      <th>max</th>\n",
       "      <td>17.000000</td>\n",
       "      <td>1.200000e+08</td>\n",
       "      <td>238161.000000</td>\n",
       "      <td>470862.000000</td>\n",
       "      <td>7.693074e+08</td>\n",
       "      <td>6.704287e+08</td>\n",
       "      <td>64240.000000</td>\n",
       "      <td>1350.000000</td>\n",
       "      <td>28502.368970</td>\n",
       "      <td>15870.122980</td>\n",
       "      <td>...</td>\n",
       "      <td>0.0</td>\n",
       "      <td>0.0</td>\n",
       "      <td>0.0</td>\n",
       "      <td>0.0</td>\n",
       "      <td>1.460000e+15</td>\n",
       "      <td>1.030000e+15</td>\n",
       "      <td>1.460000e+15</td>\n",
       "      <td>1.460000e+15</td>\n",
       "      <td>1.000000</td>\n",
       "      <td>8.000000</td>\n",
       "    </tr>\n",
       "  </tbody>\n",
       "</table>\n",
       "<p>8 rows × 79 columns</p>\n",
       "</div>"
      ],
      "text/plain": [
       "            Protocol  Flow Duration  Total Fwd Packet  Total Bwd packets  \\\n",
       "count  141530.000000   1.415300e+05     141530.000000      141530.000000   \n",
       "mean       10.350427   2.081280e+07        152.800749         154.642062   \n",
       "std         5.431807   3.809155e+07       2378.323352        3418.715287   \n",
       "min         0.000000   0.000000e+00          1.000000           0.000000   \n",
       "25%         6.000000   1.778100e+04          1.000000           0.000000   \n",
       "50%         6.000000   4.162820e+05          2.000000           1.000000   \n",
       "75%        17.000000   1.181470e+07          4.000000           3.000000   \n",
       "max        17.000000   1.200000e+08     238161.000000      470862.000000   \n",
       "\n",
       "       Total Length of Fwd Packet  Total Length of Bwd Packet  \\\n",
       "count                1.415300e+05                1.415300e+05   \n",
       "mean                 1.126211e+05                1.304530e+05   \n",
       "std                  3.251357e+06                4.566180e+06   \n",
       "min                  0.000000e+00                0.000000e+00   \n",
       "25%                  0.000000e+00                0.000000e+00   \n",
       "50%                  4.400000e+01                0.000000e+00   \n",
       "75%                  2.160000e+02                2.160000e+02   \n",
       "max                  7.693074e+08                6.704287e+08   \n",
       "\n",
       "       Fwd Packet Length Max  Fwd Packet Length Min  Fwd Packet Length Mean  \\\n",
       "count          141530.000000          141530.000000           141530.000000   \n",
       "mean              208.920420              15.617078               69.594959   \n",
       "std               649.432333              31.312298              219.965954   \n",
       "min                 0.000000               0.000000                0.000000   \n",
       "25%                 0.000000               0.000000                0.000000   \n",
       "50%                34.000000               0.000000               22.666667   \n",
       "75%               103.000000              31.000000               45.000000   \n",
       "max             64240.000000            1350.000000            28502.368970   \n",
       "\n",
       "       Fwd Packet Length Std  ...  Active Mean  Active Std  Active Max  \\\n",
       "count          141530.000000  ...     141530.0    141530.0    141530.0   \n",
       "mean               63.974203  ...          0.0         0.0         0.0   \n",
       "std               168.646012  ...          0.0         0.0         0.0   \n",
       "min                 0.000000  ...          0.0         0.0         0.0   \n",
       "25%                 0.000000  ...          0.0         0.0         0.0   \n",
       "50%                 0.000000  ...          0.0         0.0         0.0   \n",
       "75%                39.259818  ...          0.0         0.0         0.0   \n",
       "max             15870.122980  ...          0.0         0.0         0.0   \n",
       "\n",
       "       Active Min     Idle Mean      Idle Std      Idle Max      Idle Min  \\\n",
       "count    141530.0  1.415300e+05  1.415300e+05  1.415300e+05  1.415300e+05   \n",
       "mean          0.0  7.028030e+14  5.526137e+13  7.305885e+14  5.994078e+14   \n",
       "std           0.0  7.058710e+14  1.930165e+14  7.248202e+14  7.138287e+14   \n",
       "min           0.0  0.000000e+00  0.000000e+00  0.000000e+00  0.000000e+00   \n",
       "25%           0.0  0.000000e+00  0.000000e+00  0.000000e+00  0.000000e+00   \n",
       "50%           0.0  7.281250e+14  0.000000e+00  1.427730e+15  5.584614e+06   \n",
       "75%           0.0  1.456260e+15  1.031457e+07  1.456320e+15  1.456260e+15   \n",
       "max           0.0  1.460000e+15  1.030000e+15  1.460000e+15  1.460000e+15   \n",
       "\n",
       "               Label        Label.1  \n",
       "count  141530.000000  141530.000000  \n",
       "mean        0.171773       0.446866  \n",
       "std         0.377184       1.331424  \n",
       "min         0.000000       0.000000  \n",
       "25%         0.000000       0.000000  \n",
       "50%         0.000000       0.000000  \n",
       "75%         0.000000       0.000000  \n",
       "max         1.000000       8.000000  \n",
       "\n",
       "[8 rows x 79 columns]"
      ]
     },
     "execution_count": 48,
     "metadata": {},
     "output_type": "execute_result"
    }
   ],
   "source": [
    "dk_.describe()"
   ]
  },
  {
   "cell_type": "code",
   "execution_count": 44,
   "metadata": {},
   "outputs": [
    {
     "name": "stdout",
     "output_type": "stream",
     "text": [
      "<class 'pandas.core.frame.DataFrame'>\n",
      "RangeIndex: 141530 entries, 0 to 141529\n",
      "Data columns (total 81 columns):\n",
      " #   Column                      Non-Null Count   Dtype  \n",
      "---  ------                      --------------   -----  \n",
      " 0   Src IP                      141530 non-null  object \n",
      " 1   Dst IP                      141530 non-null  object \n",
      " 2   Protocol                    141530 non-null  int64  \n",
      " 3   Flow Duration               141530 non-null  int64  \n",
      " 4   Total Fwd Packet            141530 non-null  int64  \n",
      " 5   Total Bwd packets           141530 non-null  int64  \n",
      " 6   Total Length of Fwd Packet  141530 non-null  int64  \n",
      " 7   Total Length of Bwd Packet  141530 non-null  int64  \n",
      " 8   Fwd Packet Length Max       141530 non-null  int64  \n",
      " 9   Fwd Packet Length Min       141530 non-null  int64  \n",
      " 10  Fwd Packet Length Mean      141530 non-null  float64\n",
      " 11  Fwd Packet Length Std       141530 non-null  float64\n",
      " 12  Bwd Packet Length Max       141530 non-null  int64  \n",
      " 13  Bwd Packet Length Min       141530 non-null  int64  \n",
      " 14  Bwd Packet Length Mean      141530 non-null  float64\n",
      " 15  Bwd Packet Length Std       141530 non-null  float64\n",
      " 16  Flow Bytes/s                141483 non-null  float64\n",
      " 17  Flow Packets/s              141530 non-null  float64\n",
      " 18  Flow IAT Mean               141530 non-null  float64\n",
      " 19  Flow IAT Std                141530 non-null  float64\n",
      " 20  Flow IAT Max                141530 non-null  int64  \n",
      " 21  Flow IAT Min                141530 non-null  int64  \n",
      " 22  Fwd IAT Total               141530 non-null  int64  \n",
      " 23  Fwd IAT Mean                141530 non-null  float64\n",
      " 24  Fwd IAT Std                 141530 non-null  float64\n",
      " 25  Fwd IAT Max                 141530 non-null  int64  \n",
      " 26  Fwd IAT Min                 141530 non-null  int64  \n",
      " 27  Bwd IAT Total               141530 non-null  int64  \n",
      " 28  Bwd IAT Mean                141530 non-null  float64\n",
      " 29  Bwd IAT Std                 141530 non-null  float64\n",
      " 30  Bwd IAT Max                 141530 non-null  int64  \n",
      " 31  Bwd IAT Min                 141530 non-null  int64  \n",
      " 32  Fwd PSH Flags               141530 non-null  int64  \n",
      " 33  Bwd PSH Flags               141530 non-null  int64  \n",
      " 34  Fwd URG Flags               141530 non-null  int64  \n",
      " 35  Bwd URG Flags               141530 non-null  int64  \n",
      " 36  Fwd Header Length           141530 non-null  int64  \n",
      " 37  Bwd Header Length           141530 non-null  int64  \n",
      " 38  Fwd Packets/s               141530 non-null  float64\n",
      " 39  Bwd Packets/s               141530 non-null  float64\n",
      " 40  Packet Length Min           141530 non-null  int64  \n",
      " 41  Packet Length Max           141530 non-null  int64  \n",
      " 42  Packet Length Mean          141530 non-null  float64\n",
      " 43  Packet Length Std           141530 non-null  float64\n",
      " 44  Packet Length Variance      141530 non-null  float64\n",
      " 45  FIN Flag Count              141530 non-null  int64  \n",
      " 46  SYN Flag Count              141530 non-null  int64  \n",
      " 47  RST Flag Count              141530 non-null  int64  \n",
      " 48  PSH Flag Count              141530 non-null  int64  \n",
      " 49  ACK Flag Count              141530 non-null  int64  \n",
      " 50  URG Flag Count              141530 non-null  int64  \n",
      " 51  CWE Flag Count              141530 non-null  int64  \n",
      " 52  ECE Flag Count              141530 non-null  int64  \n",
      " 53  Down/Up Ratio               141530 non-null  int64  \n",
      " 54  Average Packet Size         141530 non-null  float64\n",
      " 55  Fwd Segment Size Avg        141530 non-null  float64\n",
      " 56  Bwd Segment Size Avg        141530 non-null  float64\n",
      " 57  Fwd Bytes/Bulk Avg          141530 non-null  int64  \n",
      " 58  Fwd Packet/Bulk Avg         141530 non-null  int64  \n",
      " 59  Fwd Bulk Rate Avg           141530 non-null  int64  \n",
      " 60  Bwd Bytes/Bulk Avg          141530 non-null  int64  \n",
      " 61  Bwd Packet/Bulk Avg         141530 non-null  int64  \n",
      " 62  Bwd Bulk Rate Avg           141530 non-null  int64  \n",
      " 63  Subflow Fwd Packets         141530 non-null  int64  \n",
      " 64  Subflow Fwd Bytes           141530 non-null  int64  \n",
      " 65  Subflow Bwd Packets         141530 non-null  int64  \n",
      " 66  Subflow Bwd Bytes           141530 non-null  int64  \n",
      " 67  FWD Init Win Bytes          141530 non-null  int64  \n",
      " 68  Bwd Init Win Bytes          141530 non-null  int64  \n",
      " 69  Fwd Act Data Pkts           141530 non-null  int64  \n",
      " 70  Fwd Seg Size Min            141530 non-null  int64  \n",
      " 71  Active Mean                 141530 non-null  int64  \n",
      " 72  Active Std                  141530 non-null  int64  \n",
      " 73  Active Max                  141530 non-null  int64  \n",
      " 74  Active Min                  141530 non-null  int64  \n",
      " 75  Idle Mean                   141530 non-null  float64\n",
      " 76  Idle Std                    141530 non-null  float64\n",
      " 77  Idle Max                    141530 non-null  float64\n",
      " 78  Idle Min                    141530 non-null  float64\n",
      " 79  Label                       141530 non-null  int64  \n",
      " 80  Label.1                     141530 non-null  int64  \n",
      "dtypes: float64(24), int64(55), object(2)\n",
      "memory usage: 87.5+ MB\n"
     ]
    }
   ],
   "source": [
    "dk_.info()"
   ]
  },
  {
   "cell_type": "code",
   "execution_count": 45,
   "metadata": {},
   "outputs": [],
   "source": [
    "dk_.to_pickle(\"dk.pkl\")\n",
    "\n",
    "srcnode = set(dk_['Src IP'])\n",
    "dtnode = set(dk_['Dst IP'])\n",
    "nodes = list(dtnode.union(srcnode))\n",
    "np.save(\"nodes.npy\", nodes)                                                                                                                                                                                                                                                                                                                                                                                                      \n",
    "\n",
    "binary = dk_['Label'].to_numpy().astype(np.int8)\n",
    "np.save(\"label_bi.npy\", binary)\n",
    "\n",
    "adj = dk_[['Src IP', 'Dst IP']].to_numpy()\n",
    "np.save(\"adj.npy\", adj)\n",
    "\n",
    "multi = dk_['Label.1'].to_numpy().astype(np.int16) \n",
    "np.save(\"label_mul.npy\", multi)"
   ]
  },
  {
   "cell_type": "code",
   "execution_count": 46,
   "metadata": {},
   "outputs": [
    {
     "name": "stdout",
     "output_type": "stream",
     "text": [
      "(141530, 77)\n"
     ]
    }
   ],
   "source": [
    "edge_feat = dk_.iloc[:,2:79].to_numpy()\n",
    "print(edge_feat.shape)\n",
    "np.save(\"edge_feat.npy\",edge_feat)"
   ]
  },
  {
   "cell_type": "code",
   "execution_count": 47,
   "metadata": {},
   "outputs": [],
   "source": [
    "dk__ = dk_.copy()\n",
    "dk__.iloc[:,2:79] = dk__.iloc[:,2:79].apply(lambda x: (x-x.mean())/ x.std(), axis=0)\n",
    "edge_feat_scaled = dk__.iloc[:,2:79].to_numpy()\n",
    "np.save(\"edge_feat_scaled.npy\",edge_feat_scaled)"
   ]
  },
  {
   "cell_type": "code",
   "execution_count": 52,
   "metadata": {},
   "outputs": [
    {
     "name": "stdout",
     "output_type": "stream",
     "text": [
      "0.5009185331731788\n"
     ]
    },
    {
     "data": {
      "text/plain": [
       "0.5009185331731788"
      ]
     },
     "execution_count": 52,
     "metadata": {},
     "output_type": "execute_result"
    }
   ],
   "source": [
    "from sklearn.metrics import f1_score, accuracy_score\n",
    "label = np.load('label_bi.npy')\n",
    "zeros = np.random.choice([0,1], label.shape)\n",
    "print(accuracy_score(label, zeros))\n",
    "f1_score(label, zeros, average='micro')"
   ]
  },
  {
   "cell_type": "code",
   "execution_count": 2,
   "metadata": {},
   "outputs": [
    {
     "data": {
      "text/plain": [
       "True"
      ]
     },
     "execution_count": 2,
     "metadata": {},
     "output_type": "execute_result"
    }
   ],
   "source": [
    "import numpy as np\n",
    "edge_feat = np.load(\"edge_feat_scaled.npy\")\n",
    "True in np.isnan(edge_feat)"
   ]
  },
  {
   "cell_type": "code",
   "execution_count": 4,
   "metadata": {},
   "outputs": [
    {
     "data": {
      "text/html": [
       "<div>\n",
       "<style scoped>\n",
       "    .dataframe tbody tr th:only-of-type {\n",
       "        vertical-align: middle;\n",
       "    }\n",
       "\n",
       "    .dataframe tbody tr th {\n",
       "        vertical-align: top;\n",
       "    }\n",
       "\n",
       "    .dataframe thead th {\n",
       "        text-align: right;\n",
       "    }\n",
       "</style>\n",
       "<table border=\"1\" class=\"dataframe\">\n",
       "  <thead>\n",
       "    <tr style=\"text-align: right;\">\n",
       "      <th></th>\n",
       "      <th>Protocol</th>\n",
       "      <th>Flow Duration</th>\n",
       "      <th>Total Fwd Packet</th>\n",
       "      <th>Total Bwd packets</th>\n",
       "      <th>Total Length of Fwd Packet</th>\n",
       "      <th>Total Length of Bwd Packet</th>\n",
       "      <th>Fwd Packet Length Max</th>\n",
       "      <th>Fwd Packet Length Min</th>\n",
       "      <th>Fwd Packet Length Mean</th>\n",
       "      <th>Fwd Packet Length Std</th>\n",
       "      <th>...</th>\n",
       "      <th>Active Mean</th>\n",
       "      <th>Active Std</th>\n",
       "      <th>Active Max</th>\n",
       "      <th>Active Min</th>\n",
       "      <th>Idle Mean</th>\n",
       "      <th>Idle Std</th>\n",
       "      <th>Idle Max</th>\n",
       "      <th>Idle Min</th>\n",
       "      <th>Label</th>\n",
       "      <th>Label.1</th>\n",
       "    </tr>\n",
       "  </thead>\n",
       "  <tbody>\n",
       "    <tr>\n",
       "      <th>count</th>\n",
       "      <td>141530.000000</td>\n",
       "      <td>1.415300e+05</td>\n",
       "      <td>141530.000000</td>\n",
       "      <td>141530.000000</td>\n",
       "      <td>1.415300e+05</td>\n",
       "      <td>1.415300e+05</td>\n",
       "      <td>141530.000000</td>\n",
       "      <td>141530.000000</td>\n",
       "      <td>141530.000000</td>\n",
       "      <td>141530.000000</td>\n",
       "      <td>...</td>\n",
       "      <td>141530.0</td>\n",
       "      <td>141530.0</td>\n",
       "      <td>141530.0</td>\n",
       "      <td>141530.0</td>\n",
       "      <td>1.415300e+05</td>\n",
       "      <td>1.415300e+05</td>\n",
       "      <td>1.415300e+05</td>\n",
       "      <td>1.415300e+05</td>\n",
       "      <td>141530.000000</td>\n",
       "      <td>141530.000000</td>\n",
       "    </tr>\n",
       "    <tr>\n",
       "      <th>mean</th>\n",
       "      <td>10.350427</td>\n",
       "      <td>2.081280e+07</td>\n",
       "      <td>152.800749</td>\n",
       "      <td>154.642062</td>\n",
       "      <td>1.126211e+05</td>\n",
       "      <td>1.304530e+05</td>\n",
       "      <td>208.920420</td>\n",
       "      <td>15.617078</td>\n",
       "      <td>69.594959</td>\n",
       "      <td>63.974203</td>\n",
       "      <td>...</td>\n",
       "      <td>0.0</td>\n",
       "      <td>0.0</td>\n",
       "      <td>0.0</td>\n",
       "      <td>0.0</td>\n",
       "      <td>7.028030e+14</td>\n",
       "      <td>5.526137e+13</td>\n",
       "      <td>7.305885e+14</td>\n",
       "      <td>5.994078e+14</td>\n",
       "      <td>0.171773</td>\n",
       "      <td>0.446866</td>\n",
       "    </tr>\n",
       "    <tr>\n",
       "      <th>std</th>\n",
       "      <td>5.431807</td>\n",
       "      <td>3.809155e+07</td>\n",
       "      <td>2378.323352</td>\n",
       "      <td>3418.715287</td>\n",
       "      <td>3.251357e+06</td>\n",
       "      <td>4.566180e+06</td>\n",
       "      <td>649.432333</td>\n",
       "      <td>31.312298</td>\n",
       "      <td>219.965954</td>\n",
       "      <td>168.646012</td>\n",
       "      <td>...</td>\n",
       "      <td>0.0</td>\n",
       "      <td>0.0</td>\n",
       "      <td>0.0</td>\n",
       "      <td>0.0</td>\n",
       "      <td>7.058710e+14</td>\n",
       "      <td>1.930165e+14</td>\n",
       "      <td>7.248202e+14</td>\n",
       "      <td>7.138287e+14</td>\n",
       "      <td>0.377184</td>\n",
       "      <td>1.331424</td>\n",
       "    </tr>\n",
       "    <tr>\n",
       "      <th>min</th>\n",
       "      <td>0.000000</td>\n",
       "      <td>0.000000e+00</td>\n",
       "      <td>1.000000</td>\n",
       "      <td>0.000000</td>\n",
       "      <td>0.000000e+00</td>\n",
       "      <td>0.000000e+00</td>\n",
       "      <td>0.000000</td>\n",
       "      <td>0.000000</td>\n",
       "      <td>0.000000</td>\n",
       "      <td>0.000000</td>\n",
       "      <td>...</td>\n",
       "      <td>0.0</td>\n",
       "      <td>0.0</td>\n",
       "      <td>0.0</td>\n",
       "      <td>0.0</td>\n",
       "      <td>0.000000e+00</td>\n",
       "      <td>0.000000e+00</td>\n",
       "      <td>0.000000e+00</td>\n",
       "      <td>0.000000e+00</td>\n",
       "      <td>0.000000</td>\n",
       "      <td>0.000000</td>\n",
       "    </tr>\n",
       "    <tr>\n",
       "      <th>25%</th>\n",
       "      <td>6.000000</td>\n",
       "      <td>1.778100e+04</td>\n",
       "      <td>1.000000</td>\n",
       "      <td>0.000000</td>\n",
       "      <td>0.000000e+00</td>\n",
       "      <td>0.000000e+00</td>\n",
       "      <td>0.000000</td>\n",
       "      <td>0.000000</td>\n",
       "      <td>0.000000</td>\n",
       "      <td>0.000000</td>\n",
       "      <td>...</td>\n",
       "      <td>0.0</td>\n",
       "      <td>0.0</td>\n",
       "      <td>0.0</td>\n",
       "      <td>0.0</td>\n",
       "      <td>0.000000e+00</td>\n",
       "      <td>0.000000e+00</td>\n",
       "      <td>0.000000e+00</td>\n",
       "      <td>0.000000e+00</td>\n",
       "      <td>0.000000</td>\n",
       "      <td>0.000000</td>\n",
       "    </tr>\n",
       "    <tr>\n",
       "      <th>50%</th>\n",
       "      <td>6.000000</td>\n",
       "      <td>4.162820e+05</td>\n",
       "      <td>2.000000</td>\n",
       "      <td>1.000000</td>\n",
       "      <td>4.400000e+01</td>\n",
       "      <td>0.000000e+00</td>\n",
       "      <td>34.000000</td>\n",
       "      <td>0.000000</td>\n",
       "      <td>22.666667</td>\n",
       "      <td>0.000000</td>\n",
       "      <td>...</td>\n",
       "      <td>0.0</td>\n",
       "      <td>0.0</td>\n",
       "      <td>0.0</td>\n",
       "      <td>0.0</td>\n",
       "      <td>7.281250e+14</td>\n",
       "      <td>0.000000e+00</td>\n",
       "      <td>1.427730e+15</td>\n",
       "      <td>5.584614e+06</td>\n",
       "      <td>0.000000</td>\n",
       "      <td>0.000000</td>\n",
       "    </tr>\n",
       "    <tr>\n",
       "      <th>75%</th>\n",
       "      <td>17.000000</td>\n",
       "      <td>1.181470e+07</td>\n",
       "      <td>4.000000</td>\n",
       "      <td>3.000000</td>\n",
       "      <td>2.160000e+02</td>\n",
       "      <td>2.160000e+02</td>\n",
       "      <td>103.000000</td>\n",
       "      <td>31.000000</td>\n",
       "      <td>45.000000</td>\n",
       "      <td>39.259818</td>\n",
       "      <td>...</td>\n",
       "      <td>0.0</td>\n",
       "      <td>0.0</td>\n",
       "      <td>0.0</td>\n",
       "      <td>0.0</td>\n",
       "      <td>1.456260e+15</td>\n",
       "      <td>1.031457e+07</td>\n",
       "      <td>1.456320e+15</td>\n",
       "      <td>1.456260e+15</td>\n",
       "      <td>0.000000</td>\n",
       "      <td>0.000000</td>\n",
       "    </tr>\n",
       "    <tr>\n",
       "      <th>max</th>\n",
       "      <td>17.000000</td>\n",
       "      <td>1.200000e+08</td>\n",
       "      <td>238161.000000</td>\n",
       "      <td>470862.000000</td>\n",
       "      <td>7.693074e+08</td>\n",
       "      <td>6.704287e+08</td>\n",
       "      <td>64240.000000</td>\n",
       "      <td>1350.000000</td>\n",
       "      <td>28502.368970</td>\n",
       "      <td>15870.122980</td>\n",
       "      <td>...</td>\n",
       "      <td>0.0</td>\n",
       "      <td>0.0</td>\n",
       "      <td>0.0</td>\n",
       "      <td>0.0</td>\n",
       "      <td>1.460000e+15</td>\n",
       "      <td>1.030000e+15</td>\n",
       "      <td>1.460000e+15</td>\n",
       "      <td>1.460000e+15</td>\n",
       "      <td>1.000000</td>\n",
       "      <td>8.000000</td>\n",
       "    </tr>\n",
       "  </tbody>\n",
       "</table>\n",
       "<p>8 rows × 79 columns</p>\n",
       "</div>"
      ],
      "text/plain": [
       "            Protocol  Flow Duration  Total Fwd Packet  Total Bwd packets  \\\n",
       "count  141530.000000   1.415300e+05     141530.000000      141530.000000   \n",
       "mean       10.350427   2.081280e+07        152.800749         154.642062   \n",
       "std         5.431807   3.809155e+07       2378.323352        3418.715287   \n",
       "min         0.000000   0.000000e+00          1.000000           0.000000   \n",
       "25%         6.000000   1.778100e+04          1.000000           0.000000   \n",
       "50%         6.000000   4.162820e+05          2.000000           1.000000   \n",
       "75%        17.000000   1.181470e+07          4.000000           3.000000   \n",
       "max        17.000000   1.200000e+08     238161.000000      470862.000000   \n",
       "\n",
       "       Total Length of Fwd Packet  Total Length of Bwd Packet  \\\n",
       "count                1.415300e+05                1.415300e+05   \n",
       "mean                 1.126211e+05                1.304530e+05   \n",
       "std                  3.251357e+06                4.566180e+06   \n",
       "min                  0.000000e+00                0.000000e+00   \n",
       "25%                  0.000000e+00                0.000000e+00   \n",
       "50%                  4.400000e+01                0.000000e+00   \n",
       "75%                  2.160000e+02                2.160000e+02   \n",
       "max                  7.693074e+08                6.704287e+08   \n",
       "\n",
       "       Fwd Packet Length Max  Fwd Packet Length Min  Fwd Packet Length Mean  \\\n",
       "count          141530.000000          141530.000000           141530.000000   \n",
       "mean              208.920420              15.617078               69.594959   \n",
       "std               649.432333              31.312298              219.965954   \n",
       "min                 0.000000               0.000000                0.000000   \n",
       "25%                 0.000000               0.000000                0.000000   \n",
       "50%                34.000000               0.000000               22.666667   \n",
       "75%               103.000000              31.000000               45.000000   \n",
       "max             64240.000000            1350.000000            28502.368970   \n",
       "\n",
       "       Fwd Packet Length Std  ...  Active Mean  Active Std  Active Max  \\\n",
       "count          141530.000000  ...     141530.0    141530.0    141530.0   \n",
       "mean               63.974203  ...          0.0         0.0         0.0   \n",
       "std               168.646012  ...          0.0         0.0         0.0   \n",
       "min                 0.000000  ...          0.0         0.0         0.0   \n",
       "25%                 0.000000  ...          0.0         0.0         0.0   \n",
       "50%                 0.000000  ...          0.0         0.0         0.0   \n",
       "75%                39.259818  ...          0.0         0.0         0.0   \n",
       "max             15870.122980  ...          0.0         0.0         0.0   \n",
       "\n",
       "       Active Min     Idle Mean      Idle Std      Idle Max      Idle Min  \\\n",
       "count    141530.0  1.415300e+05  1.415300e+05  1.415300e+05  1.415300e+05   \n",
       "mean          0.0  7.028030e+14  5.526137e+13  7.305885e+14  5.994078e+14   \n",
       "std           0.0  7.058710e+14  1.930165e+14  7.248202e+14  7.138287e+14   \n",
       "min           0.0  0.000000e+00  0.000000e+00  0.000000e+00  0.000000e+00   \n",
       "25%           0.0  0.000000e+00  0.000000e+00  0.000000e+00  0.000000e+00   \n",
       "50%           0.0  7.281250e+14  0.000000e+00  1.427730e+15  5.584614e+06   \n",
       "75%           0.0  1.456260e+15  1.031457e+07  1.456320e+15  1.456260e+15   \n",
       "max           0.0  1.460000e+15  1.030000e+15  1.460000e+15  1.460000e+15   \n",
       "\n",
       "               Label        Label.1  \n",
       "count  141530.000000  141530.000000  \n",
       "mean        0.171773       0.446866  \n",
       "std         0.377184       1.331424  \n",
       "min         0.000000       0.000000  \n",
       "25%         0.000000       0.000000  \n",
       "50%         0.000000       0.000000  \n",
       "75%         0.000000       0.000000  \n",
       "max         1.000000       8.000000  \n",
       "\n",
       "[8 rows x 79 columns]"
      ]
     },
     "execution_count": 4,
     "metadata": {},
     "output_type": "execute_result"
    }
   ],
   "source": [
    "import pandas as pd\n",
    "_dk = pd.read_pickle('dk.pkl')\n",
    "_dk.describe()"
   ]
  },
  {
   "cell_type": "code",
   "execution_count": 8,
   "metadata": {
    "scrolled": true
   },
   "outputs": [
    {
     "data": {
      "text/plain": [
       "0        NaN\n",
       "1        NaN\n",
       "2        NaN\n",
       "3        NaN\n",
       "4        NaN\n",
       "          ..\n",
       "141525   NaN\n",
       "141526   NaN\n",
       "141527   NaN\n",
       "141528   NaN\n",
       "141529   NaN\n",
       "Name: Active Min, Length: 141530, dtype: float64"
      ]
     },
     "execution_count": 8,
     "metadata": {},
     "output_type": "execute_result"
    }
   ],
   "source": [
    "(_dk.iloc[:,74]-_dk.iloc[:,74].mean())/(_dk.iloc[:,74].std())"
   ]
  },
  {
   "cell_type": "code",
   "execution_count": 9,
   "metadata": {},
   "outputs": [
    {
     "data": {
      "text/plain": [
       "False"
      ]
     },
     "execution_count": 9,
     "metadata": {},
     "output_type": "execute_result"
    }
   ],
   "source": [
    "edge_feat[np.isnan(edge_feat)]=0\n",
    "True in np.isnan(edge_feat)"
   ]
  },
  {
   "cell_type": "code",
   "execution_count": 10,
   "metadata": {},
   "outputs": [],
   "source": [
    "np.save('edge_feat_scaled.npy', edge_feat)"
   ]
  },
  {
   "cell_type": "code",
   "execution_count": 28,
   "metadata": {},
   "outputs": [],
   "source": [
    "import numpy as np\n",
    "edge_feat = np.load(\"edge_feat_scaled.npy\")\n",
    "srcip_list = list(range(35000))\n",
    "dstip_list = list(range(35001,70000))\n",
    "src = np.random.choice(srcip_list, edge_feat.shape[0])\n",
    "dst = np.random.choice(dstip_list, edge_feat.shape[0])\n",
    "adj_random = np.column_stack((src,dst))\n",
    "np.save(\"adj_random.npy\", adj_random)\n",
    "np.save(\"node_random.npy\", np.array(list(range(70000))))"
   ]
  },
  {
   "cell_type": "code",
   "execution_count": 10,
   "metadata": {},
   "outputs": [
    {
     "data": {
      "text/plain": [
       "array([ 0,  1,  2,  3,  4,  5,  6,  7,  8,  9, 10, 11, 12, 13, 14])"
      ]
     },
     "execution_count": 10,
     "metadata": {},
     "output_type": "execute_result"
    }
   ],
   "source": [
    "from sklearn.model_selection import train_test_split\n",
    "X, y = np.arange(15), np.random.choice([0,1,2],15)\n",
    "X"
   ]
  },
  {
   "cell_type": "code",
   "execution_count": 11,
   "metadata": {},
   "outputs": [
    {
     "data": {
      "text/plain": [
       "[1, 0, 1, 2, 1, 2, 0, 1, 1, 1, 0, 0, 1, 0, 1]"
      ]
     },
     "execution_count": 11,
     "metadata": {},
     "output_type": "execute_result"
    }
   ],
   "source": [
    "list(y)"
   ]
  },
  {
   "cell_type": "code",
   "execution_count": 12,
   "metadata": {},
   "outputs": [
    {
     "data": {
      "text/plain": [
       "[array([11,  1,  6,  0,  8,  9, 12,  4, 13,  5, 14]), array([ 2, 10,  3,  7])]"
      ]
     },
     "execution_count": 12,
     "metadata": {},
     "output_type": "execute_result"
    }
   ],
   "source": [
    "train_test_split(X, test_size=4, stratify=y)"
   ]
  },
  {
   "cell_type": "code",
   "execution_count": 15,
   "metadata": {},
   "outputs": [
    {
     "data": {
      "text/plain": [
       "array([1, 2])"
      ]
     },
     "execution_count": 15,
     "metadata": {},
     "output_type": "execute_result"
    }
   ],
   "source": [
    "X[[1,2]]"
   ]
  },
  {
   "cell_type": "code",
   "execution_count": 17,
   "metadata": {},
   "outputs": [
    {
     "data": {
      "text/plain": [
       "117219"
      ]
     },
     "execution_count": 17,
     "metadata": {},
     "output_type": "execute_result"
    }
   ],
   "source": [
    "label_bi = np.load(\"label_bi.npy\", allow_pickle=True)\n",
    "(label_bi == 0).sum()"
   ]
  },
  {
   "cell_type": "code",
   "execution_count": 18,
   "metadata": {},
   "outputs": [
    {
     "data": {
      "text/plain": [
       "24311"
      ]
     },
     "execution_count": 18,
     "metadata": {},
     "output_type": "execute_result"
    }
   ],
   "source": [
    "(label_bi == 1).sum()"
   ]
  },
  {
   "cell_type": "code",
   "execution_count": 19,
   "metadata": {},
   "outputs": [
    {
     "data": {
      "text/plain": [
       "13284"
      ]
     },
     "execution_count": 19,
     "metadata": {},
     "output_type": "execute_result"
    }
   ],
   "source": [
    "label_bi = np.load(\"label_mul.npy\", allow_pickle=True)\n",
    "(label_bi == 1).sum()"
   ]
  },
  {
   "cell_type": "code",
   "execution_count": 20,
   "metadata": {},
   "outputs": [
    {
     "data": {
      "text/plain": [
       "263"
      ]
     },
     "execution_count": 20,
     "metadata": {},
     "output_type": "execute_result"
    }
   ],
   "source": [
    "(label_bi == 2).sum()"
   ]
  },
  {
   "cell_type": "code",
   "execution_count": 21,
   "metadata": {},
   "outputs": [
    {
     "data": {
      "text/plain": [
       "4541"
      ]
     },
     "execution_count": 21,
     "metadata": {},
     "output_type": "execute_result"
    }
   ],
   "source": [
    "(label_bi == 3).sum()"
   ]
  },
  {
   "cell_type": "code",
   "execution_count": 22,
   "metadata": {},
   "outputs": [
    {
     "data": {
      "text/plain": [
       "2610"
      ]
     },
     "execution_count": 22,
     "metadata": {},
     "output_type": "execute_result"
    }
   ],
   "source": [
    "(label_bi == 4).sum()"
   ]
  },
  {
   "cell_type": "code",
   "execution_count": 23,
   "metadata": {},
   "outputs": [
    {
     "data": {
      "text/plain": [
       "582"
      ]
     },
     "execution_count": 23,
     "metadata": {},
     "output_type": "execute_result"
    }
   ],
   "source": [
    "(label_bi == 5).sum()"
   ]
  },
  {
   "cell_type": "code",
   "execution_count": 24,
   "metadata": {},
   "outputs": [
    {
     "data": {
      "text/plain": [
       "220"
      ]
     },
     "execution_count": 24,
     "metadata": {},
     "output_type": "execute_result"
    }
   ],
   "source": [
    "(label_bi == 6).sum()"
   ]
  },
  {
   "cell_type": "code",
   "execution_count": 25,
   "metadata": {},
   "outputs": [
    {
     "data": {
      "text/plain": [
       "1346"
      ]
     },
     "execution_count": 25,
     "metadata": {},
     "output_type": "execute_result"
    }
   ],
   "source": [
    "(label_bi == 7).sum()"
   ]
  },
  {
   "cell_type": "code",
   "execution_count": 27,
   "metadata": {},
   "outputs": [
    {
     "data": {
      "text/plain": [
       "1465"
      ]
     },
     "execution_count": 27,
     "metadata": {},
     "output_type": "execute_result"
    }
   ],
   "source": [
    "(label_bi == 8).sum()"
   ]
  },
  {
   "cell_type": "markdown",
   "metadata": {},
   "source": [
    "## adj_list"
   ]
  },
  {
   "cell_type": "code",
   "execution_count": 3,
   "metadata": {},
   "outputs": [],
   "source": [
    "import numpy as np\n",
    "import pickle\n",
    "from collections import defaultdict\n",
    "adj = np.load(\"adj_random.npy\", allow_pickle=True)\n",
    "adj_lists = defaultdict(set)  # not return keyerror when not found\n",
    "for i, line in enumerate(adj):\n",
    "    node1 = line[0]\n",
    "    node2 = line[1]\n",
    "    adj_lists[node1].add(i)  # mutual neighbor\n",
    "    adj_lists[node2].add(i)\n",
    "with open('adj_random_list.dict', 'wb') as file:\n",
    "    pickle.dump(adj_lists, file, protocol=pickle.HIGHEST_PROTOCOL)"
   ]
  },
  {
   "cell_type": "markdown",
   "metadata": {},
   "source": [
    "## Undersampling"
   ]
  },
  {
   "cell_type": "code",
   "execution_count": 1,
   "metadata": {},
   "outputs": [],
   "source": [
    "from imblearn.under_sampling import RandomUnderSampler\n",
    "from collections import Counter\n",
    "from sklearn.model_selection import train_test_split\n",
    "import numpy as np\n",
    "from collections import Counter"
   ]
  },
  {
   "cell_type": "code",
   "execution_count": 2,
   "metadata": {},
   "outputs": [
    {
     "name": "stdout",
     "output_type": "stream",
     "text": [
      "Before undersampling: Counter({0: 71667, 1: 14863})\n",
      "After undersampling: Counter({0: 14863, 1: 14863})\n"
     ]
    }
   ],
   "source": [
    "edge_feat = np.load(\"edge_feat_scaled.npy\")\n",
    "label_bi = np.load(\"label_bi.npy\")\n",
    "label_mul = np.load('label_mul.npy')\n",
    "\n",
    "num_edges = len(edge_feat)\n",
    "train_val, test = train_test_split(np.arange(num_edges), test_size=50000, stratify=label_bi)\n",
    "train_before, val = train_test_split(train_val, test_size=5000, stratify=label_bi[train_val])\n",
    "\n",
    "print(\"Before undersampling: {}\".format(Counter(label_bi[train_before])))\n",
    "rus = RandomUnderSampler(random_state=42, sampling_strategy='auto')\n",
    "train, y_rus = rus.fit_resample(train_before.reshape(-1, 1), label_bi[train_before])\n",
    "print(\"After undersampling: {}\".format(Counter(y_rus)))\n",
    "train = train.reshape(-1,)"
   ]
  },
  {
   "cell_type": "code",
   "execution_count": 3,
   "metadata": {},
   "outputs": [
    {
     "data": {
      "text/plain": [
       "(84726, 77)"
      ]
     },
     "execution_count": 3,
     "metadata": {},
     "output_type": "execute_result"
    }
   ],
   "source": [
    "edge_rus = np.concatenate((edge_feat[test], edge_feat[val], edge_feat[train]),axis=0)\n",
    "edge_rus.shape"
   ]
  },
  {
   "cell_type": "code",
   "execution_count": 4,
   "metadata": {},
   "outputs": [],
   "source": [
    "np.save('edge_feat_rus.npy', edge_rus)\n",
    "\n",
    "label_bi_rus = np.concatenate((label_bi[test], label_bi[val], label_bi[train]),axis=0)\n",
    "label_mul_rus = np.concatenate((label_mul[test], label_mul[val], label_mul[train]),axis=0)\n",
    "np.save('label_bi_rus.npy', label_bi_rus)\n",
    "np.save('label_mul_rus.npy', label_mul_rus)"
   ]
  },
  {
   "cell_type": "code",
   "execution_count": 5,
   "metadata": {},
   "outputs": [],
   "source": [
    "srcip_list = list(range(20000))\n",
    "dstip_list = list(range(20001,40000))\n",
    "src = np.random.choice(srcip_list, edge_rus.shape[0])\n",
    "dst = np.random.choice(dstip_list, edge_rus.shape[0])\n",
    "adj_rus = np.column_stack((src,dst))\n",
    "np.save('adj_rus.npy', adj_rus)"
   ]
  },
  {
   "cell_type": "code",
   "execution_count": 6,
   "metadata": {},
   "outputs": [],
   "source": [
    "import pickle\n",
    "from collections import defaultdict\n",
    "adj = np.load(\"adj_rus.npy\", allow_pickle=True)\n",
    "adj_lists = defaultdict(set)  # not return keyerror when not found\n",
    "for i, line in enumerate(adj):\n",
    "    node1 = line[0]\n",
    "    node2 = line[1]\n",
    "    adj_lists[node1].add(i)  # mutual neighbor\n",
    "    adj_lists[node2].add(i)\n",
    "with open('adj_rus_list.dict', 'wb') as file:\n",
    "    pickle.dump(adj_lists, file, protocol=pickle.HIGHEST_PROTOCOL)"
   ]
  }
 ],
 "metadata": {
  "kernelspec": {
   "display_name": "Python 3",
   "language": "python",
   "name": "python3"
  },
  "language_info": {
   "codemirror_mode": {
    "name": "ipython",
    "version": 3
   },
   "file_extension": ".py",
   "mimetype": "text/x-python",
   "name": "python",
   "nbconvert_exporter": "python",
   "pygments_lexer": "ipython3",
   "version": "3.7.6"
  }
 },
 "nbformat": 4,
 "nbformat_minor": 4
}
